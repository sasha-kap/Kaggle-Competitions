{
 "cells": [
  {
   "cell_type": "code",
   "execution_count": 131,
   "metadata": {},
   "outputs": [
    {
     "name": "stdout",
     "output_type": "stream",
     "text": [
      "3.6.6 |Anaconda, Inc.| (default, Jun 28 2018, 11:07:29) \n",
      "[GCC 4.2.1 Compatible Clang 4.0.1 (tags/RELEASE_401/final)]\n"
     ]
    }
   ],
   "source": [
    "import sys\n",
    "print(sys.version)"
   ]
  },
  {
   "cell_type": "code",
   "execution_count": 369,
   "metadata": {},
   "outputs": [],
   "source": [
    "import datetime\n",
    "import sqlite3\n",
    "\n",
    "import pandas as pd\n",
    "import numpy as np\n",
    "import matplotlib.pyplot as plt\n",
    "import matplotlib.dates as mdates\n",
    "import seaborn as sns\n",
    "\n",
    "from scipy.stats import variation\n",
    "\n",
    "#set max columns displayed to 100\n",
    "pd.set_option('display.max_columns',100)"
   ]
  },
  {
   "cell_type": "markdown",
   "metadata": {},
   "source": [
    "### TRAIN DATASET"
   ]
  },
  {
   "cell_type": "code",
   "execution_count": 3,
   "metadata": {},
   "outputs": [],
   "source": [
    "# First, let's import the train dataset: daily historical data from January 2013 to October 2015.\n",
    "sales = pd.read_csv('./Data/competitive-data-science-predict-future-sales/sales_train.csv')"
   ]
  },
  {
   "cell_type": "code",
   "execution_count": 4,
   "metadata": {},
   "outputs": [
    {
     "data": {
      "text/plain": [
       "(2935849, 6)"
      ]
     },
     "execution_count": 4,
     "metadata": {},
     "output_type": "execute_result"
    }
   ],
   "source": [
    "sales.shape"
   ]
  },
  {
   "cell_type": "code",
   "execution_count": 5,
   "metadata": {},
   "outputs": [
    {
     "data": {
      "text/html": [
       "<div>\n",
       "<style scoped>\n",
       "    .dataframe tbody tr th:only-of-type {\n",
       "        vertical-align: middle;\n",
       "    }\n",
       "\n",
       "    .dataframe tbody tr th {\n",
       "        vertical-align: top;\n",
       "    }\n",
       "\n",
       "    .dataframe thead th {\n",
       "        text-align: right;\n",
       "    }\n",
       "</style>\n",
       "<table border=\"1\" class=\"dataframe\">\n",
       "  <thead>\n",
       "    <tr style=\"text-align: right;\">\n",
       "      <th></th>\n",
       "      <th>date</th>\n",
       "      <th>date_block_num</th>\n",
       "      <th>shop_id</th>\n",
       "      <th>item_id</th>\n",
       "      <th>item_price</th>\n",
       "      <th>item_cnt_day</th>\n",
       "    </tr>\n",
       "  </thead>\n",
       "  <tbody>\n",
       "    <tr>\n",
       "      <th>0</th>\n",
       "      <td>02.01.2013</td>\n",
       "      <td>0</td>\n",
       "      <td>59</td>\n",
       "      <td>22154</td>\n",
       "      <td>999.00</td>\n",
       "      <td>1.0</td>\n",
       "    </tr>\n",
       "    <tr>\n",
       "      <th>1</th>\n",
       "      <td>03.01.2013</td>\n",
       "      <td>0</td>\n",
       "      <td>25</td>\n",
       "      <td>2552</td>\n",
       "      <td>899.00</td>\n",
       "      <td>1.0</td>\n",
       "    </tr>\n",
       "    <tr>\n",
       "      <th>2</th>\n",
       "      <td>05.01.2013</td>\n",
       "      <td>0</td>\n",
       "      <td>25</td>\n",
       "      <td>2552</td>\n",
       "      <td>899.00</td>\n",
       "      <td>-1.0</td>\n",
       "    </tr>\n",
       "    <tr>\n",
       "      <th>3</th>\n",
       "      <td>06.01.2013</td>\n",
       "      <td>0</td>\n",
       "      <td>25</td>\n",
       "      <td>2554</td>\n",
       "      <td>1709.05</td>\n",
       "      <td>1.0</td>\n",
       "    </tr>\n",
       "    <tr>\n",
       "      <th>4</th>\n",
       "      <td>15.01.2013</td>\n",
       "      <td>0</td>\n",
       "      <td>25</td>\n",
       "      <td>2555</td>\n",
       "      <td>1099.00</td>\n",
       "      <td>1.0</td>\n",
       "    </tr>\n",
       "  </tbody>\n",
       "</table>\n",
       "</div>"
      ],
      "text/plain": [
       "         date  date_block_num  shop_id  item_id  item_price  item_cnt_day\n",
       "0  02.01.2013               0       59    22154      999.00           1.0\n",
       "1  03.01.2013               0       25     2552      899.00           1.0\n",
       "2  05.01.2013               0       25     2552      899.00          -1.0\n",
       "3  06.01.2013               0       25     2554     1709.05           1.0\n",
       "4  15.01.2013               0       25     2555     1099.00           1.0"
      ]
     },
     "execution_count": 5,
     "metadata": {},
     "output_type": "execute_result"
    }
   ],
   "source": [
    "sales.head()"
   ]
  },
  {
   "cell_type": "code",
   "execution_count": 6,
   "metadata": {},
   "outputs": [
    {
     "name": "stdout",
     "output_type": "stream",
     "text": [
      "<class 'pandas.core.frame.DataFrame'>\n",
      "RangeIndex: 2935849 entries, 0 to 2935848\n",
      "Data columns (total 6 columns):\n",
      "date              object\n",
      "date_block_num    int64\n",
      "shop_id           int64\n",
      "item_id           int64\n",
      "item_price        float64\n",
      "item_cnt_day      float64\n",
      "dtypes: float64(2), int64(3), object(1)\n",
      "memory usage: 134.4+ MB\n"
     ]
    }
   ],
   "source": [
    "sales.info()"
   ]
  },
  {
   "cell_type": "markdown",
   "metadata": {},
   "source": [
    "Per Kaggle documentation, the columns in this dataset are:\n",
    "\n",
    "- shop_id - unique identifier of a shop\n",
    "- item_id - unique identifier of a product\n",
    "- item_cnt_day - number of products sold. You are predicting a monthly amount of this measure\n",
    "- item_price - current price of an item\n",
    "- date - date in format dd/mm/yyyy\n",
    "- date_block_num - a consecutive month number, used for convenience. January 2013 is 0, February 2013 is 1,..., October 2015 is 33"
   ]
  },
  {
   "cell_type": "code",
   "execution_count": 8,
   "metadata": {},
   "outputs": [],
   "source": [
    "# Let's convert the date column from string to datetime type\n",
    "sales.date = sales.date.apply(lambda x: datetime.datetime.strptime(x, '%d.%m.%Y'))"
   ]
  },
  {
   "cell_type": "code",
   "execution_count": 194,
   "metadata": {},
   "outputs": [
    {
     "data": {
      "text/plain": [
       "count                 2935843\n",
       "unique                   1034\n",
       "top       2013-12-28 00:00:00\n",
       "freq                     9434\n",
       "first     2013-01-01 00:00:00\n",
       "last      2015-10-31 00:00:00\n",
       "Name: date, dtype: object"
      ]
     },
     "execution_count": 194,
     "metadata": {},
     "output_type": "execute_result"
    }
   ],
   "source": [
    "sales.date.describe()"
   ]
  },
  {
   "cell_type": "code",
   "execution_count": 264,
   "metadata": {},
   "outputs": [
    {
     "data": {
      "text/plain": [
       "1034"
      ]
     },
     "execution_count": 264,
     "metadata": {},
     "output_type": "execute_result"
    }
   ],
   "source": [
    "#check that there is datetime value for each day between the first and last day in the dataset\n",
    "(sales.date.max() - sales.date.min()).days + 1"
   ]
  },
  {
   "cell_type": "markdown",
   "metadata": {},
   "source": [
    "**FINDING:** The number of days between the first and last dates in the dataset matches the number of unique dates in the dataset, so there are no gaps in dates."
   ]
  },
  {
   "cell_type": "code",
   "execution_count": 9,
   "metadata": {},
   "outputs": [
    {
     "name": "stdout",
     "output_type": "stream",
     "text": [
      "<class 'pandas.core.frame.DataFrame'>\n",
      "RangeIndex: 2935849 entries, 0 to 2935848\n",
      "Data columns (total 6 columns):\n",
      "date              datetime64[ns]\n",
      "date_block_num    int64\n",
      "shop_id           int64\n",
      "item_id           int64\n",
      "item_price        float64\n",
      "item_cnt_day      float64\n",
      "dtypes: datetime64[ns](1), float64(2), int64(3)\n",
      "memory usage: 134.4 MB\n"
     ]
    }
   ],
   "source": [
    "sales.info()"
   ]
  },
  {
   "cell_type": "code",
   "execution_count": 10,
   "metadata": {},
   "outputs": [
    {
     "data": {
      "text/plain": [
       "date              False\n",
       "date_block_num    False\n",
       "shop_id           False\n",
       "item_id           False\n",
       "item_price        False\n",
       "item_cnt_day      False\n",
       "dtype: bool"
      ]
     },
     "execution_count": 10,
     "metadata": {},
     "output_type": "execute_result"
    }
   ],
   "source": [
    "# Determine if there are any null values in the dataset\n",
    "sales.isnull().any()"
   ]
  },
  {
   "cell_type": "code",
   "execution_count": 11,
   "metadata": {},
   "outputs": [
    {
     "data": {
      "text/plain": [
       "True"
      ]
     },
     "execution_count": 11,
     "metadata": {},
     "output_type": "execute_result"
    }
   ],
   "source": [
    "# Determine if there are any duplicate rows in the dataset\n",
    "sales.duplicated().any()"
   ]
  },
  {
   "cell_type": "code",
   "execution_count": 12,
   "metadata": {},
   "outputs": [
    {
     "data": {
      "text/plain": [
       "6"
      ]
     },
     "execution_count": 12,
     "metadata": {},
     "output_type": "execute_result"
    }
   ],
   "source": [
    "# Determine how many duplicate rows exists\n",
    "sales.duplicated().sum()"
   ]
  },
  {
   "cell_type": "code",
   "execution_count": 13,
   "metadata": {},
   "outputs": [
    {
     "data": {
      "text/plain": [
       "(2935843, 6)"
      ]
     },
     "execution_count": 13,
     "metadata": {},
     "output_type": "execute_result"
    }
   ],
   "source": [
    "# Drop duplicate rows\n",
    "sales.drop_duplicates(inplace=True)\n",
    "sales.shape"
   ]
  },
  {
   "cell_type": "code",
   "execution_count": 14,
   "metadata": {},
   "outputs": [
    {
     "data": {
      "text/plain": [
       "60"
      ]
     },
     "execution_count": 14,
     "metadata": {},
     "output_type": "execute_result"
    }
   ],
   "source": [
    "# Determine the number of unique shop_id values in the dataset\n",
    "len(sales.shop_id.value_counts())"
   ]
  },
  {
   "cell_type": "code",
   "execution_count": 15,
   "metadata": {},
   "outputs": [
    {
     "data": {
      "text/plain": [
       "21807"
      ]
     },
     "execution_count": 15,
     "metadata": {},
     "output_type": "execute_result"
    }
   ],
   "source": [
    "# Determine the number of unique item_id values in the dataset\n",
    "len(sales.item_id.value_counts())"
   ]
  },
  {
   "cell_type": "code",
   "execution_count": 180,
   "metadata": {},
   "outputs": [
    {
     "data": {
      "text/plain": [
       "0"
      ]
     },
     "execution_count": 180,
     "metadata": {},
     "output_type": "execute_result"
    }
   ],
   "source": [
    "# Check that the date_block_num column was constructed accurately (i.e., it corresponds to month of date column)\n",
    "\n",
    "def month_counter(d1):\n",
    "    '''Calculates number of months between January 2013 and specified date.\n",
    "    '''\n",
    "    return (d1.year - datetime.datetime(2013,1,1).year) * 12 + d1.month - datetime.datetime(2013,1,1).month\n",
    "\n",
    "match_chck = (sales.date.apply(month_counter) != sales.date_block_num).sum()\n",
    "\n",
    "match_chck"
   ]
  },
  {
   "cell_type": "markdown",
   "metadata": {},
   "source": [
    "**FINDING:** The date_block_num column accurately reflects the month of the date column value."
   ]
  },
  {
   "cell_type": "code",
   "execution_count": 16,
   "metadata": {},
   "outputs": [
    {
     "data": {
      "image/png": "[encoded data removed]",
      "text/plain": [
       "<Figure size 720x432 with 1 Axes>"
      ]
     },
     "metadata": {
      "needs_background": "light"
     },
     "output_type": "display_data"
    }
   ],
   "source": [
    "# Check how many total sales transactions there are in each month\n",
    "monthly_sales_totals = sales.date_block_num.value_counts()\n",
    "plt.figure(figsize=(10,6))\n",
    "ax = sns.barplot(monthly_sales_totals.index, monthly_sales_totals.values)\n",
    "plt.title(\"Counts of Total Daily Transactions By Month\")\n",
    "plt.ylabel(\"# of Transactions\", fontsize=12)\n",
    "plt.xlabel(\"Month\", fontsize=12)\n",
    "plt.show()"
   ]
  },
  {
   "cell_type": "markdown",
   "metadata": {},
   "source": [
    "<b>FINDING:</b> December appears to be a high-volume month, while May appears to be a low-volume month. Other months also point to seasonality of the volume of purchases."
   ]
  },
  {
   "cell_type": "code",
   "execution_count": 158,
   "metadata": {},
   "outputs": [
    {
     "data": {
      "image/png": "[encoded data removed]",
      "text/plain": [
       "<Figure size 720x432 with 1 Axes>"
      ]
     },
     "metadata": {
      "needs_background": "light"
     },
     "output_type": "display_data"
    }
   ],
   "source": [
    "# Check how many total items were sold in each month\n",
    "monthly_item_totals = sales.groupby(\"date_block_num\")[\"item_cnt_day\"].sum()\n",
    "plt.figure(figsize=(10,6))\n",
    "ax = sns.barplot(monthly_item_totals.index, monthly_item_totals.values)\n",
    "plt.title(\"Counts of Total Items Sold By Month\")\n",
    "plt.ylabel(\"# of Items Sold\", fontsize=12)\n",
    "plt.xlabel(\"Month\", fontsize=12)\n",
    "plt.show()"
   ]
  },
  {
   "cell_type": "markdown",
   "metadata": {},
   "source": [
    "**FINDING:** Looking at monthly totals from the number of items sold perspective, we still see that December is a high-volume month, but there are small differences in this chart and the chart above that looks at item-shop-level totals by month. We also see that there is an apparent downward trend over the whole period."
   ]
  },
  {
   "cell_type": "code",
   "execution_count": 17,
   "metadata": {},
   "outputs": [
    {
     "data": {
      "text/html": [
       "<div>\n",
       "<style scoped>\n",
       "    .dataframe tbody tr th:only-of-type {\n",
       "        vertical-align: middle;\n",
       "    }\n",
       "\n",
       "    .dataframe tbody tr th {\n",
       "        vertical-align: top;\n",
       "    }\n",
       "\n",
       "    .dataframe thead th {\n",
       "        text-align: right;\n",
       "    }\n",
       "</style>\n",
       "<table border=\"1\" class=\"dataframe\">\n",
       "  <thead>\n",
       "    <tr style=\"text-align: right;\">\n",
       "      <th>shop_id</th>\n",
       "      <th>0</th>\n",
       "      <th>1</th>\n",
       "      <th>2</th>\n",
       "      <th>3</th>\n",
       "      <th>4</th>\n",
       "      <th>5</th>\n",
       "      <th>6</th>\n",
       "      <th>7</th>\n",
       "      <th>8</th>\n",
       "      <th>9</th>\n",
       "      <th>10</th>\n",
       "      <th>11</th>\n",
       "      <th>12</th>\n",
       "      <th>13</th>\n",
       "      <th>14</th>\n",
       "      <th>15</th>\n",
       "      <th>16</th>\n",
       "      <th>17</th>\n",
       "      <th>18</th>\n",
       "      <th>19</th>\n",
       "      <th>20</th>\n",
       "      <th>21</th>\n",
       "      <th>22</th>\n",
       "      <th>23</th>\n",
       "      <th>24</th>\n",
       "      <th>25</th>\n",
       "      <th>26</th>\n",
       "      <th>27</th>\n",
       "      <th>28</th>\n",
       "      <th>29</th>\n",
       "      <th>30</th>\n",
       "      <th>31</th>\n",
       "      <th>32</th>\n",
       "      <th>33</th>\n",
       "      <th>34</th>\n",
       "      <th>35</th>\n",
       "      <th>36</th>\n",
       "      <th>37</th>\n",
       "      <th>38</th>\n",
       "      <th>39</th>\n",
       "      <th>40</th>\n",
       "      <th>41</th>\n",
       "      <th>42</th>\n",
       "      <th>43</th>\n",
       "      <th>44</th>\n",
       "      <th>45</th>\n",
       "      <th>46</th>\n",
       "      <th>47</th>\n",
       "      <th>48</th>\n",
       "      <th>49</th>\n",
       "      <th>50</th>\n",
       "      <th>51</th>\n",
       "      <th>52</th>\n",
       "      <th>53</th>\n",
       "      <th>54</th>\n",
       "      <th>55</th>\n",
       "      <th>56</th>\n",
       "      <th>57</th>\n",
       "      <th>58</th>\n",
       "      <th>59</th>\n",
       "    </tr>\n",
       "  </thead>\n",
       "  <tbody>\n",
       "    <tr>\n",
       "      <th>count</th>\n",
       "      <td>9857.000000</td>\n",
       "      <td>5678.000000</td>\n",
       "      <td>25991.000000</td>\n",
       "      <td>25532.000000</td>\n",
       "      <td>38242.000000</td>\n",
       "      <td>38179.000000</td>\n",
       "      <td>82663.000000</td>\n",
       "      <td>58076.000000</td>\n",
       "      <td>3412.000000</td>\n",
       "      <td>3751.000000</td>\n",
       "      <td>21397.000000</td>\n",
       "      <td>499.0</td>\n",
       "      <td>34694.000000</td>\n",
       "      <td>17824.000000</td>\n",
       "      <td>36979.000000</td>\n",
       "      <td>59511.000000</td>\n",
       "      <td>52734.000000</td>\n",
       "      <td>22950.000000</td>\n",
       "      <td>53227.000000</td>\n",
       "      <td>63911.000000</td>\n",
       "      <td>1792.000000</td>\n",
       "      <td>58132.000000</td>\n",
       "      <td>45434.000000</td>\n",
       "      <td>6963.000000</td>\n",
       "      <td>53032.000000</td>\n",
       "      <td>186103.000000</td>\n",
       "      <td>53910.000000</td>\n",
       "      <td>105366.000000</td>\n",
       "      <td>142234.000000</td>\n",
       "      <td>49225.000000</td>\n",
       "      <td>50860.000000</td>\n",
       "      <td>235636.000000</td>\n",
       "      <td>7947.000000</td>\n",
       "      <td>5027.000000</td>\n",
       "      <td>5752.000000</td>\n",
       "      <td>58445.000000</td>\n",
       "      <td>306.0</td>\n",
       "      <td>39638.000000</td>\n",
       "      <td>46013.000000</td>\n",
       "      <td>13440.000000</td>\n",
       "      <td>4257.000000</td>\n",
       "      <td>41967.000000</td>\n",
       "      <td>109252.000000</td>\n",
       "      <td>39282.000000</td>\n",
       "      <td>39530.000000</td>\n",
       "      <td>35891.000000</td>\n",
       "      <td>66321.000000</td>\n",
       "      <td>56695.000000</td>\n",
       "      <td>21612.000000</td>\n",
       "      <td>15849.000000</td>\n",
       "      <td>65171.000000</td>\n",
       "      <td>44433.000000</td>\n",
       "      <td>43502.000000</td>\n",
       "      <td>52921.000000</td>\n",
       "      <td>143479.000000</td>\n",
       "      <td>34769.000000</td>\n",
       "      <td>69573.000000</td>\n",
       "      <td>117428.000000</td>\n",
       "      <td>71441.000000</td>\n",
       "      <td>42108.000000</td>\n",
       "    </tr>\n",
       "    <tr>\n",
       "      <th>mean</th>\n",
       "      <td>0.513747</td>\n",
       "      <td>0.525537</td>\n",
       "      <td>16.691855</td>\n",
       "      <td>15.927424</td>\n",
       "      <td>14.507740</td>\n",
       "      <td>16.520574</td>\n",
       "      <td>14.063269</td>\n",
       "      <td>14.853365</td>\n",
       "      <td>0.866061</td>\n",
       "      <td>18.944548</td>\n",
       "      <td>14.182128</td>\n",
       "      <td>25.0</td>\n",
       "      <td>17.484407</td>\n",
       "      <td>8.456744</td>\n",
       "      <td>14.700533</td>\n",
       "      <td>14.258725</td>\n",
       "      <td>13.562768</td>\n",
       "      <td>14.227015</td>\n",
       "      <td>13.454600</td>\n",
       "      <td>14.484893</td>\n",
       "      <td>26.671875</td>\n",
       "      <td>16.161907</td>\n",
       "      <td>14.645134</td>\n",
       "      <td>1.455838</td>\n",
       "      <td>14.689207</td>\n",
       "      <td>15.066350</td>\n",
       "      <td>14.201428</td>\n",
       "      <td>14.513154</td>\n",
       "      <td>14.811283</td>\n",
       "      <td>12.077583</td>\n",
       "      <td>11.074479</td>\n",
       "      <td>14.935341</td>\n",
       "      <td>2.489493</td>\n",
       "      <td>22.950467</td>\n",
       "      <td>25.989221</td>\n",
       "      <td>15.249722</td>\n",
       "      <td>33.0</td>\n",
       "      <td>13.845653</td>\n",
       "      <td>15.883055</td>\n",
       "      <td>23.520833</td>\n",
       "      <td>19.662203</td>\n",
       "      <td>13.466080</td>\n",
       "      <td>16.135860</td>\n",
       "      <td>11.758133</td>\n",
       "      <td>13.824817</td>\n",
       "      <td>13.846424</td>\n",
       "      <td>14.360851</td>\n",
       "      <td>16.592927</td>\n",
       "      <td>23.830326</td>\n",
       "      <td>22.462300</td>\n",
       "      <td>12.459576</td>\n",
       "      <td>12.461166</td>\n",
       "      <td>14.641879</td>\n",
       "      <td>14.886699</td>\n",
       "      <td>11.852585</td>\n",
       "      <td>20.666513</td>\n",
       "      <td>14.301511</td>\n",
       "      <td>15.116378</td>\n",
       "      <td>15.726432</td>\n",
       "      <td>14.301320</td>\n",
       "    </tr>\n",
       "    <tr>\n",
       "      <th>std</th>\n",
       "      <td>0.499836</td>\n",
       "      <td>0.499391</td>\n",
       "      <td>9.547010</td>\n",
       "      <td>9.418781</td>\n",
       "      <td>9.549651</td>\n",
       "      <td>9.146677</td>\n",
       "      <td>9.330895</td>\n",
       "      <td>9.427724</td>\n",
       "      <td>0.814302</td>\n",
       "      <td>9.239632</td>\n",
       "      <td>9.400191</td>\n",
       "      <td>0.0</td>\n",
       "      <td>9.643071</td>\n",
       "      <td>5.431443</td>\n",
       "      <td>9.883468</td>\n",
       "      <td>9.416648</td>\n",
       "      <td>9.712060</td>\n",
       "      <td>5.544127</td>\n",
       "      <td>9.855083</td>\n",
       "      <td>9.548045</td>\n",
       "      <td>5.992693</td>\n",
       "      <td>9.580284</td>\n",
       "      <td>9.705284</td>\n",
       "      <td>1.104115</td>\n",
       "      <td>9.148441</td>\n",
       "      <td>9.728439</td>\n",
       "      <td>9.559257</td>\n",
       "      <td>8.786275</td>\n",
       "      <td>9.454782</td>\n",
       "      <td>8.199808</td>\n",
       "      <td>7.322799</td>\n",
       "      <td>9.544102</td>\n",
       "      <td>1.689229</td>\n",
       "      <td>1.883741</td>\n",
       "      <td>4.242381</td>\n",
       "      <td>9.494405</td>\n",
       "      <td>0.0</td>\n",
       "      <td>10.126074</td>\n",
       "      <td>9.655999</td>\n",
       "      <td>5.709685</td>\n",
       "      <td>3.279946</td>\n",
       "      <td>9.151204</td>\n",
       "      <td>9.779877</td>\n",
       "      <td>7.241830</td>\n",
       "      <td>9.341741</td>\n",
       "      <td>9.315826</td>\n",
       "      <td>9.456020</td>\n",
       "      <td>9.641717</td>\n",
       "      <td>5.209350</td>\n",
       "      <td>6.223397</td>\n",
       "      <td>8.846800</td>\n",
       "      <td>8.930045</td>\n",
       "      <td>9.437649</td>\n",
       "      <td>9.377312</td>\n",
       "      <td>7.832074</td>\n",
       "      <td>7.897850</td>\n",
       "      <td>9.329751</td>\n",
       "      <td>8.872493</td>\n",
       "      <td>8.875159</td>\n",
       "      <td>9.560465</td>\n",
       "    </tr>\n",
       "    <tr>\n",
       "      <th>min</th>\n",
       "      <td>0.000000</td>\n",
       "      <td>0.000000</td>\n",
       "      <td>0.000000</td>\n",
       "      <td>0.000000</td>\n",
       "      <td>0.000000</td>\n",
       "      <td>1.000000</td>\n",
       "      <td>0.000000</td>\n",
       "      <td>0.000000</td>\n",
       "      <td>0.000000</td>\n",
       "      <td>9.000000</td>\n",
       "      <td>0.000000</td>\n",
       "      <td>25.0</td>\n",
       "      <td>0.000000</td>\n",
       "      <td>0.000000</td>\n",
       "      <td>0.000000</td>\n",
       "      <td>0.000000</td>\n",
       "      <td>0.000000</td>\n",
       "      <td>5.000000</td>\n",
       "      <td>0.000000</td>\n",
       "      <td>0.000000</td>\n",
       "      <td>21.000000</td>\n",
       "      <td>0.000000</td>\n",
       "      <td>0.000000</td>\n",
       "      <td>0.000000</td>\n",
       "      <td>0.000000</td>\n",
       "      <td>0.000000</td>\n",
       "      <td>0.000000</td>\n",
       "      <td>0.000000</td>\n",
       "      <td>0.000000</td>\n",
       "      <td>0.000000</td>\n",
       "      <td>0.000000</td>\n",
       "      <td>0.000000</td>\n",
       "      <td>0.000000</td>\n",
       "      <td>19.000000</td>\n",
       "      <td>18.000000</td>\n",
       "      <td>0.000000</td>\n",
       "      <td>33.0</td>\n",
       "      <td>0.000000</td>\n",
       "      <td>0.000000</td>\n",
       "      <td>14.000000</td>\n",
       "      <td>14.000000</td>\n",
       "      <td>0.000000</td>\n",
       "      <td>0.000000</td>\n",
       "      <td>0.000000</td>\n",
       "      <td>0.000000</td>\n",
       "      <td>0.000000</td>\n",
       "      <td>0.000000</td>\n",
       "      <td>0.000000</td>\n",
       "      <td>15.000000</td>\n",
       "      <td>11.000000</td>\n",
       "      <td>0.000000</td>\n",
       "      <td>0.000000</td>\n",
       "      <td>0.000000</td>\n",
       "      <td>0.000000</td>\n",
       "      <td>0.000000</td>\n",
       "      <td>4.000000</td>\n",
       "      <td>0.000000</td>\n",
       "      <td>2.000000</td>\n",
       "      <td>2.000000</td>\n",
       "      <td>0.000000</td>\n",
       "    </tr>\n",
       "    <tr>\n",
       "      <th>25%</th>\n",
       "      <td>0.000000</td>\n",
       "      <td>0.000000</td>\n",
       "      <td>9.000000</td>\n",
       "      <td>8.000000</td>\n",
       "      <td>7.000000</td>\n",
       "      <td>9.000000</td>\n",
       "      <td>6.000000</td>\n",
       "      <td>7.000000</td>\n",
       "      <td>0.000000</td>\n",
       "      <td>9.000000</td>\n",
       "      <td>6.000000</td>\n",
       "      <td>25.0</td>\n",
       "      <td>10.000000</td>\n",
       "      <td>4.000000</td>\n",
       "      <td>6.000000</td>\n",
       "      <td>6.000000</td>\n",
       "      <td>5.000000</td>\n",
       "      <td>10.000000</td>\n",
       "      <td>5.000000</td>\n",
       "      <td>6.000000</td>\n",
       "      <td>21.000000</td>\n",
       "      <td>8.000000</td>\n",
       "      <td>6.000000</td>\n",
       "      <td>0.000000</td>\n",
       "      <td>7.000000</td>\n",
       "      <td>7.000000</td>\n",
       "      <td>6.000000</td>\n",
       "      <td>7.000000</td>\n",
       "      <td>7.000000</td>\n",
       "      <td>5.000000</td>\n",
       "      <td>5.000000</td>\n",
       "      <td>7.000000</td>\n",
       "      <td>1.000000</td>\n",
       "      <td>22.000000</td>\n",
       "      <td>23.000000</td>\n",
       "      <td>7.000000</td>\n",
       "      <td>33.0</td>\n",
       "      <td>4.000000</td>\n",
       "      <td>8.000000</td>\n",
       "      <td>19.000000</td>\n",
       "      <td>17.000000</td>\n",
       "      <td>6.000000</td>\n",
       "      <td>8.000000</td>\n",
       "      <td>6.000000</td>\n",
       "      <td>6.000000</td>\n",
       "      <td>6.000000</td>\n",
       "      <td>6.000000</td>\n",
       "      <td>9.000000</td>\n",
       "      <td>19.000000</td>\n",
       "      <td>17.000000</td>\n",
       "      <td>5.000000</td>\n",
       "      <td>5.000000</td>\n",
       "      <td>7.000000</td>\n",
       "      <td>7.000000</td>\n",
       "      <td>5.000000</td>\n",
       "      <td>15.000000</td>\n",
       "      <td>6.000000</td>\n",
       "      <td>7.000000</td>\n",
       "      <td>8.000000</td>\n",
       "      <td>6.000000</td>\n",
       "    </tr>\n",
       "    <tr>\n",
       "      <th>50%</th>\n",
       "      <td>1.000000</td>\n",
       "      <td>1.000000</td>\n",
       "      <td>17.000000</td>\n",
       "      <td>16.000000</td>\n",
       "      <td>14.000000</td>\n",
       "      <td>16.000000</td>\n",
       "      <td>13.000000</td>\n",
       "      <td>14.000000</td>\n",
       "      <td>1.000000</td>\n",
       "      <td>21.000000</td>\n",
       "      <td>13.000000</td>\n",
       "      <td>25.0</td>\n",
       "      <td>18.000000</td>\n",
       "      <td>8.000000</td>\n",
       "      <td>14.000000</td>\n",
       "      <td>13.000000</td>\n",
       "      <td>12.000000</td>\n",
       "      <td>14.000000</td>\n",
       "      <td>11.000000</td>\n",
       "      <td>13.000000</td>\n",
       "      <td>21.000000</td>\n",
       "      <td>16.000000</td>\n",
       "      <td>13.000000</td>\n",
       "      <td>1.000000</td>\n",
       "      <td>13.000000</td>\n",
       "      <td>14.000000</td>\n",
       "      <td>13.000000</td>\n",
       "      <td>14.000000</td>\n",
       "      <td>14.000000</td>\n",
       "      <td>11.000000</td>\n",
       "      <td>11.000000</td>\n",
       "      <td>14.000000</td>\n",
       "      <td>2.000000</td>\n",
       "      <td>23.000000</td>\n",
       "      <td>26.000000</td>\n",
       "      <td>14.000000</td>\n",
       "      <td>33.0</td>\n",
       "      <td>12.000000</td>\n",
       "      <td>16.000000</td>\n",
       "      <td>23.000000</td>\n",
       "      <td>20.000000</td>\n",
       "      <td>12.000000</td>\n",
       "      <td>16.000000</td>\n",
       "      <td>11.000000</td>\n",
       "      <td>13.000000</td>\n",
       "      <td>12.000000</td>\n",
       "      <td>13.000000</td>\n",
       "      <td>17.000000</td>\n",
       "      <td>23.000000</td>\n",
       "      <td>23.000000</td>\n",
       "      <td>11.000000</td>\n",
       "      <td>11.000000</td>\n",
       "      <td>14.000000</td>\n",
       "      <td>14.000000</td>\n",
       "      <td>11.000000</td>\n",
       "      <td>22.000000</td>\n",
       "      <td>13.000000</td>\n",
       "      <td>14.000000</td>\n",
       "      <td>15.000000</td>\n",
       "      <td>13.000000</td>\n",
       "    </tr>\n",
       "    <tr>\n",
       "      <th>75%</th>\n",
       "      <td>1.000000</td>\n",
       "      <td>1.000000</td>\n",
       "      <td>24.000000</td>\n",
       "      <td>24.000000</td>\n",
       "      <td>23.000000</td>\n",
       "      <td>24.000000</td>\n",
       "      <td>22.000000</td>\n",
       "      <td>23.000000</td>\n",
       "      <td>2.000000</td>\n",
       "      <td>21.000000</td>\n",
       "      <td>22.000000</td>\n",
       "      <td>25.0</td>\n",
       "      <td>25.000000</td>\n",
       "      <td>13.000000</td>\n",
       "      <td>23.000000</td>\n",
       "      <td>22.000000</td>\n",
       "      <td>22.000000</td>\n",
       "      <td>19.000000</td>\n",
       "      <td>22.000000</td>\n",
       "      <td>23.000000</td>\n",
       "      <td>33.000000</td>\n",
       "      <td>24.000000</td>\n",
       "      <td>23.000000</td>\n",
       "      <td>2.000000</td>\n",
       "      <td>22.000000</td>\n",
       "      <td>23.000000</td>\n",
       "      <td>22.000000</td>\n",
       "      <td>22.000000</td>\n",
       "      <td>23.000000</td>\n",
       "      <td>19.000000</td>\n",
       "      <td>17.000000</td>\n",
       "      <td>23.000000</td>\n",
       "      <td>4.000000</td>\n",
       "      <td>24.000000</td>\n",
       "      <td>30.000000</td>\n",
       "      <td>23.000000</td>\n",
       "      <td>33.0</td>\n",
       "      <td>23.000000</td>\n",
       "      <td>24.000000</td>\n",
       "      <td>28.000000</td>\n",
       "      <td>23.000000</td>\n",
       "      <td>21.000000</td>\n",
       "      <td>24.000000</td>\n",
       "      <td>18.000000</td>\n",
       "      <td>21.000000</td>\n",
       "      <td>22.000000</td>\n",
       "      <td>22.000000</td>\n",
       "      <td>24.000000</td>\n",
       "      <td>28.000000</td>\n",
       "      <td>28.000000</td>\n",
       "      <td>18.000000</td>\n",
       "      <td>19.000000</td>\n",
       "      <td>23.000000</td>\n",
       "      <td>23.000000</td>\n",
       "      <td>18.000000</td>\n",
       "      <td>27.000000</td>\n",
       "      <td>22.000000</td>\n",
       "      <td>23.000000</td>\n",
       "      <td>23.000000</td>\n",
       "      <td>22.000000</td>\n",
       "    </tr>\n",
       "    <tr>\n",
       "      <th>max</th>\n",
       "      <td>1.000000</td>\n",
       "      <td>1.000000</td>\n",
       "      <td>33.000000</td>\n",
       "      <td>33.000000</td>\n",
       "      <td>33.000000</td>\n",
       "      <td>33.000000</td>\n",
       "      <td>33.000000</td>\n",
       "      <td>33.000000</td>\n",
       "      <td>3.000000</td>\n",
       "      <td>33.000000</td>\n",
       "      <td>33.000000</td>\n",
       "      <td>25.0</td>\n",
       "      <td>33.000000</td>\n",
       "      <td>19.000000</td>\n",
       "      <td>33.000000</td>\n",
       "      <td>33.000000</td>\n",
       "      <td>33.000000</td>\n",
       "      <td>24.000000</td>\n",
       "      <td>33.000000</td>\n",
       "      <td>33.000000</td>\n",
       "      <td>33.000000</td>\n",
       "      <td>33.000000</td>\n",
       "      <td>33.000000</td>\n",
       "      <td>3.000000</td>\n",
       "      <td>33.000000</td>\n",
       "      <td>33.000000</td>\n",
       "      <td>33.000000</td>\n",
       "      <td>32.000000</td>\n",
       "      <td>33.000000</td>\n",
       "      <td>28.000000</td>\n",
       "      <td>25.000000</td>\n",
       "      <td>33.000000</td>\n",
       "      <td>6.000000</td>\n",
       "      <td>27.000000</td>\n",
       "      <td>33.000000</td>\n",
       "      <td>33.000000</td>\n",
       "      <td>33.0</td>\n",
       "      <td>33.000000</td>\n",
       "      <td>33.000000</td>\n",
       "      <td>33.000000</td>\n",
       "      <td>24.000000</td>\n",
       "      <td>33.000000</td>\n",
       "      <td>33.000000</td>\n",
       "      <td>24.000000</td>\n",
       "      <td>33.000000</td>\n",
       "      <td>33.000000</td>\n",
       "      <td>33.000000</td>\n",
       "      <td>33.000000</td>\n",
       "      <td>33.000000</td>\n",
       "      <td>33.000000</td>\n",
       "      <td>33.000000</td>\n",
       "      <td>32.000000</td>\n",
       "      <td>33.000000</td>\n",
       "      <td>33.000000</td>\n",
       "      <td>27.000000</td>\n",
       "      <td>33.000000</td>\n",
       "      <td>33.000000</td>\n",
       "      <td>33.000000</td>\n",
       "      <td>33.000000</td>\n",
       "      <td>33.000000</td>\n",
       "    </tr>\n",
       "  </tbody>\n",
       "</table>\n",
       "</div>"
      ],
      "text/plain": [
       "shop_id           0            1             2             3             4   \\\n",
       "count    9857.000000  5678.000000  25991.000000  25532.000000  38242.000000   \n",
       "mean        0.513747     0.525537     16.691855     15.927424     14.507740   \n",
       "std         0.499836     0.499391      9.547010      9.418781      9.549651   \n",
       "min         0.000000     0.000000      0.000000      0.000000      0.000000   \n",
       "25%         0.000000     0.000000      9.000000      8.000000      7.000000   \n",
       "50%         1.000000     1.000000     17.000000     16.000000     14.000000   \n",
       "75%         1.000000     1.000000     24.000000     24.000000     23.000000   \n",
       "max         1.000000     1.000000     33.000000     33.000000     33.000000   \n",
       "\n",
       "shop_id            5             6             7            8            9   \\\n",
       "count    38179.000000  82663.000000  58076.000000  3412.000000  3751.000000   \n",
       "mean        16.520574     14.063269     14.853365     0.866061    18.944548   \n",
       "std          9.146677      9.330895      9.427724     0.814302     9.239632   \n",
       "min          1.000000      0.000000      0.000000     0.000000     9.000000   \n",
       "25%          9.000000      6.000000      7.000000     0.000000     9.000000   \n",
       "50%         16.000000     13.000000     14.000000     1.000000    21.000000   \n",
       "75%         24.000000     22.000000     23.000000     2.000000    21.000000   \n",
       "max         33.000000     33.000000     33.000000     3.000000    33.000000   \n",
       "\n",
       "shop_id            10     11            12            13            14  \\\n",
       "count    21397.000000  499.0  34694.000000  17824.000000  36979.000000   \n",
       "mean        14.182128   25.0     17.484407      8.456744     14.700533   \n",
       "std          9.400191    0.0      9.643071      5.431443      9.883468   \n",
       "min          0.000000   25.0      0.000000      0.000000      0.000000   \n",
       "25%          6.000000   25.0     10.000000      4.000000      6.000000   \n",
       "50%         13.000000   25.0     18.000000      8.000000     14.000000   \n",
       "75%         22.000000   25.0     25.000000     13.000000     23.000000   \n",
       "max         33.000000   25.0     33.000000     19.000000     33.000000   \n",
       "\n",
       "shop_id            15            16            17            18            19  \\\n",
       "count    59511.000000  52734.000000  22950.000000  53227.000000  63911.000000   \n",
       "mean        14.258725     13.562768     14.227015     13.454600     14.484893   \n",
       "std          9.416648      9.712060      5.544127      9.855083      9.548045   \n",
       "min          0.000000      0.000000      5.000000      0.000000      0.000000   \n",
       "25%          6.000000      5.000000     10.000000      5.000000      6.000000   \n",
       "50%         13.000000     12.000000     14.000000     11.000000     13.000000   \n",
       "75%         22.000000     22.000000     19.000000     22.000000     23.000000   \n",
       "max         33.000000     33.000000     24.000000     33.000000     33.000000   \n",
       "\n",
       "shop_id           20            21            22           23            24  \\\n",
       "count    1792.000000  58132.000000  45434.000000  6963.000000  53032.000000   \n",
       "mean       26.671875     16.161907     14.645134     1.455838     14.689207   \n",
       "std         5.992693      9.580284      9.705284     1.104115      9.148441   \n",
       "min        21.000000      0.000000      0.000000     0.000000      0.000000   \n",
       "25%        21.000000      8.000000      6.000000     0.000000      7.000000   \n",
       "50%        21.000000     16.000000     13.000000     1.000000     13.000000   \n",
       "75%        33.000000     24.000000     23.000000     2.000000     22.000000   \n",
       "max        33.000000     33.000000     33.000000     3.000000     33.000000   \n",
       "\n",
       "shop_id             25            26             27             28  \\\n",
       "count    186103.000000  53910.000000  105366.000000  142234.000000   \n",
       "mean         15.066350     14.201428      14.513154      14.811283   \n",
       "std           9.728439      9.559257       8.786275       9.454782   \n",
       "min           0.000000      0.000000       0.000000       0.000000   \n",
       "25%           7.000000      6.000000       7.000000       7.000000   \n",
       "50%          14.000000     13.000000      14.000000      14.000000   \n",
       "75%          23.000000     22.000000      22.000000      23.000000   \n",
       "max          33.000000     33.000000      32.000000      33.000000   \n",
       "\n",
       "shop_id            29            30             31           32           33  \\\n",
       "count    49225.000000  50860.000000  235636.000000  7947.000000  5027.000000   \n",
       "mean        12.077583     11.074479      14.935341     2.489493    22.950467   \n",
       "std          8.199808      7.322799       9.544102     1.689229     1.883741   \n",
       "min          0.000000      0.000000       0.000000     0.000000    19.000000   \n",
       "25%          5.000000      5.000000       7.000000     1.000000    22.000000   \n",
       "50%         11.000000     11.000000      14.000000     2.000000    23.000000   \n",
       "75%         19.000000     17.000000      23.000000     4.000000    24.000000   \n",
       "max         28.000000     25.000000      33.000000     6.000000    27.000000   \n",
       "\n",
       "shop_id           34            35     36            37            38  \\\n",
       "count    5752.000000  58445.000000  306.0  39638.000000  46013.000000   \n",
       "mean       25.989221     15.249722   33.0     13.845653     15.883055   \n",
       "std         4.242381      9.494405    0.0     10.126074      9.655999   \n",
       "min        18.000000      0.000000   33.0      0.000000      0.000000   \n",
       "25%        23.000000      7.000000   33.0      4.000000      8.000000   \n",
       "50%        26.000000     14.000000   33.0     12.000000     16.000000   \n",
       "75%        30.000000     23.000000   33.0     23.000000     24.000000   \n",
       "max        33.000000     33.000000   33.0     33.000000     33.000000   \n",
       "\n",
       "shop_id            39           40            41             42            43  \\\n",
       "count    13440.000000  4257.000000  41967.000000  109252.000000  39282.000000   \n",
       "mean        23.520833    19.662203     13.466080      16.135860     11.758133   \n",
       "std          5.709685     3.279946      9.151204       9.779877      7.241830   \n",
       "min         14.000000    14.000000      0.000000       0.000000      0.000000   \n",
       "25%         19.000000    17.000000      6.000000       8.000000      6.000000   \n",
       "50%         23.000000    20.000000     12.000000      16.000000     11.000000   \n",
       "75%         28.000000    23.000000     21.000000      24.000000     18.000000   \n",
       "max         33.000000    24.000000     33.000000      33.000000     24.000000   \n",
       "\n",
       "shop_id            44            45            46            47            48  \\\n",
       "count    39530.000000  35891.000000  66321.000000  56695.000000  21612.000000   \n",
       "mean        13.824817     13.846424     14.360851     16.592927     23.830326   \n",
       "std          9.341741      9.315826      9.456020      9.641717      5.209350   \n",
       "min          0.000000      0.000000      0.000000      0.000000     15.000000   \n",
       "25%          6.000000      6.000000      6.000000      9.000000     19.000000   \n",
       "50%         13.000000     12.000000     13.000000     17.000000     23.000000   \n",
       "75%         21.000000     22.000000     22.000000     24.000000     28.000000   \n",
       "max         33.000000     33.000000     33.000000     33.000000     33.000000   \n",
       "\n",
       "shop_id            49            50            51            52            53  \\\n",
       "count    15849.000000  65171.000000  44433.000000  43502.000000  52921.000000   \n",
       "mean        22.462300     12.459576     12.461166     14.641879     14.886699   \n",
       "std          6.223397      8.846800      8.930045      9.437649      9.377312   \n",
       "min         11.000000      0.000000      0.000000      0.000000      0.000000   \n",
       "25%         17.000000      5.000000      5.000000      7.000000      7.000000   \n",
       "50%         23.000000     11.000000     11.000000     14.000000     14.000000   \n",
       "75%         28.000000     18.000000     19.000000     23.000000     23.000000   \n",
       "max         33.000000     33.000000     32.000000     33.000000     33.000000   \n",
       "\n",
       "shop_id             54            55            56             57  \\\n",
       "count    143479.000000  34769.000000  69573.000000  117428.000000   \n",
       "mean         11.852585     20.666513     14.301511      15.116378   \n",
       "std           7.832074      7.897850      9.329751       8.872493   \n",
       "min           0.000000      4.000000      0.000000       2.000000   \n",
       "25%           5.000000     15.000000      6.000000       7.000000   \n",
       "50%          11.000000     22.000000     13.000000      14.000000   \n",
       "75%          18.000000     27.000000     22.000000      23.000000   \n",
       "max          27.000000     33.000000     33.000000      33.000000   \n",
       "\n",
       "shop_id            58            59  \n",
       "count    71441.000000  42108.000000  \n",
       "mean        15.726432     14.301320  \n",
       "std          8.875159      9.560465  \n",
       "min          2.000000      0.000000  \n",
       "25%          8.000000      6.000000  \n",
       "50%         15.000000     13.000000  \n",
       "75%         23.000000     22.000000  \n",
       "max         33.000000     33.000000  "
      ]
     },
     "execution_count": 17,
     "metadata": {},
     "output_type": "execute_result"
    }
   ],
   "source": [
    "# Check distribution of month of transaction values for each shop\n",
    "sales.groupby('shop_id')['date_block_num'].describe().T"
   ]
  },
  {
   "cell_type": "code",
   "execution_count": 18,
   "metadata": {},
   "outputs": [
    {
     "data": {
      "image/png": "[encoded data removed]",
      "text/plain": [
       "<Figure size 1440x432 with 1 Axes>"
      ]
     },
     "metadata": {
      "needs_background": "light"
     },
     "output_type": "display_data"
    }
   ],
   "source": [
    "# Visualize differences in total transaction counts across all shops\n",
    "shop_tx_cts = sales.groupby('shop_id').size()\n",
    "plt.figure(figsize=(20,6))\n",
    "ax = sns.barplot(shop_tx_cts.index, shop_tx_cts.values)\n",
    "plt.title(\"Counts of Total Daily Transactions By Shop\")\n",
    "plt.ylabel(\"# of Transactions\", fontsize=12)\n",
    "plt.xlabel(\"Shop ID\", fontsize=12)\n",
    "plt.show()"
   ]
  },
  {
   "cell_type": "code",
   "execution_count": 19,
   "metadata": {},
   "outputs": [
    {
     "data": {
      "image/png": "[encoded data removed]",
      "text/plain": [
       "<Figure size 1440x432 with 1 Axes>"
      ]
     },
     "metadata": {
      "needs_background": "light"
     },
     "output_type": "display_data"
    }
   ],
   "source": [
    "# Check the distribution of the number of unique items per shop\n",
    "unique_items_by_shop = sales.groupby('shop_id')['item_id'].unique()\n",
    "unique_item_cts_by_shop = unique_items_by_shop.map(len)\n",
    "plt.figure(figsize=(20,6))\n",
    "ax = sns.barplot(unique_item_cts_by_shop.index, unique_item_cts_by_shop.values)\n",
    "plt.title(\"Counts of Unique Items By Shop\")\n",
    "plt.ylabel(\"# of Unique Items\", fontsize=12)\n",
    "plt.xlabel(\"Shop ID\", fontsize=12)\n",
    "plt.show()"
   ]
  },
  {
   "cell_type": "code",
   "execution_count": 20,
   "metadata": {},
   "outputs": [
    {
     "data": {
      "text/html": [
       "<div>\n",
       "<style scoped>\n",
       "    .dataframe tbody tr th:only-of-type {\n",
       "        vertical-align: middle;\n",
       "    }\n",
       "\n",
       "    .dataframe tbody tr th {\n",
       "        vertical-align: top;\n",
       "    }\n",
       "\n",
       "    .dataframe thead th {\n",
       "        text-align: right;\n",
       "    }\n",
       "</style>\n",
       "<table border=\"1\" class=\"dataframe\">\n",
       "  <thead>\n",
       "    <tr style=\"text-align: right;\">\n",
       "      <th></th>\n",
       "      <th>item_id</th>\n",
       "      <th>min</th>\n",
       "      <th>max</th>\n",
       "    </tr>\n",
       "  </thead>\n",
       "  <tbody>\n",
       "    <tr>\n",
       "      <th>0</th>\n",
       "      <td>0</td>\n",
       "      <td>58.0</td>\n",
       "      <td>58.0</td>\n",
       "    </tr>\n",
       "    <tr>\n",
       "      <th>1</th>\n",
       "      <td>1</td>\n",
       "      <td>4490.0</td>\n",
       "      <td>4490.0</td>\n",
       "    </tr>\n",
       "    <tr>\n",
       "      <th>2</th>\n",
       "      <td>2</td>\n",
       "      <td>58.0</td>\n",
       "      <td>58.0</td>\n",
       "    </tr>\n",
       "    <tr>\n",
       "      <th>3</th>\n",
       "      <td>3</td>\n",
       "      <td>58.0</td>\n",
       "      <td>100.0</td>\n",
       "    </tr>\n",
       "    <tr>\n",
       "      <th>4</th>\n",
       "      <td>4</td>\n",
       "      <td>58.0</td>\n",
       "      <td>58.0</td>\n",
       "    </tr>\n",
       "    <tr>\n",
       "      <th>5</th>\n",
       "      <td>5</td>\n",
       "      <td>28.0</td>\n",
       "      <td>28.0</td>\n",
       "    </tr>\n",
       "    <tr>\n",
       "      <th>6</th>\n",
       "      <td>6</td>\n",
       "      <td>100.0</td>\n",
       "      <td>100.0</td>\n",
       "    </tr>\n",
       "    <tr>\n",
       "      <th>7</th>\n",
       "      <td>7</td>\n",
       "      <td>28.0</td>\n",
       "      <td>28.0</td>\n",
       "    </tr>\n",
       "    <tr>\n",
       "      <th>8</th>\n",
       "      <td>8</td>\n",
       "      <td>58.0</td>\n",
       "      <td>58.0</td>\n",
       "    </tr>\n",
       "    <tr>\n",
       "      <th>9</th>\n",
       "      <td>9</td>\n",
       "      <td>58.0</td>\n",
       "      <td>58.0</td>\n",
       "    </tr>\n",
       "  </tbody>\n",
       "</table>\n",
       "</div>"
      ],
      "text/plain": [
       "   item_id     min     max\n",
       "0        0    58.0    58.0\n",
       "1        1  4490.0  4490.0\n",
       "2        2    58.0    58.0\n",
       "3        3    58.0   100.0\n",
       "4        4    58.0    58.0\n",
       "5        5    28.0    28.0\n",
       "6        6   100.0   100.0\n",
       "7        7    28.0    28.0\n",
       "8        8    58.0    58.0\n",
       "9        9    58.0    58.0"
      ]
     },
     "execution_count": 20,
     "metadata": {},
     "output_type": "execute_result"
    }
   ],
   "source": [
    "# Check if there are changes in prices for same item\n",
    "prices_by_item = sales.groupby('item_id')['item_price'].agg(['min','max']).reset_index()\n",
    "prices_by_item.head(10)"
   ]
  },
  {
   "cell_type": "code",
   "execution_count": 21,
   "metadata": {},
   "outputs": [
    {
     "data": {
      "text/plain": [
       "True     15881\n",
       "False     5926\n",
       "Name: price_changed, dtype: int64"
      ]
     },
     "execution_count": 21,
     "metadata": {},
     "output_type": "execute_result"
    }
   ],
   "source": [
    "prices_by_item['price_changed'] = (prices_by_item['min'] != prices_by_item['max'])\n",
    "prices_by_item.price_changed.value_counts()"
   ]
  },
  {
   "cell_type": "markdown",
   "metadata": {},
   "source": [
    "**FINDING:** About three-quarters of all items had different prices in the dataset."
   ]
  },
  {
   "cell_type": "code",
   "execution_count": 22,
   "metadata": {},
   "outputs": [
    {
     "data": {
      "text/html": [
       "<div>\n",
       "<style scoped>\n",
       "    .dataframe tbody tr th:only-of-type {\n",
       "        vertical-align: middle;\n",
       "    }\n",
       "\n",
       "    .dataframe tbody tr th {\n",
       "        vertical-align: top;\n",
       "    }\n",
       "\n",
       "    .dataframe thead th {\n",
       "        text-align: right;\n",
       "    }\n",
       "</style>\n",
       "<table border=\"1\" class=\"dataframe\">\n",
       "  <thead>\n",
       "    <tr style=\"text-align: right;\">\n",
       "      <th></th>\n",
       "      <th>item_id</th>\n",
       "      <th>min</th>\n",
       "      <th>max</th>\n",
       "      <th>price_changed</th>\n",
       "    </tr>\n",
       "  </thead>\n",
       "  <tbody>\n",
       "    <tr>\n",
       "      <th>0</th>\n",
       "      <td>0</td>\n",
       "      <td>58.0</td>\n",
       "      <td>58.0</td>\n",
       "      <td>False</td>\n",
       "    </tr>\n",
       "    <tr>\n",
       "      <th>1</th>\n",
       "      <td>1</td>\n",
       "      <td>4490.0</td>\n",
       "      <td>4490.0</td>\n",
       "      <td>False</td>\n",
       "    </tr>\n",
       "    <tr>\n",
       "      <th>2</th>\n",
       "      <td>2</td>\n",
       "      <td>58.0</td>\n",
       "      <td>58.0</td>\n",
       "      <td>False</td>\n",
       "    </tr>\n",
       "    <tr>\n",
       "      <th>3</th>\n",
       "      <td>3</td>\n",
       "      <td>58.0</td>\n",
       "      <td>100.0</td>\n",
       "      <td>True</td>\n",
       "    </tr>\n",
       "    <tr>\n",
       "      <th>4</th>\n",
       "      <td>4</td>\n",
       "      <td>58.0</td>\n",
       "      <td>58.0</td>\n",
       "      <td>False</td>\n",
       "    </tr>\n",
       "    <tr>\n",
       "      <th>5</th>\n",
       "      <td>5</td>\n",
       "      <td>28.0</td>\n",
       "      <td>28.0</td>\n",
       "      <td>False</td>\n",
       "    </tr>\n",
       "    <tr>\n",
       "      <th>6</th>\n",
       "      <td>6</td>\n",
       "      <td>100.0</td>\n",
       "      <td>100.0</td>\n",
       "      <td>False</td>\n",
       "    </tr>\n",
       "    <tr>\n",
       "      <th>7</th>\n",
       "      <td>7</td>\n",
       "      <td>28.0</td>\n",
       "      <td>28.0</td>\n",
       "      <td>False</td>\n",
       "    </tr>\n",
       "    <tr>\n",
       "      <th>8</th>\n",
       "      <td>8</td>\n",
       "      <td>58.0</td>\n",
       "      <td>58.0</td>\n",
       "      <td>False</td>\n",
       "    </tr>\n",
       "    <tr>\n",
       "      <th>9</th>\n",
       "      <td>9</td>\n",
       "      <td>58.0</td>\n",
       "      <td>58.0</td>\n",
       "      <td>False</td>\n",
       "    </tr>\n",
       "  </tbody>\n",
       "</table>\n",
       "</div>"
      ],
      "text/plain": [
       "   item_id     min     max  price_changed\n",
       "0        0    58.0    58.0          False\n",
       "1        1  4490.0  4490.0          False\n",
       "2        2    58.0    58.0          False\n",
       "3        3    58.0   100.0           True\n",
       "4        4    58.0    58.0          False\n",
       "5        5    28.0    28.0          False\n",
       "6        6   100.0   100.0          False\n",
       "7        7    28.0    28.0          False\n",
       "8        8    58.0    58.0          False\n",
       "9        9    58.0    58.0          False"
      ]
     },
     "execution_count": 22,
     "metadata": {},
     "output_type": "execute_result"
    }
   ],
   "source": [
    "prices_by_item.head(10)"
   ]
  },
  {
   "cell_type": "code",
   "execution_count": 34,
   "metadata": {},
   "outputs": [],
   "source": [
    "# Determine if prices are always the same for one item on the same day, or if they vary by shop (and/or within one shop on same day)\n",
    "prices_by_date_item = sales.groupby(['date','item_id'])['item_price'].agg(['min','max'])"
   ]
  },
  {
   "cell_type": "code",
   "execution_count": 35,
   "metadata": {},
   "outputs": [
    {
     "data": {
      "text/html": [
       "<div>\n",
       "<style scoped>\n",
       "    .dataframe tbody tr th:only-of-type {\n",
       "        vertical-align: middle;\n",
       "    }\n",
       "\n",
       "    .dataframe tbody tr th {\n",
       "        vertical-align: top;\n",
       "    }\n",
       "\n",
       "    .dataframe thead th {\n",
       "        text-align: right;\n",
       "    }\n",
       "</style>\n",
       "<table border=\"1\" class=\"dataframe\">\n",
       "  <thead>\n",
       "    <tr style=\"text-align: right;\">\n",
       "      <th></th>\n",
       "      <th>date</th>\n",
       "      <th>item_id</th>\n",
       "      <th>min</th>\n",
       "      <th>max</th>\n",
       "      <th>diff_prices</th>\n",
       "    </tr>\n",
       "  </thead>\n",
       "  <tbody>\n",
       "    <tr>\n",
       "      <th>0</th>\n",
       "      <td>2013-01-01</td>\n",
       "      <td>32</td>\n",
       "      <td>348.44</td>\n",
       "      <td>349.0</td>\n",
       "      <td>True</td>\n",
       "    </tr>\n",
       "    <tr>\n",
       "      <th>1</th>\n",
       "      <td>2013-01-01</td>\n",
       "      <td>33</td>\n",
       "      <td>499.00</td>\n",
       "      <td>499.0</td>\n",
       "      <td>False</td>\n",
       "    </tr>\n",
       "    <tr>\n",
       "      <th>2</th>\n",
       "      <td>2013-01-01</td>\n",
       "      <td>53</td>\n",
       "      <td>170.00</td>\n",
       "      <td>170.0</td>\n",
       "      <td>False</td>\n",
       "    </tr>\n",
       "    <tr>\n",
       "      <th>3</th>\n",
       "      <td>2013-01-01</td>\n",
       "      <td>59</td>\n",
       "      <td>110.00</td>\n",
       "      <td>249.0</td>\n",
       "      <td>True</td>\n",
       "    </tr>\n",
       "    <tr>\n",
       "      <th>4</th>\n",
       "      <td>2013-01-01</td>\n",
       "      <td>85</td>\n",
       "      <td>299.00</td>\n",
       "      <td>299.0</td>\n",
       "      <td>False</td>\n",
       "    </tr>\n",
       "    <tr>\n",
       "      <th>5</th>\n",
       "      <td>2013-01-01</td>\n",
       "      <td>98</td>\n",
       "      <td>268.00</td>\n",
       "      <td>399.0</td>\n",
       "      <td>True</td>\n",
       "    </tr>\n",
       "    <tr>\n",
       "      <th>6</th>\n",
       "      <td>2013-01-01</td>\n",
       "      <td>133</td>\n",
       "      <td>249.00</td>\n",
       "      <td>249.0</td>\n",
       "      <td>False</td>\n",
       "    </tr>\n",
       "    <tr>\n",
       "      <th>7</th>\n",
       "      <td>2013-01-01</td>\n",
       "      <td>154</td>\n",
       "      <td>299.00</td>\n",
       "      <td>299.0</td>\n",
       "      <td>False</td>\n",
       "    </tr>\n",
       "    <tr>\n",
       "      <th>8</th>\n",
       "      <td>2013-01-01</td>\n",
       "      <td>155</td>\n",
       "      <td>299.00</td>\n",
       "      <td>299.0</td>\n",
       "      <td>False</td>\n",
       "    </tr>\n",
       "    <tr>\n",
       "      <th>9</th>\n",
       "      <td>2013-01-01</td>\n",
       "      <td>354</td>\n",
       "      <td>258.00</td>\n",
       "      <td>258.0</td>\n",
       "      <td>False</td>\n",
       "    </tr>\n",
       "  </tbody>\n",
       "</table>\n",
       "</div>"
      ],
      "text/plain": [
       "        date  item_id     min    max  diff_prices\n",
       "0 2013-01-01       32  348.44  349.0         True\n",
       "1 2013-01-01       33  499.00  499.0        False\n",
       "2 2013-01-01       53  170.00  170.0        False\n",
       "3 2013-01-01       59  110.00  249.0         True\n",
       "4 2013-01-01       85  299.00  299.0        False\n",
       "5 2013-01-01       98  268.00  399.0         True\n",
       "6 2013-01-01      133  249.00  249.0        False\n",
       "7 2013-01-01      154  299.00  299.0        False\n",
       "8 2013-01-01      155  299.00  299.0        False\n",
       "9 2013-01-01      354  258.00  258.0        False"
      ]
     },
     "execution_count": 35,
     "metadata": {},
     "output_type": "execute_result"
    }
   ],
   "source": [
    "prices_by_date_item.reset_index(inplace=True)\n",
    "prices_by_date_item['diff_prices'] = (prices_by_date_item['min'] != prices_by_date_item['max'])\n",
    "prices_by_date_item.head(10)"
   ]
  },
  {
   "cell_type": "code",
   "execution_count": 36,
   "metadata": {},
   "outputs": [
    {
     "data": {
      "text/plain": [
       "False    1426510\n",
       "True      115104\n",
       "Name: diff_prices, dtype: int64"
      ]
     },
     "execution_count": 36,
     "metadata": {},
     "output_type": "execute_result"
    }
   ],
   "source": [
    "prices_by_date_item.diff_prices.value_counts()"
   ]
  },
  {
   "cell_type": "markdown",
   "metadata": {},
   "source": [
    "**FINDING:** About 7.5% of date-item combinations show different prices."
   ]
  },
  {
   "cell_type": "code",
   "execution_count": 28,
   "metadata": {},
   "outputs": [],
   "source": [
    "prices_by_date_item_shop = sales.groupby(['date','item_id','shop_id'])['item_price'].agg(['min','max']).reset_index()"
   ]
  },
  {
   "cell_type": "code",
   "execution_count": 29,
   "metadata": {},
   "outputs": [
    {
     "data": {
      "text/html": [
       "<div>\n",
       "<style scoped>\n",
       "    .dataframe tbody tr th:only-of-type {\n",
       "        vertical-align: middle;\n",
       "    }\n",
       "\n",
       "    .dataframe tbody tr th {\n",
       "        vertical-align: top;\n",
       "    }\n",
       "\n",
       "    .dataframe thead th {\n",
       "        text-align: right;\n",
       "    }\n",
       "</style>\n",
       "<table border=\"1\" class=\"dataframe\">\n",
       "  <thead>\n",
       "    <tr style=\"text-align: right;\">\n",
       "      <th></th>\n",
       "      <th>date</th>\n",
       "      <th>item_id</th>\n",
       "      <th>shop_id</th>\n",
       "      <th>min</th>\n",
       "      <th>max</th>\n",
       "    </tr>\n",
       "  </thead>\n",
       "  <tbody>\n",
       "    <tr>\n",
       "      <th>0</th>\n",
       "      <td>2013-01-01</td>\n",
       "      <td>32</td>\n",
       "      <td>27</td>\n",
       "      <td>349.00</td>\n",
       "      <td>349.00</td>\n",
       "    </tr>\n",
       "    <tr>\n",
       "      <th>1</th>\n",
       "      <td>2013-01-01</td>\n",
       "      <td>32</td>\n",
       "      <td>28</td>\n",
       "      <td>349.00</td>\n",
       "      <td>349.00</td>\n",
       "    </tr>\n",
       "    <tr>\n",
       "      <th>2</th>\n",
       "      <td>2013-01-01</td>\n",
       "      <td>32</td>\n",
       "      <td>38</td>\n",
       "      <td>349.00</td>\n",
       "      <td>349.00</td>\n",
       "    </tr>\n",
       "    <tr>\n",
       "      <th>3</th>\n",
       "      <td>2013-01-01</td>\n",
       "      <td>32</td>\n",
       "      <td>42</td>\n",
       "      <td>348.44</td>\n",
       "      <td>348.44</td>\n",
       "    </tr>\n",
       "    <tr>\n",
       "      <th>4</th>\n",
       "      <td>2013-01-01</td>\n",
       "      <td>32</td>\n",
       "      <td>46</td>\n",
       "      <td>349.00</td>\n",
       "      <td>349.00</td>\n",
       "    </tr>\n",
       "  </tbody>\n",
       "</table>\n",
       "</div>"
      ],
      "text/plain": [
       "        date  item_id  shop_id     min     max\n",
       "0 2013-01-01       32       27  349.00  349.00\n",
       "1 2013-01-01       32       28  349.00  349.00\n",
       "2 2013-01-01       32       38  349.00  349.00\n",
       "3 2013-01-01       32       42  348.44  348.44\n",
       "4 2013-01-01       32       46  349.00  349.00"
      ]
     },
     "execution_count": 29,
     "metadata": {},
     "output_type": "execute_result"
    }
   ],
   "source": [
    "prices_by_date_item_shop.head()"
   ]
  },
  {
   "cell_type": "code",
   "execution_count": 30,
   "metadata": {},
   "outputs": [
    {
     "data": {
      "text/plain": [
       "False    2935799\n",
       "True          22\n",
       "Name: diff_prices, dtype: int64"
      ]
     },
     "execution_count": 30,
     "metadata": {},
     "output_type": "execute_result"
    }
   ],
   "source": [
    "prices_by_date_item_shop['diff_prices'] = (prices_by_date_item_shop['min'] != prices_by_date_item_shop['max'])\n",
    "prices_by_date_item_shop.diff_prices.value_counts()"
   ]
  },
  {
   "cell_type": "markdown",
   "metadata": {},
   "source": [
    "<b>FINDING:</b> Based on the counts above, and the total number of rows in the sales dataset (2,935,843), there are 22 occasions when two different prices were used for same item in the same shop on the same day. On all other occasions, the same price was used in one shop for one item on the same day."
   ]
  },
  {
   "cell_type": "code",
   "execution_count": 43,
   "metadata": {},
   "outputs": [],
   "source": [
    "# Let's calculate the coefficient of variation of price for each shop-item combination to find those with a high level of volatility.\n",
    "coef_of_var_by_shop_item = sales.groupby(['shop_id','item_id'])['item_price'].agg(variation)"
   ]
  },
  {
   "cell_type": "code",
   "execution_count": 69,
   "metadata": {},
   "outputs": [
    {
     "data": {
      "text/html": [
       "<div>\n",
       "<style scoped>\n",
       "    .dataframe tbody tr th:only-of-type {\n",
       "        vertical-align: middle;\n",
       "    }\n",
       "\n",
       "    .dataframe tbody tr th {\n",
       "        vertical-align: top;\n",
       "    }\n",
       "\n",
       "    .dataframe thead th {\n",
       "        text-align: right;\n",
       "    }\n",
       "</style>\n",
       "<table border=\"1\" class=\"dataframe\">\n",
       "  <thead>\n",
       "    <tr style=\"text-align: right;\">\n",
       "      <th></th>\n",
       "      <th>shop_id</th>\n",
       "      <th>item_id</th>\n",
       "      <th>coef_var</th>\n",
       "    </tr>\n",
       "  </thead>\n",
       "  <tbody>\n",
       "    <tr>\n",
       "      <th>0</th>\n",
       "      <td>7</td>\n",
       "      <td>11867</td>\n",
       "      <td>4.538900</td>\n",
       "    </tr>\n",
       "    <tr>\n",
       "      <th>1</th>\n",
       "      <td>28</td>\n",
       "      <td>11853</td>\n",
       "      <td>4.147582</td>\n",
       "    </tr>\n",
       "    <tr>\n",
       "      <th>2</th>\n",
       "      <td>14</td>\n",
       "      <td>11867</td>\n",
       "      <td>3.480296</td>\n",
       "    </tr>\n",
       "    <tr>\n",
       "      <th>3</th>\n",
       "      <td>15</td>\n",
       "      <td>11867</td>\n",
       "      <td>3.399952</td>\n",
       "    </tr>\n",
       "    <tr>\n",
       "      <th>4</th>\n",
       "      <td>56</td>\n",
       "      <td>11867</td>\n",
       "      <td>3.333000</td>\n",
       "    </tr>\n",
       "    <tr>\n",
       "      <th>5</th>\n",
       "      <td>42</td>\n",
       "      <td>11863</td>\n",
       "      <td>3.298889</td>\n",
       "    </tr>\n",
       "    <tr>\n",
       "      <th>6</th>\n",
       "      <td>17</td>\n",
       "      <td>11853</td>\n",
       "      <td>3.259849</td>\n",
       "    </tr>\n",
       "    <tr>\n",
       "      <th>7</th>\n",
       "      <td>25</td>\n",
       "      <td>20144</td>\n",
       "      <td>3.137431</td>\n",
       "    </tr>\n",
       "    <tr>\n",
       "      <th>8</th>\n",
       "      <td>38</td>\n",
       "      <td>11853</td>\n",
       "      <td>3.120867</td>\n",
       "    </tr>\n",
       "    <tr>\n",
       "      <th>9</th>\n",
       "      <td>25</td>\n",
       "      <td>11853</td>\n",
       "      <td>3.112585</td>\n",
       "    </tr>\n",
       "  </tbody>\n",
       "</table>\n",
       "</div>"
      ],
      "text/plain": [
       "   shop_id  item_id  coef_var\n",
       "0        7    11867  4.538900\n",
       "1       28    11853  4.147582\n",
       "2       14    11867  3.480296\n",
       "3       15    11867  3.399952\n",
       "4       56    11867  3.333000\n",
       "5       42    11863  3.298889\n",
       "6       17    11853  3.259849\n",
       "7       25    20144  3.137431\n",
       "8       38    11853  3.120867\n",
       "9       25    11853  3.112585"
      ]
     },
     "execution_count": 69,
     "metadata": {},
     "output_type": "execute_result"
    }
   ],
   "source": [
    "# Identify the 10 highest shop-item combinations by coefficient of variation of price\n",
    "coef_of_var_by_shop_item.sort_values(ascending=False).reset_index().rename(columns={'item_price':'coef_var'})[:10]"
   ]
  },
  {
   "cell_type": "code",
   "execution_count": 64,
   "metadata": {},
   "outputs": [
    {
     "data": {
      "text/html": [
       "<div>\n",
       "<style scoped>\n",
       "    .dataframe tbody tr th:only-of-type {\n",
       "        vertical-align: middle;\n",
       "    }\n",
       "\n",
       "    .dataframe tbody tr th {\n",
       "        vertical-align: top;\n",
       "    }\n",
       "\n",
       "    .dataframe thead th {\n",
       "        text-align: right;\n",
       "    }\n",
       "</style>\n",
       "<table border=\"1\" class=\"dataframe\">\n",
       "  <thead>\n",
       "    <tr style=\"text-align: right;\">\n",
       "      <th></th>\n",
       "      <th>date</th>\n",
       "      <th>shop_id</th>\n",
       "      <th>item_price</th>\n",
       "    </tr>\n",
       "  </thead>\n",
       "  <tbody>\n",
       "    <tr>\n",
       "      <th>169627</th>\n",
       "      <td>2013-02-08</td>\n",
       "      <td>7</td>\n",
       "      <td>69.0</td>\n",
       "    </tr>\n",
       "    <tr>\n",
       "      <th>577400</th>\n",
       "      <td>2013-06-16</td>\n",
       "      <td>7</td>\n",
       "      <td>0.1</td>\n",
       "    </tr>\n",
       "    <tr>\n",
       "      <th>577401</th>\n",
       "      <td>2013-06-14</td>\n",
       "      <td>7</td>\n",
       "      <td>0.1</td>\n",
       "    </tr>\n",
       "    <tr>\n",
       "      <th>577402</th>\n",
       "      <td>2013-06-13</td>\n",
       "      <td>7</td>\n",
       "      <td>0.1</td>\n",
       "    </tr>\n",
       "    <tr>\n",
       "      <th>577403</th>\n",
       "      <td>2013-06-11</td>\n",
       "      <td>7</td>\n",
       "      <td>0.1</td>\n",
       "    </tr>\n",
       "    <tr>\n",
       "      <th>577404</th>\n",
       "      <td>2013-06-06</td>\n",
       "      <td>7</td>\n",
       "      <td>0.1</td>\n",
       "    </tr>\n",
       "    <tr>\n",
       "      <th>577405</th>\n",
       "      <td>2013-06-05</td>\n",
       "      <td>7</td>\n",
       "      <td>0.1</td>\n",
       "    </tr>\n",
       "    <tr>\n",
       "      <th>577406</th>\n",
       "      <td>2013-06-04</td>\n",
       "      <td>7</td>\n",
       "      <td>0.1</td>\n",
       "    </tr>\n",
       "    <tr>\n",
       "      <th>577600</th>\n",
       "      <td>2013-06-17</td>\n",
       "      <td>7</td>\n",
       "      <td>0.1</td>\n",
       "    </tr>\n",
       "    <tr>\n",
       "      <th>578189</th>\n",
       "      <td>2013-06-19</td>\n",
       "      <td>7</td>\n",
       "      <td>0.1</td>\n",
       "    </tr>\n",
       "    <tr>\n",
       "      <th>578190</th>\n",
       "      <td>2013-06-22</td>\n",
       "      <td>7</td>\n",
       "      <td>0.1</td>\n",
       "    </tr>\n",
       "    <tr>\n",
       "      <th>578776</th>\n",
       "      <td>2013-06-20</td>\n",
       "      <td>7</td>\n",
       "      <td>0.1</td>\n",
       "    </tr>\n",
       "    <tr>\n",
       "      <th>578975</th>\n",
       "      <td>2013-06-23</td>\n",
       "      <td>7</td>\n",
       "      <td>0.1</td>\n",
       "    </tr>\n",
       "    <tr>\n",
       "      <th>663445</th>\n",
       "      <td>2013-07-18</td>\n",
       "      <td>7</td>\n",
       "      <td>0.1</td>\n",
       "    </tr>\n",
       "    <tr>\n",
       "      <th>663446</th>\n",
       "      <td>2013-07-17</td>\n",
       "      <td>7</td>\n",
       "      <td>0.1</td>\n",
       "    </tr>\n",
       "    <tr>\n",
       "      <th>663467</th>\n",
       "      <td>2013-07-11</td>\n",
       "      <td>7</td>\n",
       "      <td>0.1</td>\n",
       "    </tr>\n",
       "    <tr>\n",
       "      <th>663468</th>\n",
       "      <td>2013-07-13</td>\n",
       "      <td>7</td>\n",
       "      <td>0.1</td>\n",
       "    </tr>\n",
       "    <tr>\n",
       "      <th>663469</th>\n",
       "      <td>2013-07-14</td>\n",
       "      <td>7</td>\n",
       "      <td>0.1</td>\n",
       "    </tr>\n",
       "    <tr>\n",
       "      <th>663470</th>\n",
       "      <td>2013-07-15</td>\n",
       "      <td>7</td>\n",
       "      <td>0.1</td>\n",
       "    </tr>\n",
       "    <tr>\n",
       "      <th>663471</th>\n",
       "      <td>2013-07-16</td>\n",
       "      <td>7</td>\n",
       "      <td>0.1</td>\n",
       "    </tr>\n",
       "    <tr>\n",
       "      <th>835144</th>\n",
       "      <td>2013-08-18</td>\n",
       "      <td>7</td>\n",
       "      <td>0.1</td>\n",
       "    </tr>\n",
       "    <tr>\n",
       "      <th>835145</th>\n",
       "      <td>2013-08-17</td>\n",
       "      <td>7</td>\n",
       "      <td>0.1</td>\n",
       "    </tr>\n",
       "    <tr>\n",
       "      <th>835146</th>\n",
       "      <td>2013-08-16</td>\n",
       "      <td>7</td>\n",
       "      <td>0.1</td>\n",
       "    </tr>\n",
       "  </tbody>\n",
       "</table>\n",
       "</div>"
      ],
      "text/plain": [
       "             date  shop_id  item_price\n",
       "169627 2013-02-08        7        69.0\n",
       "577400 2013-06-16        7         0.1\n",
       "577401 2013-06-14        7         0.1\n",
       "577402 2013-06-13        7         0.1\n",
       "577403 2013-06-11        7         0.1\n",
       "577404 2013-06-06        7         0.1\n",
       "577405 2013-06-05        7         0.1\n",
       "577406 2013-06-04        7         0.1\n",
       "577600 2013-06-17        7         0.1\n",
       "578189 2013-06-19        7         0.1\n",
       "578190 2013-06-22        7         0.1\n",
       "578776 2013-06-20        7         0.1\n",
       "578975 2013-06-23        7         0.1\n",
       "663445 2013-07-18        7         0.1\n",
       "663446 2013-07-17        7         0.1\n",
       "663467 2013-07-11        7         0.1\n",
       "663468 2013-07-13        7         0.1\n",
       "663469 2013-07-14        7         0.1\n",
       "663470 2013-07-15        7         0.1\n",
       "663471 2013-07-16        7         0.1\n",
       "835144 2013-08-18        7         0.1\n",
       "835145 2013-08-17        7         0.1\n",
       "835146 2013-08-16        7         0.1"
      ]
     },
     "execution_count": 64,
     "metadata": {},
     "output_type": "execute_result"
    }
   ],
   "source": [
    "# let's examine the prices over time for the combination with the highest coefficient of variation\n",
    "sales[(sales.shop_id == 7) & (sales.item_id == 11867)][['date','shop_id','item_price']]"
   ]
  },
  {
   "cell_type": "markdown",
   "metadata": {},
   "source": [
    "**FINDING:** It appears that in least in this case the large coefficient of variation is driven not by the shop itself, but by the long gap in times of transactions and the change in price of this item over that gap. Let's examine the trend in the price of this item across all shops."
   ]
  },
  {
   "cell_type": "code",
   "execution_count": 143,
   "metadata": {},
   "outputs": [
    {
     "data": {
      "image/png": "[encoded data removed]",
      "text/plain": [
       "<Figure size 1440x432 with 1 Axes>"
      ]
     },
     "metadata": {
      "needs_background": "light"
     },
     "output_type": "display_data"
    }
   ],
   "source": [
    "def plot_price_over_time(item):\n",
    "    avg_item_prices_by_day = sales.groupby(['date','item_id'])['item_price'].mean().reset_index()\n",
    "    plt.figure(figsize=(20,6))\n",
    "    ax = sns.lineplot(avg_item_prices_by_day[avg_item_prices_by_day.item_id == item]['date'],\n",
    "                      avg_item_prices_by_day[avg_item_prices_by_day.item_id == item]['item_price'],\n",
    "                     marker=\"o\")\n",
    "    plt.title(f\"Price of Item ID {item} Over Time\")\n",
    "    plt.ylabel(\"Item Price\", fontsize=12)\n",
    "    plt.xlabel(\"Date\", fontsize=12)\n",
    "    plt.show()\n",
    "    \n",
    "plot_price_over_time(11867)"
   ]
  },
  {
   "cell_type": "code",
   "execution_count": 66,
   "metadata": {},
   "outputs": [],
   "source": [
    "# Given that a price may change dramatically over time for one product across all shops, let's calculate the coefficient of variation for each item separately.\n",
    "coef_of_var_by_item = sales.groupby('item_id')['item_price'].agg(variation)"
   ]
  },
  {
   "cell_type": "code",
   "execution_count": 76,
   "metadata": {},
   "outputs": [],
   "source": [
    "coef_of_var_by_item = coef_of_var_by_item.sort_values(ascending=False).reset_index().rename(columns={'item_price':'coef_var'})"
   ]
  },
  {
   "cell_type": "code",
   "execution_count": 77,
   "metadata": {},
   "outputs": [
    {
     "data": {
      "text/html": [
       "<div>\n",
       "<style scoped>\n",
       "    .dataframe tbody tr th:only-of-type {\n",
       "        vertical-align: middle;\n",
       "    }\n",
       "\n",
       "    .dataframe tbody tr th {\n",
       "        vertical-align: top;\n",
       "    }\n",
       "\n",
       "    .dataframe thead th {\n",
       "        text-align: right;\n",
       "    }\n",
       "</style>\n",
       "<table border=\"1\" class=\"dataframe\">\n",
       "  <thead>\n",
       "    <tr style=\"text-align: right;\">\n",
       "      <th></th>\n",
       "      <th>item_id</th>\n",
       "      <th>coef_var</th>\n",
       "    </tr>\n",
       "  </thead>\n",
       "  <tbody>\n",
       "    <tr>\n",
       "      <th>0</th>\n",
       "      <td>11860</td>\n",
       "      <td>4.016808</td>\n",
       "    </tr>\n",
       "    <tr>\n",
       "      <th>1</th>\n",
       "      <td>11872</td>\n",
       "      <td>3.369133</td>\n",
       "    </tr>\n",
       "    <tr>\n",
       "      <th>2</th>\n",
       "      <td>11866</td>\n",
       "      <td>3.057146</td>\n",
       "    </tr>\n",
       "    <tr>\n",
       "      <th>3</th>\n",
       "      <td>11855</td>\n",
       "      <td>2.517692</td>\n",
       "    </tr>\n",
       "    <tr>\n",
       "      <th>4</th>\n",
       "      <td>11856</td>\n",
       "      <td>2.338980</td>\n",
       "    </tr>\n",
       "    <tr>\n",
       "      <th>5</th>\n",
       "      <td>11863</td>\n",
       "      <td>2.308525</td>\n",
       "    </tr>\n",
       "    <tr>\n",
       "      <th>6</th>\n",
       "      <td>20144</td>\n",
       "      <td>2.299439</td>\n",
       "    </tr>\n",
       "    <tr>\n",
       "      <th>7</th>\n",
       "      <td>11859</td>\n",
       "      <td>2.259172</td>\n",
       "    </tr>\n",
       "    <tr>\n",
       "      <th>8</th>\n",
       "      <td>11853</td>\n",
       "      <td>2.228884</td>\n",
       "    </tr>\n",
       "    <tr>\n",
       "      <th>9</th>\n",
       "      <td>11365</td>\n",
       "      <td>2.177925</td>\n",
       "    </tr>\n",
       "  </tbody>\n",
       "</table>\n",
       "</div>"
      ],
      "text/plain": [
       "   item_id  coef_var\n",
       "0    11860  4.016808\n",
       "1    11872  3.369133\n",
       "2    11866  3.057146\n",
       "3    11855  2.517692\n",
       "4    11856  2.338980\n",
       "5    11863  2.308525\n",
       "6    20144  2.299439\n",
       "7    11859  2.259172\n",
       "8    11853  2.228884\n",
       "9    11365  2.177925"
      ]
     },
     "execution_count": 77,
     "metadata": {},
     "output_type": "execute_result"
    }
   ],
   "source": [
    "coef_of_var_by_item[:10]"
   ]
  },
  {
   "cell_type": "code",
   "execution_count": 137,
   "metadata": {},
   "outputs": [
    {
     "data": {
      "image/png": "[encoded data removed]",
      "text/plain": [
       "<Figure size 432x288 with 1 Axes>"
      ]
     },
     "metadata": {
      "needs_background": "light"
     },
     "output_type": "display_data"
    }
   ],
   "source": [
    "plt.figure(figsize=(6,4))\n",
    "ax = sns.distplot(coef_of_var_by_item.coef_var, kde=False)\n",
    "plt.title(\"Histogram of Coefficient of Variation of Item-Level Price\")\n",
    "plt.xlabel(\"Coefficient of Variation\", fontsize=12)\n",
    "plt.ylabel(\"# of Items\", fontsize=12)\n",
    "plt.show()"
   ]
  },
  {
   "cell_type": "code",
   "execution_count": 163,
   "metadata": {},
   "outputs": [
    {
     "data": {
      "text/plain": [
       "0.2717476039803733"
      ]
     },
     "execution_count": 163,
     "metadata": {},
     "output_type": "execute_result"
    }
   ],
   "source": [
    "len(coef_of_var_by_item[coef_of_var_by_item.coef_var == 0.]) / len(coef_of_var_by_item)"
   ]
  },
  {
   "cell_type": "markdown",
   "metadata": {},
   "source": [
    "**FINDING:** Consistent with the earlier finding that about 3/4 of items had different prices in the dataset, 27.17% of items show a 0 for coefficient of variation (i.e., no differences in price)."
   ]
  },
  {
   "cell_type": "code",
   "execution_count": 144,
   "metadata": {},
   "outputs": [
    {
     "data": {
      "image/png": "[encoded data removed]",
      "text/plain": [
       "<Figure size 1440x432 with 1 Axes>"
      ]
     },
     "metadata": {
      "needs_background": "light"
     },
     "output_type": "display_data"
    }
   ],
   "source": [
    "# Let's plot trends in prices for a couple of items with the highest coefficient of variation.\n",
    "plot_price_over_time(11860)"
   ]
  },
  {
   "cell_type": "code",
   "execution_count": 145,
   "metadata": {},
   "outputs": [
    {
     "data": {
      "image/png": "[encoded data removed]",
      "text/plain": [
       "<Figure size 1440x432 with 1 Axes>"
      ]
     },
     "metadata": {
      "needs_background": "light"
     },
     "output_type": "display_data"
    }
   ],
   "source": [
    "plot_price_over_time(11872)"
   ]
  },
  {
   "cell_type": "markdown",
   "metadata": {},
   "source": [
    "**FINDING:** It appears that at least some of the large changes in price for an item are associated with a large gap between dates when that item was sold."
   ]
  },
  {
   "cell_type": "code",
   "execution_count": 185,
   "metadata": {},
   "outputs": [
    {
     "data": {
      "text/html": [
       "<div>\n",
       "<style scoped>\n",
       "    .dataframe tbody tr th:only-of-type {\n",
       "        vertical-align: middle;\n",
       "    }\n",
       "\n",
       "    .dataframe tbody tr th {\n",
       "        vertical-align: top;\n",
       "    }\n",
       "\n",
       "    .dataframe thead th {\n",
       "        text-align: right;\n",
       "    }\n",
       "</style>\n",
       "<table border=\"1\" class=\"dataframe\">\n",
       "  <thead>\n",
       "    <tr style=\"text-align: right;\">\n",
       "      <th></th>\n",
       "      <th>item_id</th>\n",
       "      <th>quant_mad</th>\n",
       "    </tr>\n",
       "  </thead>\n",
       "  <tbody>\n",
       "    <tr>\n",
       "      <th>0</th>\n",
       "      <td>19437</td>\n",
       "      <td>63.779614</td>\n",
       "    </tr>\n",
       "    <tr>\n",
       "      <th>1</th>\n",
       "      <td>19445</td>\n",
       "      <td>53.927083</td>\n",
       "    </tr>\n",
       "    <tr>\n",
       "      <th>2</th>\n",
       "      <td>9248</td>\n",
       "      <td>42.994356</td>\n",
       "    </tr>\n",
       "    <tr>\n",
       "      <th>3</th>\n",
       "      <td>9249</td>\n",
       "      <td>42.895996</td>\n",
       "    </tr>\n",
       "    <tr>\n",
       "      <th>4</th>\n",
       "      <td>4392</td>\n",
       "      <td>38.857143</td>\n",
       "    </tr>\n",
       "    <tr>\n",
       "      <th>5</th>\n",
       "      <td>4201</td>\n",
       "      <td>35.555556</td>\n",
       "    </tr>\n",
       "    <tr>\n",
       "      <th>6</th>\n",
       "      <td>4358</td>\n",
       "      <td>35.500000</td>\n",
       "    </tr>\n",
       "    <tr>\n",
       "      <th>7</th>\n",
       "      <td>3730</td>\n",
       "      <td>35.069252</td>\n",
       "    </tr>\n",
       "    <tr>\n",
       "      <th>8</th>\n",
       "      <td>19446</td>\n",
       "      <td>33.728532</td>\n",
       "    </tr>\n",
       "    <tr>\n",
       "      <th>9</th>\n",
       "      <td>10199</td>\n",
       "      <td>30.400000</td>\n",
       "    </tr>\n",
       "  </tbody>\n",
       "</table>\n",
       "</div>"
      ],
      "text/plain": [
       "   item_id  quant_mad\n",
       "0    19437  63.779614\n",
       "1    19445  53.927083\n",
       "2     9248  42.994356\n",
       "3     9249  42.895996\n",
       "4     4392  38.857143\n",
       "5     4201  35.555556\n",
       "6     4358  35.500000\n",
       "7     3730  35.069252\n",
       "8    19446  33.728532\n",
       "9    10199  30.400000"
      ]
     },
     "execution_count": 185,
     "metadata": {},
     "output_type": "execute_result"
    }
   ],
   "source": [
    "# As we did with the price column, it is helpful to examine the volatility of the quantity sold for each item.\n",
    "# This will not be possible with the coefficient of variation metric because of negative quantity values sometimes resulting in the 0 mean.\n",
    "# Instead, let's utilize the mean absolute deviation metric.\n",
    "quantity_mad_by_item = sales.groupby('item_id')['item_cnt_day'].mad()\n",
    "\n",
    "quantity_mad_by_item = quantity_mad_by_item.sort_values(ascending=False).reset_index().rename(columns={'item_cnt_day':'quant_mad'})\n",
    "\n",
    "quantity_mad_by_item[:10]"
   ]
  },
  {
   "cell_type": "code",
   "execution_count": 189,
   "metadata": {},
   "outputs": [
    {
     "data": {
      "image/png": "[encoded data removed]",
      "text/plain": [
       "<Figure size 432x288 with 1 Axes>"
      ]
     },
     "metadata": {
      "needs_background": "light"
     },
     "output_type": "display_data"
    }
   ],
   "source": [
    "plt.figure(figsize=(6,4))\n",
    "ax = sns.distplot(quantity_mad_by_item.quant_mad, kde=False)\n",
    "plt.title(\"Histogram of Mean Absolute Deviation of Item-Level Price\")\n",
    "plt.xlabel(\"Mean Absolute Deviation\", fontsize=12)\n",
    "plt.ylabel(\"# of Items\", fontsize=12)\n",
    "plt.show()"
   ]
  },
  {
   "cell_type": "code",
   "execution_count": 190,
   "metadata": {},
   "outputs": [
    {
     "data": {
      "text/plain": [
       "0.564405924703077"
      ]
     },
     "execution_count": 190,
     "metadata": {},
     "output_type": "execute_result"
    }
   ],
   "source": [
    "len(quantity_mad_by_item[quantity_mad_by_item.quant_mad == 0.]) / len(quantity_mad_by_item)"
   ]
  },
  {
   "cell_type": "markdown",
   "metadata": {},
   "source": [
    "**FINDING:** 56.4% of items show a mean absolute deviation of 0."
   ]
  },
  {
   "cell_type": "code",
   "execution_count": 192,
   "metadata": {},
   "outputs": [
    {
     "data": {
      "image/png": "[encoded data removed]",
      "text/plain": [
       "<Figure size 1440x432 with 1 Axes>"
      ]
     },
     "metadata": {
      "needs_background": "light"
     },
     "output_type": "display_data"
    }
   ],
   "source": [
    "# Let's plot trends in total quantity sold for a couple of items with the highest mean absolute deviation.\n",
    "\n",
    "def plot_quantity_over_time(item):\n",
    "    total_item_qty_by_day = sales.groupby(['date','item_id'])['item_cnt_day'].sum().reset_index()\n",
    "    plt.figure(figsize=(20,6))\n",
    "    ax = sns.lineplot(total_item_qty_by_day[total_item_qty_by_day.item_id == item]['date'],\n",
    "                      total_item_qty_by_day[total_item_qty_by_day.item_id == item]['item_cnt_day'],\n",
    "                     marker=\"o\")\n",
    "    plt.title(f\"Quantity of Item ID {item} Over Time\")\n",
    "    plt.ylabel(\"Total Item Quantity Sold\", fontsize=12)\n",
    "    plt.xlabel(\"Date\", fontsize=12)\n",
    "    plt.show()\n",
    "    \n",
    "plot_quantity_over_time(19437)"
   ]
  },
  {
   "cell_type": "code",
   "execution_count": 193,
   "metadata": {},
   "outputs": [
    {
     "data": {
      "image/png": "[encoded data removed]",
      "text/plain": [
       "<Figure size 1440x432 with 1 Axes>"
      ]
     },
     "metadata": {
      "needs_background": "light"
     },
     "output_type": "display_data"
    }
   ],
   "source": [
    "plot_quantity_over_time(19445)"
   ]
  },
  {
   "cell_type": "markdown",
   "metadata": {},
   "source": [
    "**FINDING:** It appears that at least for some items there are random (maybe random, maybe not) short-term spikes in quantity sold. May need to investigate if these spikes are associated with anything."
   ]
  },
  {
   "cell_type": "code",
   "execution_count": 254,
   "metadata": {},
   "outputs": [
    {
     "data": {
      "text/html": [
       "<div>\n",
       "<style scoped>\n",
       "    .dataframe tbody tr th:only-of-type {\n",
       "        vertical-align: middle;\n",
       "    }\n",
       "\n",
       "    .dataframe tbody tr th {\n",
       "        vertical-align: top;\n",
       "    }\n",
       "\n",
       "    .dataframe thead th {\n",
       "        text-align: right;\n",
       "    }\n",
       "</style>\n",
       "<table border=\"1\" class=\"dataframe\">\n",
       "  <thead>\n",
       "    <tr style=\"text-align: right;\">\n",
       "      <th></th>\n",
       "      <th>item_id</th>\n",
       "      <th>n_unique_days</th>\n",
       "      <th>pct_of_all_days</th>\n",
       "    </tr>\n",
       "  </thead>\n",
       "  <tbody>\n",
       "    <tr>\n",
       "      <th>0</th>\n",
       "      <td>0</td>\n",
       "      <td>1</td>\n",
       "      <td>0.000967</td>\n",
       "    </tr>\n",
       "    <tr>\n",
       "      <th>1</th>\n",
       "      <td>1</td>\n",
       "      <td>6</td>\n",
       "      <td>0.005803</td>\n",
       "    </tr>\n",
       "    <tr>\n",
       "      <th>2</th>\n",
       "      <td>2</td>\n",
       "      <td>2</td>\n",
       "      <td>0.001934</td>\n",
       "    </tr>\n",
       "    <tr>\n",
       "      <th>3</th>\n",
       "      <td>3</td>\n",
       "      <td>2</td>\n",
       "      <td>0.001934</td>\n",
       "    </tr>\n",
       "    <tr>\n",
       "      <th>4</th>\n",
       "      <td>4</td>\n",
       "      <td>1</td>\n",
       "      <td>0.000967</td>\n",
       "    </tr>\n",
       "  </tbody>\n",
       "</table>\n",
       "</div>"
      ],
      "text/plain": [
       "   item_id  n_unique_days  pct_of_all_days\n",
       "0        0              1         0.000967\n",
       "1        1              6         0.005803\n",
       "2        2              2         0.001934\n",
       "3        3              2         0.001934\n",
       "4        4              1         0.000967"
      ]
     },
     "execution_count": 254,
     "metadata": {},
     "output_type": "execute_result"
    }
   ],
   "source": [
    "# Let's investigate how often items are bought and how much time passes between purchases\n",
    "# Calculate number of unique days on which each item was bought, and percentage of all days in the dataset\n",
    "n_days_by_item = sales.groupby(\"item_id\")[\"date\"].unique().map(lambda x: x.size).reset_index().rename(columns={'date':'n_unique_days'})\n",
    "n_days_by_item['pct_of_all_days'] = n_days_by_item.n_unique_days / ((sales.date.max() - sales.date.min()).days + 1)\n",
    "n_days_by_item.head()"
   ]
  },
  {
   "cell_type": "code",
   "execution_count": 256,
   "metadata": {},
   "outputs": [
    {
     "data": {
      "text/html": [
       "<div>\n",
       "<style scoped>\n",
       "    .dataframe tbody tr th:only-of-type {\n",
       "        vertical-align: middle;\n",
       "    }\n",
       "\n",
       "    .dataframe tbody tr th {\n",
       "        vertical-align: top;\n",
       "    }\n",
       "\n",
       "    .dataframe thead th {\n",
       "        text-align: right;\n",
       "    }\n",
       "</style>\n",
       "<table border=\"1\" class=\"dataframe\">\n",
       "  <thead>\n",
       "    <tr style=\"text-align: right;\">\n",
       "      <th></th>\n",
       "      <th>item_id</th>\n",
       "      <th>n_unique_days</th>\n",
       "      <th>pct_of_all_days</th>\n",
       "    </tr>\n",
       "  </thead>\n",
       "  <tbody>\n",
       "    <tr>\n",
       "      <th>5717</th>\n",
       "      <td>5822</td>\n",
       "      <td>1033</td>\n",
       "      <td>0.999033</td>\n",
       "    </tr>\n",
       "    <tr>\n",
       "      <th>2263</th>\n",
       "      <td>2308</td>\n",
       "      <td>1018</td>\n",
       "      <td>0.984526</td>\n",
       "    </tr>\n",
       "    <tr>\n",
       "      <th>7735</th>\n",
       "      <td>7894</td>\n",
       "      <td>1006</td>\n",
       "      <td>0.972921</td>\n",
       "    </tr>\n",
       "    <tr>\n",
       "      <th>5718</th>\n",
       "      <td>5823</td>\n",
       "      <td>999</td>\n",
       "      <td>0.966151</td>\n",
       "    </tr>\n",
       "    <tr>\n",
       "      <th>5716</th>\n",
       "      <td>5821</td>\n",
       "      <td>987</td>\n",
       "      <td>0.954545</td>\n",
       "    </tr>\n",
       "    <tr>\n",
       "      <th>7698</th>\n",
       "      <td>7856</td>\n",
       "      <td>981</td>\n",
       "      <td>0.948743</td>\n",
       "    </tr>\n",
       "    <tr>\n",
       "      <th>11924</th>\n",
       "      <td>12134</td>\n",
       "      <td>972</td>\n",
       "      <td>0.940039</td>\n",
       "    </tr>\n",
       "    <tr>\n",
       "      <th>7734</th>\n",
       "      <td>7893</td>\n",
       "      <td>970</td>\n",
       "      <td>0.938104</td>\n",
       "    </tr>\n",
       "    <tr>\n",
       "      <th>2749</th>\n",
       "      <td>2808</td>\n",
       "      <td>967</td>\n",
       "      <td>0.935203</td>\n",
       "    </tr>\n",
       "    <tr>\n",
       "      <th>1860</th>\n",
       "      <td>1905</td>\n",
       "      <td>967</td>\n",
       "      <td>0.935203</td>\n",
       "    </tr>\n",
       "  </tbody>\n",
       "</table>\n",
       "</div>"
      ],
      "text/plain": [
       "       item_id  n_unique_days  pct_of_all_days\n",
       "5717      5822           1033         0.999033\n",
       "2263      2308           1018         0.984526\n",
       "7735      7894           1006         0.972921\n",
       "5718      5823            999         0.966151\n",
       "5716      5821            987         0.954545\n",
       "7698      7856            981         0.948743\n",
       "11924    12134            972         0.940039\n",
       "7734      7893            970         0.938104\n",
       "2749      2808            967         0.935203\n",
       "1860      1905            967         0.935203"
      ]
     },
     "execution_count": 256,
     "metadata": {},
     "output_type": "execute_result"
    }
   ],
   "source": [
    "# examine the items with the highest frequency of sales\n",
    "n_days_by_item.sort_values(by='pct_of_all_days', ascending=False)[:10]"
   ]
  },
  {
   "cell_type": "code",
   "execution_count": 295,
   "metadata": {},
   "outputs": [
    {
     "data": {
      "image/png": "[encoded data removed]",
      "text/plain": [
       "<Figure size 432x288 with 1 Axes>"
      ]
     },
     "metadata": {
      "needs_background": "light"
     },
     "output_type": "display_data"
    }
   ],
   "source": [
    "plt.figure(figsize=(6,4))\n",
    "ax = sns.distplot(n_days_by_item.pct_of_all_days, kde=False)\n",
    "plt.title(\"Histogram of Percent of Days with Purchase\")\n",
    "plt.xlabel(\"Percent of All Days\", fontsize=12)\n",
    "plt.ylabel(\"# of Items\", fontsize=12)\n",
    "plt.show()"
   ]
  },
  {
   "cell_type": "markdown",
   "metadata": {},
   "source": [
    "**FINDING:** There are items that were purchased on nearly all of the days in the train dataset, but those are exceptions. Most items are not purchased frequently."
   ]
  },
  {
   "cell_type": "code",
   "execution_count": 291,
   "metadata": {},
   "outputs": [
    {
     "data": {
      "text/plain": [
       "1     2381\n",
       "2     1067\n",
       "3      692\n",
       "4      569\n",
       "5      477\n",
       "6      440\n",
       "8      367\n",
       "7      359\n",
       "10     324\n",
       "9      318\n",
       "Name: n_unique_days, dtype: int64"
      ]
     },
     "execution_count": 291,
     "metadata": {},
     "output_type": "execute_result"
    }
   ],
   "source": [
    "# examine which values of number of unique days are associated with the highest counts of items\n",
    "n_days_by_item.n_unique_days.value_counts().sort_values(ascending=False)[:10]"
   ]
  },
  {
   "cell_type": "markdown",
   "metadata": {},
   "source": [
    "**FINDING:** 2,381 items in the train dataset were bought on just one day (each)."
   ]
  },
  {
   "cell_type": "code",
   "execution_count": 282,
   "metadata": {},
   "outputs": [],
   "source": [
    "unique_item_dates = sales[['item_id','shop_id','date']].drop_duplicates(subset=['item_id','date']).sort_values(by=['item_id','date'])"
   ]
  },
  {
   "cell_type": "code",
   "execution_count": 283,
   "metadata": {},
   "outputs": [],
   "source": [
    "avg_time_bw_sales_by_item = unique_item_dates.groupby(\"item_id\")[\"date\"].apply(lambda x: x.diff().mean()).reset_index().rename(columns={'date':'avg_gap'})"
   ]
  },
  {
   "cell_type": "code",
   "execution_count": 284,
   "metadata": {},
   "outputs": [
    {
     "data": {
      "text/plain": [
       "2381"
      ]
     },
     "execution_count": 284,
     "metadata": {},
     "output_type": "execute_result"
    }
   ],
   "source": [
    "avg_time_bw_sales_by_item.avg_gap.isnull().sum()"
   ]
  },
  {
   "cell_type": "code",
   "execution_count": 287,
   "metadata": {},
   "outputs": [],
   "source": [
    "# Replace missing values with 0 for items that only had one day of purchase\n",
    "avg_time_bw_sales_by_item.fillna(0, inplace=True)"
   ]
  },
  {
   "cell_type": "code",
   "execution_count": 288,
   "metadata": {},
   "outputs": [
    {
     "data": {
      "text/html": [
       "<div>\n",
       "<style scoped>\n",
       "    .dataframe tbody tr th:only-of-type {\n",
       "        vertical-align: middle;\n",
       "    }\n",
       "\n",
       "    .dataframe tbody tr th {\n",
       "        vertical-align: top;\n",
       "    }\n",
       "\n",
       "    .dataframe thead th {\n",
       "        text-align: right;\n",
       "    }\n",
       "</style>\n",
       "<table border=\"1\" class=\"dataframe\">\n",
       "  <thead>\n",
       "    <tr style=\"text-align: right;\">\n",
       "      <th></th>\n",
       "      <th>item_id</th>\n",
       "      <th>avg_gap</th>\n",
       "    </tr>\n",
       "  </thead>\n",
       "  <tbody>\n",
       "    <tr>\n",
       "      <th>0</th>\n",
       "      <td>0</td>\n",
       "      <td>0 days 00:00:00</td>\n",
       "    </tr>\n",
       "    <tr>\n",
       "      <th>1</th>\n",
       "      <td>1</td>\n",
       "      <td>40 days 04:48:00</td>\n",
       "    </tr>\n",
       "    <tr>\n",
       "      <th>2</th>\n",
       "      <td>2</td>\n",
       "      <td>80 days 00:00:00</td>\n",
       "    </tr>\n",
       "    <tr>\n",
       "      <th>3</th>\n",
       "      <td>3</td>\n",
       "      <td>52 days 00:00:00</td>\n",
       "    </tr>\n",
       "    <tr>\n",
       "      <th>4</th>\n",
       "      <td>4</td>\n",
       "      <td>0 days 00:00:00</td>\n",
       "    </tr>\n",
       "    <tr>\n",
       "      <th>5</th>\n",
       "      <td>5</td>\n",
       "      <td>0 days 00:00:00</td>\n",
       "    </tr>\n",
       "    <tr>\n",
       "      <th>6</th>\n",
       "      <td>6</td>\n",
       "      <td>0 days 00:00:00</td>\n",
       "    </tr>\n",
       "    <tr>\n",
       "      <th>7</th>\n",
       "      <td>7</td>\n",
       "      <td>0 days 00:00:00</td>\n",
       "    </tr>\n",
       "    <tr>\n",
       "      <th>8</th>\n",
       "      <td>8</td>\n",
       "      <td>6 days 00:00:00</td>\n",
       "    </tr>\n",
       "    <tr>\n",
       "      <th>9</th>\n",
       "      <td>9</td>\n",
       "      <td>0 days 00:00:00</td>\n",
       "    </tr>\n",
       "  </tbody>\n",
       "</table>\n",
       "</div>"
      ],
      "text/plain": [
       "   item_id          avg_gap\n",
       "0        0  0 days 00:00:00\n",
       "1        1 40 days 04:48:00\n",
       "2        2 80 days 00:00:00\n",
       "3        3 52 days 00:00:00\n",
       "4        4  0 days 00:00:00\n",
       "5        5  0 days 00:00:00\n",
       "6        6  0 days 00:00:00\n",
       "7        7  0 days 00:00:00\n",
       "8        8  6 days 00:00:00\n",
       "9        9  0 days 00:00:00"
      ]
     },
     "execution_count": 288,
     "metadata": {},
     "output_type": "execute_result"
    }
   ],
   "source": [
    "avg_time_bw_sales_by_item[:10]"
   ]
  },
  {
   "cell_type": "code",
   "execution_count": 292,
   "metadata": {},
   "outputs": [
    {
     "data": {
      "text/plain": [
       "0    2381\n",
       "2    1718\n",
       "1    1524\n",
       "3    1511\n",
       "4    1199\n",
       "5    1056\n",
       "6     904\n",
       "7     782\n",
       "8     683\n",
       "9     587\n",
       "Name: avg_gap, dtype: int64"
      ]
     },
     "execution_count": 292,
     "metadata": {},
     "output_type": "execute_result"
    }
   ],
   "source": [
    "# examine which values of average number of days between purchases are associated with the highest counts of items\n",
    "avg_time_bw_sales_by_item.avg_gap.dt.days.value_counts().sort_values(ascending=False)[:10]"
   ]
  },
  {
   "cell_type": "code",
   "execution_count": 306,
   "metadata": {},
   "outputs": [
    {
     "data": {
      "text/plain": [
       "count    21807.000000\n",
       "mean        23.343743\n",
       "std         54.577716\n",
       "min          0.000000\n",
       "25%          2.000000\n",
       "50%          7.000000\n",
       "75%         21.000000\n",
       "max        978.000000\n",
       "Name: avg_gap, dtype: float64"
      ]
     },
     "execution_count": 306,
     "metadata": {},
     "output_type": "execute_result"
    }
   ],
   "source": [
    "avg_time_bw_sales_by_item.avg_gap.dt.days.describe()"
   ]
  },
  {
   "cell_type": "code",
   "execution_count": 304,
   "metadata": {},
   "outputs": [
    {
     "data": {
      "image/png": "[encoded data removed]",
      "text/plain": [
       "<Figure size 432x288 with 1 Axes>"
      ]
     },
     "metadata": {
      "needs_background": "light"
     },
     "output_type": "display_data"
    }
   ],
   "source": [
    "plt.figure(figsize=(6,4))\n",
    "ax = sns.distplot(avg_time_bw_sales_by_item.avg_gap.dt.days, kde=False)\n",
    "plt.title(\"Histogram of Average Number of Days Between Purchases\")\n",
    "plt.xlabel(\"Average Gap, in Days\", fontsize=12)\n",
    "plt.ylabel(\"# of Items\", fontsize=12)\n",
    "plt.show()"
   ]
  },
  {
   "cell_type": "markdown",
   "metadata": {},
   "source": [
    "**FINDING:** Again, it is a highly skewed distribution.  The mean of average gap is 23.34 days, while the median is only 7 days.  The maximum value is 978 days, so there is one item that had a gap of almost 3 years between its purchases.  Whether that is an accurate value or not is not clear."
   ]
  },
  {
   "cell_type": "code",
   "execution_count": 312,
   "metadata": {},
   "outputs": [
    {
     "data": {
      "text/html": [
       "<div>\n",
       "<style scoped>\n",
       "    .dataframe tbody tr th:only-of-type {\n",
       "        vertical-align: middle;\n",
       "    }\n",
       "\n",
       "    .dataframe tbody tr th {\n",
       "        vertical-align: top;\n",
       "    }\n",
       "\n",
       "    .dataframe thead th {\n",
       "        text-align: right;\n",
       "    }\n",
       "</style>\n",
       "<table border=\"1\" class=\"dataframe\">\n",
       "  <thead>\n",
       "    <tr style=\"text-align: right;\">\n",
       "      <th></th>\n",
       "      <th>shop_id</th>\n",
       "      <th>n_unique_days</th>\n",
       "      <th>pct_of_all_days</th>\n",
       "    </tr>\n",
       "  </thead>\n",
       "  <tbody>\n",
       "    <tr>\n",
       "      <th>0</th>\n",
       "      <td>0</td>\n",
       "      <td>57</td>\n",
       "      <td>0.055126</td>\n",
       "    </tr>\n",
       "    <tr>\n",
       "      <th>1</th>\n",
       "      <td>1</td>\n",
       "      <td>56</td>\n",
       "      <td>0.054159</td>\n",
       "    </tr>\n",
       "    <tr>\n",
       "      <th>2</th>\n",
       "      <td>2</td>\n",
       "      <td>1018</td>\n",
       "      <td>0.984526</td>\n",
       "    </tr>\n",
       "    <tr>\n",
       "      <th>3</th>\n",
       "      <td>3</td>\n",
       "      <td>1028</td>\n",
       "      <td>0.994197</td>\n",
       "    </tr>\n",
       "    <tr>\n",
       "      <th>4</th>\n",
       "      <td>4</td>\n",
       "      <td>1010</td>\n",
       "      <td>0.976789</td>\n",
       "    </tr>\n",
       "  </tbody>\n",
       "</table>\n",
       "</div>"
      ],
      "text/plain": [
       "   shop_id  n_unique_days  pct_of_all_days\n",
       "0        0             57         0.055126\n",
       "1        1             56         0.054159\n",
       "2        2           1018         0.984526\n",
       "3        3           1028         0.994197\n",
       "4        4           1010         0.976789"
      ]
     },
     "execution_count": 312,
     "metadata": {},
     "output_type": "execute_result"
    }
   ],
   "source": [
    "# Calculate number of unique days on which each shop sold an item, and percentage of all days in the dataset\n",
    "n_days_by_shop = sales.groupby(\"shop_id\")[\"date\"].unique().map(lambda x: x.size).reset_index().rename(columns={'date':'n_unique_days'})\n",
    "n_days_by_shop['pct_of_all_days'] = n_days_by_shop.n_unique_days / ((sales.date.max() - sales.date.min()).days + 1)\n",
    "n_days_by_shop.head()"
   ]
  },
  {
   "cell_type": "code",
   "execution_count": 316,
   "metadata": {},
   "outputs": [
    {
     "data": {
      "image/png": "[encoded data removed]",
      "text/plain": [
       "<Figure size 1440x288 with 1 Axes>"
      ]
     },
     "metadata": {
      "needs_background": "light"
     },
     "output_type": "display_data"
    }
   ],
   "source": [
    "plt.figure(figsize=(20,4))\n",
    "ax = sns.distplot(n_days_by_shop.pct_of_all_days, bins=60, kde=False)\n",
    "plt.title(\"Histogram of Percent of Days with Item Sold\")\n",
    "plt.xlabel(\"Percent of All Days in Dataset\", fontsize=12)\n",
    "plt.ylabel(\"# of Shops\", fontsize=12)\n",
    "plt.show()"
   ]
  },
  {
   "cell_type": "code",
   "execution_count": 307,
   "metadata": {},
   "outputs": [],
   "source": [
    "unique_shop_dates = sales[['item_id','shop_id','date']].drop_duplicates(subset=['shop_id','date']).sort_values(by=['shop_id','date'])"
   ]
  },
  {
   "cell_type": "code",
   "execution_count": 308,
   "metadata": {},
   "outputs": [],
   "source": [
    "avg_time_bw_sales_by_shop = unique_shop_dates.groupby(\"shop_id\")[\"date\"].apply(lambda x: x.diff().mean()).reset_index().rename(columns={'date':'avg_gap'})"
   ]
  },
  {
   "cell_type": "code",
   "execution_count": 317,
   "metadata": {},
   "outputs": [
    {
     "data": {
      "text/html": [
       "<div>\n",
       "<style scoped>\n",
       "    .dataframe tbody tr th:only-of-type {\n",
       "        vertical-align: middle;\n",
       "    }\n",
       "\n",
       "    .dataframe tbody tr th {\n",
       "        vertical-align: top;\n",
       "    }\n",
       "\n",
       "    .dataframe thead th {\n",
       "        text-align: right;\n",
       "    }\n",
       "</style>\n",
       "<table border=\"1\" class=\"dataframe\">\n",
       "  <thead>\n",
       "    <tr style=\"text-align: right;\">\n",
       "      <th></th>\n",
       "      <th>shop_id</th>\n",
       "      <th>avg_gap</th>\n",
       "    </tr>\n",
       "  </thead>\n",
       "  <tbody>\n",
       "    <tr>\n",
       "      <th>0</th>\n",
       "      <td>0</td>\n",
       "      <td>1 days 00:00:00</td>\n",
       "    </tr>\n",
       "    <tr>\n",
       "      <th>1</th>\n",
       "      <td>1</td>\n",
       "      <td>1 days 00:26:10.909090</td>\n",
       "    </tr>\n",
       "    <tr>\n",
       "      <th>2</th>\n",
       "      <td>2</td>\n",
       "      <td>1 days 00:22:39.292035</td>\n",
       "    </tr>\n",
       "    <tr>\n",
       "      <th>3</th>\n",
       "      <td>3</td>\n",
       "      <td>1 days 00:07:00.642648</td>\n",
       "    </tr>\n",
       "    <tr>\n",
       "      <th>4</th>\n",
       "      <td>4</td>\n",
       "      <td>1 days 00:32:49.474727</td>\n",
       "    </tr>\n",
       "  </tbody>\n",
       "</table>\n",
       "</div>"
      ],
      "text/plain": [
       "   shop_id                avg_gap\n",
       "0        0        1 days 00:00:00\n",
       "1        1 1 days 00:26:10.909090\n",
       "2        2 1 days 00:22:39.292035\n",
       "3        3 1 days 00:07:00.642648\n",
       "4        4 1 days 00:32:49.474727"
      ]
     },
     "execution_count": 317,
     "metadata": {},
     "output_type": "execute_result"
    }
   ],
   "source": [
    "avg_time_bw_sales_by_shop.head()"
   ]
  },
  {
   "cell_type": "code",
   "execution_count": 324,
   "metadata": {},
   "outputs": [
    {
     "data": {
      "text/html": [
       "<div>\n",
       "<style scoped>\n",
       "    .dataframe tbody tr th:only-of-type {\n",
       "        vertical-align: middle;\n",
       "    }\n",
       "\n",
       "    .dataframe tbody tr th {\n",
       "        vertical-align: top;\n",
       "    }\n",
       "\n",
       "    .dataframe thead th {\n",
       "        text-align: right;\n",
       "    }\n",
       "</style>\n",
       "<table border=\"1\" class=\"dataframe\">\n",
       "  <thead>\n",
       "    <tr style=\"text-align: right;\">\n",
       "      <th></th>\n",
       "      <th>shop_id</th>\n",
       "      <th>avg_gap</th>\n",
       "      <th>n_unique_days</th>\n",
       "      <th>pct_of_all_days</th>\n",
       "      <th>avg_gap_hrs</th>\n",
       "    </tr>\n",
       "  </thead>\n",
       "  <tbody>\n",
       "    <tr>\n",
       "      <th>0</th>\n",
       "      <td>0</td>\n",
       "      <td>1 days 00:00:00</td>\n",
       "      <td>57</td>\n",
       "      <td>0.055126</td>\n",
       "      <td>24.000000</td>\n",
       "    </tr>\n",
       "    <tr>\n",
       "      <th>1</th>\n",
       "      <td>1</td>\n",
       "      <td>1 days 00:26:10.909090</td>\n",
       "      <td>56</td>\n",
       "      <td>0.054159</td>\n",
       "      <td>24.436111</td>\n",
       "    </tr>\n",
       "    <tr>\n",
       "      <th>2</th>\n",
       "      <td>2</td>\n",
       "      <td>1 days 00:22:39.292035</td>\n",
       "      <td>1018</td>\n",
       "      <td>0.984526</td>\n",
       "      <td>24.377500</td>\n",
       "    </tr>\n",
       "    <tr>\n",
       "      <th>3</th>\n",
       "      <td>3</td>\n",
       "      <td>1 days 00:07:00.642648</td>\n",
       "      <td>1028</td>\n",
       "      <td>0.994197</td>\n",
       "      <td>24.116667</td>\n",
       "    </tr>\n",
       "    <tr>\n",
       "      <th>4</th>\n",
       "      <td>4</td>\n",
       "      <td>1 days 00:32:49.474727</td>\n",
       "      <td>1010</td>\n",
       "      <td>0.976789</td>\n",
       "      <td>24.546944</td>\n",
       "    </tr>\n",
       "  </tbody>\n",
       "</table>\n",
       "</div>"
      ],
      "text/plain": [
       "   shop_id                avg_gap  n_unique_days  pct_of_all_days  avg_gap_hrs\n",
       "0        0        1 days 00:00:00             57         0.055126    24.000000\n",
       "1        1 1 days 00:26:10.909090             56         0.054159    24.436111\n",
       "2        2 1 days 00:22:39.292035           1018         0.984526    24.377500\n",
       "3        3 1 days 00:07:00.642648           1028         0.994197    24.116667\n",
       "4        4 1 days 00:32:49.474727           1010         0.976789    24.546944"
      ]
     },
     "execution_count": 324,
     "metadata": {},
     "output_type": "execute_result"
    }
   ],
   "source": [
    "shop_level_stats = avg_time_bw_sales_by_shop.merge(n_days_by_shop, on='shop_id')\n",
    "shop_level_stats['avg_gap_hrs'] = shop_level_stats.avg_gap.dt.days * 24 + shop_level_stats.avg_gap.dt.seconds / 3600.\n",
    "shop_level_stats.head()"
   ]
  },
  {
   "cell_type": "code",
   "execution_count": 337,
   "metadata": {},
   "outputs": [
    {
     "data": {
      "image/png": "[encoded data removed]",
      "text/plain": [
       "<Figure size 576x432 with 1 Axes>"
      ]
     },
     "metadata": {
      "needs_background": "light"
     },
     "output_type": "display_data"
    }
   ],
   "source": [
    "plt.figure(figsize=(8,6))\n",
    "ax = sns.scatterplot(data=shop_level_stats, x=\"pct_of_all_days\", y=\"avg_gap_hrs\")\n",
    "\n",
    "# display shop_id values for the two outlier shops in the plot\n",
    "for line in range(shop_level_stats.shape[0]):\n",
    "    if shop_level_stats.loc[line,'avg_gap_hrs'] > 200:\n",
    "        ax.text(shop_level_stats.pct_of_all_days[line]+0.01, shop_level_stats.avg_gap_hrs[line], \n",
    "        shop_level_stats.shop_id[line], horizontalalignment='left', \n",
    "        size='medium', color='black', weight='semibold')\n",
    "\n",
    "plt.title(\"Shops' Avg Gap in Hours Between Dates of Sales vs Pct of All Days with Sale\")\n",
    "plt.xlabel(\"Percent of All Days with a Sale\", fontsize=12)\n",
    "plt.ylabel(\"Avg Gap Between Dates of Sale, in Hours\", fontsize=12)\n",
    "plt.show()"
   ]
  },
  {
   "cell_type": "code",
   "execution_count": 407,
   "metadata": {},
   "outputs": [
    {
     "data": {
      "text/plain": [
       "count    58.000000\n",
       "mean     24.383597\n",
       "std       1.043993\n",
       "min      24.000000\n",
       "25%      24.042222\n",
       "50%      24.069722\n",
       "75%      24.187222\n",
       "max      29.963611\n",
       "Name: avg_gap_hrs, dtype: float64"
      ]
     },
     "execution_count": 407,
     "metadata": {},
     "output_type": "execute_result"
    }
   ],
   "source": [
    "shop_level_stats[shop_level_stats.avg_gap_hrs < 200].avg_gap_hrs.describe()"
   ]
  },
  {
   "cell_type": "markdown",
   "metadata": {},
   "source": [
    "**FINDING:** Nearly all shops have just about a 1-day average gap between sales (i.e., they sell items just about every day), but there is a couple of shops with the average gap above 1,000 hours (over 40 days).  We'll need to examine those two shops more closely later."
   ]
  },
  {
   "cell_type": "code",
   "execution_count": 341,
   "metadata": {},
   "outputs": [],
   "source": [
    "# Let's also examine how each shop's overall span between first and last dates of sales looks.\n",
    "shop_level_stats['first_date'] = sales.groupby('shop_id')['date'].min()\n",
    "shop_level_stats['last_date'] = sales.groupby('shop_id')['date'].max()"
   ]
  },
  {
   "cell_type": "code",
   "execution_count": 342,
   "metadata": {},
   "outputs": [
    {
     "data": {
      "text/html": [
       "<div>\n",
       "<style scoped>\n",
       "    .dataframe tbody tr th:only-of-type {\n",
       "        vertical-align: middle;\n",
       "    }\n",
       "\n",
       "    .dataframe tbody tr th {\n",
       "        vertical-align: top;\n",
       "    }\n",
       "\n",
       "    .dataframe thead th {\n",
       "        text-align: right;\n",
       "    }\n",
       "</style>\n",
       "<table border=\"1\" class=\"dataframe\">\n",
       "  <thead>\n",
       "    <tr style=\"text-align: right;\">\n",
       "      <th></th>\n",
       "      <th>shop_id</th>\n",
       "      <th>avg_gap</th>\n",
       "      <th>n_unique_days</th>\n",
       "      <th>pct_of_all_days</th>\n",
       "      <th>avg_gap_hrs</th>\n",
       "      <th>first_date</th>\n",
       "      <th>last_date</th>\n",
       "    </tr>\n",
       "  </thead>\n",
       "  <tbody>\n",
       "    <tr>\n",
       "      <th>0</th>\n",
       "      <td>0</td>\n",
       "      <td>1 days 00:00:00</td>\n",
       "      <td>57</td>\n",
       "      <td>0.055126</td>\n",
       "      <td>24.000000</td>\n",
       "      <td>2013-01-03</td>\n",
       "      <td>2013-02-28</td>\n",
       "    </tr>\n",
       "    <tr>\n",
       "      <th>1</th>\n",
       "      <td>1</td>\n",
       "      <td>1 days 00:26:10.909090</td>\n",
       "      <td>56</td>\n",
       "      <td>0.054159</td>\n",
       "      <td>24.436111</td>\n",
       "      <td>2013-01-03</td>\n",
       "      <td>2013-02-28</td>\n",
       "    </tr>\n",
       "    <tr>\n",
       "      <th>2</th>\n",
       "      <td>2</td>\n",
       "      <td>1 days 00:22:39.292035</td>\n",
       "      <td>1018</td>\n",
       "      <td>0.984526</td>\n",
       "      <td>24.377500</td>\n",
       "      <td>2013-01-01</td>\n",
       "      <td>2015-10-31</td>\n",
       "    </tr>\n",
       "    <tr>\n",
       "      <th>3</th>\n",
       "      <td>3</td>\n",
       "      <td>1 days 00:07:00.642648</td>\n",
       "      <td>1028</td>\n",
       "      <td>0.994197</td>\n",
       "      <td>24.116667</td>\n",
       "      <td>2013-01-02</td>\n",
       "      <td>2015-10-31</td>\n",
       "    </tr>\n",
       "    <tr>\n",
       "      <th>4</th>\n",
       "      <td>4</td>\n",
       "      <td>1 days 00:32:49.474727</td>\n",
       "      <td>1010</td>\n",
       "      <td>0.976789</td>\n",
       "      <td>24.546944</td>\n",
       "      <td>2013-01-02</td>\n",
       "      <td>2015-10-31</td>\n",
       "    </tr>\n",
       "  </tbody>\n",
       "</table>\n",
       "</div>"
      ],
      "text/plain": [
       "   shop_id                avg_gap  n_unique_days  pct_of_all_days  \\\n",
       "0        0        1 days 00:00:00             57         0.055126   \n",
       "1        1 1 days 00:26:10.909090             56         0.054159   \n",
       "2        2 1 days 00:22:39.292035           1018         0.984526   \n",
       "3        3 1 days 00:07:00.642648           1028         0.994197   \n",
       "4        4 1 days 00:32:49.474727           1010         0.976789   \n",
       "\n",
       "   avg_gap_hrs first_date  last_date  \n",
       "0    24.000000 2013-01-03 2013-02-28  \n",
       "1    24.436111 2013-01-03 2013-02-28  \n",
       "2    24.377500 2013-01-01 2015-10-31  \n",
       "3    24.116667 2013-01-02 2015-10-31  \n",
       "4    24.546944 2013-01-02 2015-10-31  "
      ]
     },
     "execution_count": 342,
     "metadata": {},
     "output_type": "execute_result"
    }
   ],
   "source": [
    "shop_level_stats.head()"
   ]
  },
  {
   "cell_type": "code",
   "execution_count": 343,
   "metadata": {},
   "outputs": [
    {
     "data": {
      "text/plain": [
       "shop_id                      int64\n",
       "avg_gap            timedelta64[ns]\n",
       "n_unique_days                int64\n",
       "pct_of_all_days            float64\n",
       "avg_gap_hrs                float64\n",
       "first_date          datetime64[ns]\n",
       "last_date           datetime64[ns]\n",
       "dtype: object"
      ]
     },
     "execution_count": 343,
     "metadata": {},
     "output_type": "execute_result"
    }
   ],
   "source": [
    "shop_level_stats.dtypes"
   ]
  },
  {
   "cell_type": "code",
   "execution_count": 406,
   "metadata": {},
   "outputs": [
    {
     "data": {
      "image/png": "[encoded data removed]",
      "text/plain": [
       "<Figure size 1440x1080 with 1 Axes>"
      ]
     },
     "metadata": {
      "needs_background": "light"
     },
     "output_type": "display_data"
    }
   ],
   "source": [
    "bdate = [t for t in shop_level_stats['first_date'] ]\n",
    "edate = [t for t in shop_level_stats['last_date'] ]\n",
    "\n",
    "# Now convert them to matplotlib's internal format...\n",
    "edate, bdate = [mdates.date2num(item) for item in (edate, bdate)]\n",
    "\n",
    "ypos = range(len(edate))\n",
    "\n",
    "fig, ax = plt.subplots(figsize = (20, 15))\n",
    "\n",
    "ax.grid(axis='x')\n",
    "\n",
    "# Plot the data\n",
    "ax.barh(ypos, edate - bdate, left=bdate, height=0.5, align='center', color=\"orange\", edgecolor=\"black\")\n",
    "ax.axis('tight')\n",
    "ax.set_yticks([i for i in shop_level_stats.index])\n",
    "#ax.set_xticks([i for i in shop_level_stats.fir])\n",
    "\n",
    "# Formatters for x-axis labels\n",
    "months = mdates.MonthLocator()  # every month\n",
    "date_fmt = mdates.DateFormatter('%Y-%m')\n",
    "# We need to tell matplotlib that these are dates...\n",
    "ax.xaxis_date()\n",
    "ax.xaxis.set_major_locator(months)\n",
    "ax.xaxis.set_major_formatter(date_fmt)\n",
    "fig.autofmt_xdate()\n",
    "ax.set_xlim(shop_level_stats.first_date.min(), shop_level_stats.last_date.max())\n",
    "\n",
    "plt.title(\"Span of Sales Dates for Each of the Shops in Train Data\")\n",
    "plt.xlabel(\"Date of Sale\", fontsize=12)\n",
    "plt.ylabel(\"Shop ID\", fontsize=12)\n",
    "\n",
    "plt.show()"
   ]
  },
  {
   "cell_type": "markdown",
   "metadata": {},
   "source": [
    "**FINDING:** We can see that there are 18 shops that stopped selling before the last day in the train dataset."
   ]
  },
  {
   "cell_type": "code",
   "execution_count": 413,
   "metadata": {},
   "outputs": [
    {
     "data": {
      "text/plain": [
       "2169.0"
      ]
     },
     "execution_count": 413,
     "metadata": {},
     "output_type": "execute_result"
    }
   ],
   "source": [
    "#Let's dive a little deeper into quantity sold values\n",
    "sales.item_cnt_day.max()"
   ]
  },
  {
   "cell_type": "code",
   "execution_count": 414,
   "metadata": {},
   "outputs": [
    {
     "data": {
      "text/html": [
       "<div>\n",
       "<style scoped>\n",
       "    .dataframe tbody tr th:only-of-type {\n",
       "        vertical-align: middle;\n",
       "    }\n",
       "\n",
       "    .dataframe tbody tr th {\n",
       "        vertical-align: top;\n",
       "    }\n",
       "\n",
       "    .dataframe thead th {\n",
       "        text-align: right;\n",
       "    }\n",
       "</style>\n",
       "<table border=\"1\" class=\"dataframe\">\n",
       "  <thead>\n",
       "    <tr style=\"text-align: right;\">\n",
       "      <th></th>\n",
       "      <th>date</th>\n",
       "      <th>date_block_num</th>\n",
       "      <th>shop_id</th>\n",
       "      <th>item_id</th>\n",
       "      <th>item_price</th>\n",
       "      <th>item_cnt_day</th>\n",
       "    </tr>\n",
       "  </thead>\n",
       "  <tbody>\n",
       "    <tr>\n",
       "      <th>2909818</th>\n",
       "      <td>2015-10-28</td>\n",
       "      <td>33</td>\n",
       "      <td>12</td>\n",
       "      <td>11373</td>\n",
       "      <td>0.908714</td>\n",
       "      <td>2169.0</td>\n",
       "    </tr>\n",
       "  </tbody>\n",
       "</table>\n",
       "</div>"
      ],
      "text/plain": [
       "              date  date_block_num  shop_id  item_id  item_price  item_cnt_day\n",
       "2909818 2015-10-28              33       12    11373    0.908714        2169.0"
      ]
     },
     "execution_count": 414,
     "metadata": {},
     "output_type": "execute_result"
    }
   ],
   "source": [
    "#Let's look into this item with the highest quantity sold value\n",
    "sales[sales.item_cnt_day == 2169.0]"
   ]
  },
  {
   "cell_type": "code",
   "execution_count": 424,
   "metadata": {},
   "outputs": [
    {
     "data": {
      "text/plain": [
       "0.908714"
      ]
     },
     "execution_count": 424,
     "metadata": {},
     "output_type": "execute_result"
    }
   ],
   "source": [
    "# divide total revenue by quantity to get back the price\n",
    "round(1971 / 2169, 6)"
   ]
  },
  {
   "cell_type": "markdown",
   "metadata": {},
   "source": [
    "**FINDING:** It appears that the price in this case was set based on the total amount or based on the quantity sold."
   ]
  },
  {
   "cell_type": "code",
   "execution_count": 417,
   "metadata": {},
   "outputs": [
    {
     "data": {
      "image/png": "[encoded data removed]",
      "text/plain": [
       "<Figure size 1440x432 with 1 Axes>"
      ]
     },
     "metadata": {
      "needs_background": "light"
     },
     "output_type": "display_data"
    }
   ],
   "source": [
    "plot_price_over_time(11373)"
   ]
  },
  {
   "cell_type": "code",
   "execution_count": 422,
   "metadata": {},
   "outputs": [
    {
     "data": {
      "image/png": "[encoded data removed]",
      "text/plain": [
       "<Figure size 576x432 with 1 Axes>"
      ]
     },
     "metadata": {
      "needs_background": "light"
     },
     "output_type": "display_data"
    }
   ],
   "source": [
    "plt.figure(figsize=(8,6))\n",
    "ax = sns.scatterplot(data=sales[sales.item_id == 11373], x=\"item_cnt_day\", y=\"item_price\")\n",
    "plt.title(\"Item 11373's Price vs. Quantity Sold\")\n",
    "plt.xlabel(\"Quantity Sold\", fontsize=12)\n",
    "plt.ylabel(\"Item Price\", fontsize=12)\n",
    "plt.show()"
   ]
  },
  {
   "cell_type": "markdown",
   "metadata": {},
   "source": [
    "**FINDING:** Item 11373 looks odd, as quantity sold is not dependent on price for most sales. The price is also very volatile with a very large range. We'll need to examine this item more closely later."
   ]
  },
  {
   "cell_type": "code",
   "execution_count": 425,
   "metadata": {},
   "outputs": [
    {
     "data": {
      "text/plain": [
       "-22.0"
      ]
     },
     "execution_count": 425,
     "metadata": {},
     "output_type": "execute_result"
    }
   ],
   "source": [
    "sales.item_cnt_day.min()"
   ]
  },
  {
   "cell_type": "code",
   "execution_count": 426,
   "metadata": {},
   "outputs": [
    {
     "data": {
      "text/html": [
       "<div>\n",
       "<style scoped>\n",
       "    .dataframe tbody tr th:only-of-type {\n",
       "        vertical-align: middle;\n",
       "    }\n",
       "\n",
       "    .dataframe tbody tr th {\n",
       "        vertical-align: top;\n",
       "    }\n",
       "\n",
       "    .dataframe thead th {\n",
       "        text-align: right;\n",
       "    }\n",
       "</style>\n",
       "<table border=\"1\" class=\"dataframe\">\n",
       "  <thead>\n",
       "    <tr style=\"text-align: right;\">\n",
       "      <th></th>\n",
       "      <th>date</th>\n",
       "      <th>date_block_num</th>\n",
       "      <th>shop_id</th>\n",
       "      <th>item_id</th>\n",
       "      <th>item_price</th>\n",
       "      <th>item_cnt_day</th>\n",
       "    </tr>\n",
       "  </thead>\n",
       "  <tbody>\n",
       "    <tr>\n",
       "      <th>1057907</th>\n",
       "      <td>2013-11-02</td>\n",
       "      <td>10</td>\n",
       "      <td>12</td>\n",
       "      <td>8023</td>\n",
       "      <td>15.0</td>\n",
       "      <td>-22.0</td>\n",
       "    </tr>\n",
       "  </tbody>\n",
       "</table>\n",
       "</div>"
      ],
      "text/plain": [
       "              date  date_block_num  shop_id  item_id  item_price  item_cnt_day\n",
       "1057907 2013-11-02              10       12     8023        15.0         -22.0"
      ]
     },
     "execution_count": 426,
     "metadata": {},
     "output_type": "execute_result"
    }
   ],
   "source": [
    "#Let's look into this item with the largest negative quantity sold value\n",
    "sales[sales.item_cnt_day == -22.0]"
   ]
  },
  {
   "cell_type": "code",
   "execution_count": 430,
   "metadata": {},
   "outputs": [
    {
     "data": {
      "text/html": [
       "<div>\n",
       "<style scoped>\n",
       "    .dataframe tbody tr th:only-of-type {\n",
       "        vertical-align: middle;\n",
       "    }\n",
       "\n",
       "    .dataframe tbody tr th {\n",
       "        vertical-align: top;\n",
       "    }\n",
       "\n",
       "    .dataframe thead th {\n",
       "        text-align: right;\n",
       "    }\n",
       "</style>\n",
       "<table border=\"1\" class=\"dataframe\">\n",
       "  <thead>\n",
       "    <tr style=\"text-align: right;\">\n",
       "      <th></th>\n",
       "      <th>date</th>\n",
       "      <th>date_block_num</th>\n",
       "      <th>shop_id</th>\n",
       "      <th>item_id</th>\n",
       "      <th>item_price</th>\n",
       "      <th>item_cnt_day</th>\n",
       "    </tr>\n",
       "  </thead>\n",
       "  <tbody>\n",
       "    <tr>\n",
       "      <th>511574</th>\n",
       "      <td>2013-05-31</td>\n",
       "      <td>4</td>\n",
       "      <td>12</td>\n",
       "      <td>8023</td>\n",
       "      <td>20.0</td>\n",
       "      <td>1.0</td>\n",
       "    </tr>\n",
       "    <tr>\n",
       "      <th>885224</th>\n",
       "      <td>2013-09-25</td>\n",
       "      <td>8</td>\n",
       "      <td>12</td>\n",
       "      <td>8023</td>\n",
       "      <td>15.0</td>\n",
       "      <td>22.0</td>\n",
       "    </tr>\n",
       "    <tr>\n",
       "      <th>1057907</th>\n",
       "      <td>2013-11-02</td>\n",
       "      <td>10</td>\n",
       "      <td>12</td>\n",
       "      <td>8023</td>\n",
       "      <td>15.0</td>\n",
       "      <td>-22.0</td>\n",
       "    </tr>\n",
       "    <tr>\n",
       "      <th>1175066</th>\n",
       "      <td>2013-12-27</td>\n",
       "      <td>11</td>\n",
       "      <td>12</td>\n",
       "      <td>8023</td>\n",
       "      <td>15.0</td>\n",
       "      <td>1.0</td>\n",
       "    </tr>\n",
       "    <tr>\n",
       "      <th>1330814</th>\n",
       "      <td>2014-01-27</td>\n",
       "      <td>12</td>\n",
       "      <td>12</td>\n",
       "      <td>8023</td>\n",
       "      <td>15.0</td>\n",
       "      <td>20.0</td>\n",
       "    </tr>\n",
       "  </tbody>\n",
       "</table>\n",
       "</div>"
      ],
      "text/plain": [
       "              date  date_block_num  shop_id  item_id  item_price  item_cnt_day\n",
       "511574  2013-05-31               4       12     8023        20.0           1.0\n",
       "885224  2013-09-25               8       12     8023        15.0          22.0\n",
       "1057907 2013-11-02              10       12     8023        15.0         -22.0\n",
       "1175066 2013-12-27              11       12     8023        15.0           1.0\n",
       "1330814 2014-01-27              12       12     8023        15.0          20.0"
      ]
     },
     "execution_count": 430,
     "metadata": {},
     "output_type": "execute_result"
    }
   ],
   "source": [
    "sales[(sales.shop_id == 12) & (sales.item_id == 8023)]"
   ]
  },
  {
   "cell_type": "markdown",
   "metadata": {},
   "source": [
    "**FINDING:** At least in this case, it appears that the negative value of quantity sold is either a return of the item or some accounting/inventory correction."
   ]
  },
  {
   "cell_type": "code",
   "execution_count": 431,
   "metadata": {},
   "outputs": [
    {
     "data": {
      "text/plain": [
       "7356"
      ]
     },
     "execution_count": 431,
     "metadata": {},
     "output_type": "execute_result"
    }
   ],
   "source": [
    "# Let's look into all of these rows with negative quantity sold to see if we can figure out what those mean\n",
    "len(sales[sales.item_cnt_day < 0])"
   ]
  },
  {
   "cell_type": "code",
   "execution_count": 444,
   "metadata": {},
   "outputs": [],
   "source": [
    "neg_qty_df = sales[sales.item_cnt_day < 0]"
   ]
  },
  {
   "cell_type": "code",
   "execution_count": 464,
   "metadata": {},
   "outputs": [],
   "source": [
    "#Make the db in memory\n",
    "conn = sqlite3.connect(':memory:')\n",
    "\n",
    "#write the tables\n",
    "neg_qty_df.to_sql('neg_qty_tbl', conn, index=False)\n",
    "sales.to_sql('sales_tbl', conn, index=False)\n",
    "\n",
    "qry = '''\n",
    "    select\n",
    "        date,\n",
    "        max(earlier_date) most_recent_earlier_date,\n",
    "        date_block_num,\n",
    "        shop_id,\n",
    "        item_id,\n",
    "        item_price,\n",
    "        item_cnt_day\n",
    "    from\n",
    "        (select\n",
    "            neg_qty_tbl.date,\n",
    "            sales_tbl.date earlier_date,\n",
    "            neg_qty_tbl.date_block_num,\n",
    "            neg_qty_tbl.shop_id,\n",
    "            neg_qty_tbl.item_id,\n",
    "            neg_qty_tbl.item_price,\n",
    "            neg_qty_tbl.item_cnt_day\n",
    "        from\n",
    "            neg_qty_tbl left join sales_tbl on\n",
    "            neg_qty_tbl.shop_id = sales_tbl.shop_id and\n",
    "            neg_qty_tbl.item_id = sales_tbl.item_id and\n",
    "            neg_qty_tbl.item_price = sales_tbl.item_price and\n",
    "            abs(neg_qty_tbl.item_cnt_day) = sales_tbl.item_cnt_day and\n",
    "            neg_qty_tbl.date > sales_tbl.date)\n",
    "    group by date, shop_id, item_id, item_price, item_cnt_day\n",
    "    '''\n",
    "\n",
    "neg_qty_history = pd.read_sql_query(qry, conn)"
   ]
  },
  {
   "cell_type": "code",
   "execution_count": 465,
   "metadata": {},
   "outputs": [
    {
     "data": {
      "text/plain": [
       "(7356, 7)"
      ]
     },
     "execution_count": 465,
     "metadata": {},
     "output_type": "execute_result"
    }
   ],
   "source": [
    "neg_qty_history.shape"
   ]
  },
  {
   "cell_type": "code",
   "execution_count": 466,
   "metadata": {},
   "outputs": [
    {
     "data": {
      "text/html": [
       "<div>\n",
       "<style scoped>\n",
       "    .dataframe tbody tr th:only-of-type {\n",
       "        vertical-align: middle;\n",
       "    }\n",
       "\n",
       "    .dataframe tbody tr th {\n",
       "        vertical-align: top;\n",
       "    }\n",
       "\n",
       "    .dataframe thead th {\n",
       "        text-align: right;\n",
       "    }\n",
       "</style>\n",
       "<table border=\"1\" class=\"dataframe\">\n",
       "  <thead>\n",
       "    <tr style=\"text-align: right;\">\n",
       "      <th></th>\n",
       "      <th>date</th>\n",
       "      <th>most_recent_earlier_date</th>\n",
       "      <th>date_block_num</th>\n",
       "      <th>shop_id</th>\n",
       "      <th>item_id</th>\n",
       "      <th>item_price</th>\n",
       "      <th>item_cnt_day</th>\n",
       "    </tr>\n",
       "  </thead>\n",
       "  <tbody>\n",
       "    <tr>\n",
       "      <th>0</th>\n",
       "      <td>2013-01-01 00:00:00</td>\n",
       "      <td>None</td>\n",
       "      <td>0</td>\n",
       "      <td>18</td>\n",
       "      <td>6724</td>\n",
       "      <td>299.5</td>\n",
       "      <td>-1.0</td>\n",
       "    </tr>\n",
       "    <tr>\n",
       "      <th>1</th>\n",
       "      <td>2013-01-01 00:00:00</td>\n",
       "      <td>None</td>\n",
       "      <td>0</td>\n",
       "      <td>19</td>\n",
       "      <td>13086</td>\n",
       "      <td>1499.0</td>\n",
       "      <td>-1.0</td>\n",
       "    </tr>\n",
       "    <tr>\n",
       "      <th>2</th>\n",
       "      <td>2013-01-01 00:00:00</td>\n",
       "      <td>None</td>\n",
       "      <td>0</td>\n",
       "      <td>19</td>\n",
       "      <td>20383</td>\n",
       "      <td>1229.0</td>\n",
       "      <td>-1.0</td>\n",
       "    </tr>\n",
       "    <tr>\n",
       "      <th>3</th>\n",
       "      <td>2013-01-01 00:00:00</td>\n",
       "      <td>None</td>\n",
       "      <td>0</td>\n",
       "      <td>27</td>\n",
       "      <td>12269</td>\n",
       "      <td>1499.0</td>\n",
       "      <td>-1.0</td>\n",
       "    </tr>\n",
       "    <tr>\n",
       "      <th>4</th>\n",
       "      <td>2013-01-01 00:00:00</td>\n",
       "      <td>None</td>\n",
       "      <td>0</td>\n",
       "      <td>37</td>\n",
       "      <td>9601</td>\n",
       "      <td>849.0</td>\n",
       "      <td>-1.0</td>\n",
       "    </tr>\n",
       "  </tbody>\n",
       "</table>\n",
       "</div>"
      ],
      "text/plain": [
       "                  date most_recent_earlier_date  date_block_num  shop_id  \\\n",
       "0  2013-01-01 00:00:00                     None               0       18   \n",
       "1  2013-01-01 00:00:00                     None               0       19   \n",
       "2  2013-01-01 00:00:00                     None               0       19   \n",
       "3  2013-01-01 00:00:00                     None               0       27   \n",
       "4  2013-01-01 00:00:00                     None               0       37   \n",
       "\n",
       "   item_id  item_price  item_cnt_day  \n",
       "0     6724       299.5          -1.0  \n",
       "1    13086      1499.0          -1.0  \n",
       "2    20383      1229.0          -1.0  \n",
       "3    12269      1499.0          -1.0  \n",
       "4     9601       849.0          -1.0  "
      ]
     },
     "execution_count": 466,
     "metadata": {},
     "output_type": "execute_result"
    }
   ],
   "source": [
    "neg_qty_history.head()"
   ]
  },
  {
   "cell_type": "code",
   "execution_count": 467,
   "metadata": {},
   "outputs": [
    {
     "data": {
      "text/plain": [
       "358"
      ]
     },
     "execution_count": 467,
     "metadata": {},
     "output_type": "execute_result"
    }
   ],
   "source": [
    "len(neg_qty_history[neg_qty_history.most_recent_earlier_date.isnull()])"
   ]
  },
  {
   "cell_type": "markdown",
   "metadata": {},
   "source": [
    "**FINDING:** Out of 7,356 shop-item-date combinations with negative quantity sold, 6,998 (95%) have a record with an earlier date with the positive value of that quantity (supporting the hypothesis that those negative quantities are returns or accounting/inventory adjustments).  Only 358 combinations do not show an earlier positive quantity sold (of exact same value).  (It is possible that the negative quantity captures multiple dates of returns/adjustments, not just one, or that the negative quantity is a subset of the positive quantity sold.)"
   ]
  },
  {
   "cell_type": "code",
   "execution_count": 469,
   "metadata": {},
   "outputs": [
    {
     "data": {
      "text/plain": [
       "0     126\n",
       "1      26\n",
       "2      10\n",
       "3       9\n",
       "4       1\n",
       "5       8\n",
       "6       2\n",
       "7      15\n",
       "8       3\n",
       "9      15\n",
       "10      9\n",
       "11      6\n",
       "12     10\n",
       "13      7\n",
       "14      3\n",
       "15      5\n",
       "16      3\n",
       "17      6\n",
       "18      6\n",
       "19      7\n",
       "20      9\n",
       "21      7\n",
       "22      3\n",
       "23      4\n",
       "24      4\n",
       "25      6\n",
       "26      5\n",
       "27      5\n",
       "28      9\n",
       "29      8\n",
       "30      3\n",
       "31      5\n",
       "32      6\n",
       "33      7\n",
       "Name: date_block_num, dtype: int64"
      ]
     },
     "execution_count": 469,
     "metadata": {},
     "output_type": "execute_result"
    }
   ],
   "source": [
    "neg_qty_history[neg_qty_history.most_recent_earlier_date.isnull()].date_block_num.value_counts().sort_index()"
   ]
  },
  {
   "cell_type": "markdown",
   "metadata": {},
   "source": [
    "**FINDNG:** We can also see that among those 358 combinations, a lot of them are in the early months of the period covered by the training data, so it possible that we are just not able to observe the purchases/incorrect transactions that happened prior to these returns/adjustments. "
   ]
  },
  {
   "cell_type": "code",
   "execution_count": 480,
   "metadata": {},
   "outputs": [
    {
     "data": {
      "text/plain": [
       "array([datetime.date(2013, 2, 28), datetime.date(2013, 4, 1),\n",
       "       datetime.date(2013, 4, 28), datetime.date(2013, 7, 3),\n",
       "       datetime.date(2014, 8, 9), datetime.date(2015, 1, 18),\n",
       "       datetime.date(2015, 1, 25), datetime.date(2015, 1, 29),\n",
       "       datetime.date(2015, 2, 18), datetime.date(2015, 2, 28),\n",
       "       datetime.date(2015, 4, 23), datetime.date(2015, 4, 24),\n",
       "       datetime.date(2015, 5, 28), datetime.date(2015, 9, 28),\n",
       "       datetime.date(2015, 9, 30), datetime.date(2015, 10, 4),\n",
       "       datetime.date(2015, 10, 14), datetime.date(2015, 10, 30),\n",
       "       datetime.date(2015, 10, 31)], dtype=object)"
      ]
     },
     "execution_count": 480,
     "metadata": {},
     "output_type": "execute_result"
    }
   ],
   "source": [
    "#Let's look into any interesting patterns in sales in shops that closed before the end of the period covered by the training data.\n",
    "np.sort(shop_level_stats.last_date.dt.date.unique())"
   ]
  },
  {
   "cell_type": "code",
   "execution_count": 483,
   "metadata": {},
   "outputs": [
    {
     "data": {
      "text/plain": [
       "array([ 0,  1,  8,  9, 11, 13, 17, 20, 23, 27, 29, 30, 32, 33, 40, 43, 51,\n",
       "       54])"
      ]
     },
     "execution_count": 483,
     "metadata": {},
     "output_type": "execute_result"
    }
   ],
   "source": [
    "# query to identify 18 shops that stopped sales before the end of the train period\n",
    "closed_shops = shop_level_stats[shop_level_stats.last_date < datetime.datetime(2015,10,30)].shop_id.unique()\n",
    "closed_shops"
   ]
  },
  {
   "cell_type": "code",
   "execution_count": 492,
   "metadata": {},
   "outputs": [],
   "source": [
    "monthly_sales_of_closed_shops = sales[sales.shop_id.isin(closed_shops)] \\\n",
    "    .groupby(['shop_id','date_block_num'])['item_cnt_day'].sum().reset_index() \\\n",
    "    .rename(columns={'item_cnt_day':'total_qty_sold'})"
   ]
  },
  {
   "cell_type": "code",
   "execution_count": 503,
   "metadata": {},
   "outputs": [
    {
     "data": {
      "text/html": [
       "<div>\n",
       "<style scoped>\n",
       "    .dataframe tbody tr th:only-of-type {\n",
       "        vertical-align: middle;\n",
       "    }\n",
       "\n",
       "    .dataframe tbody tr th {\n",
       "        vertical-align: top;\n",
       "    }\n",
       "\n",
       "    .dataframe thead th {\n",
       "        text-align: right;\n",
       "    }\n",
       "</style>\n",
       "<table border=\"1\" class=\"dataframe\">\n",
       "  <thead>\n",
       "    <tr style=\"text-align: right;\">\n",
       "      <th></th>\n",
       "      <th>shop_id</th>\n",
       "      <th>date_block_num</th>\n",
       "      <th>total_qty_sold</th>\n",
       "      <th>last_date</th>\n",
       "      <th>month_before_closure</th>\n",
       "    </tr>\n",
       "  </thead>\n",
       "  <tbody>\n",
       "    <tr>\n",
       "      <th>0</th>\n",
       "      <td>0</td>\n",
       "      <td>0</td>\n",
       "      <td>5578.0</td>\n",
       "      <td>2013-02-28</td>\n",
       "      <td>1</td>\n",
       "    </tr>\n",
       "    <tr>\n",
       "      <th>1</th>\n",
       "      <td>0</td>\n",
       "      <td>1</td>\n",
       "      <td>6127.0</td>\n",
       "      <td>2013-02-28</td>\n",
       "      <td>0</td>\n",
       "    </tr>\n",
       "    <tr>\n",
       "      <th>2</th>\n",
       "      <td>1</td>\n",
       "      <td>0</td>\n",
       "      <td>2947.0</td>\n",
       "      <td>2013-02-28</td>\n",
       "      <td>1</td>\n",
       "    </tr>\n",
       "    <tr>\n",
       "      <th>3</th>\n",
       "      <td>1</td>\n",
       "      <td>1</td>\n",
       "      <td>3364.0</td>\n",
       "      <td>2013-02-28</td>\n",
       "      <td>0</td>\n",
       "    </tr>\n",
       "    <tr>\n",
       "      <th>4</th>\n",
       "      <td>8</td>\n",
       "      <td>0</td>\n",
       "      <td>1463.0</td>\n",
       "      <td>2013-04-01</td>\n",
       "      <td>3</td>\n",
       "    </tr>\n",
       "    <tr>\n",
       "      <th>5</th>\n",
       "      <td>8</td>\n",
       "      <td>1</td>\n",
       "      <td>1156.0</td>\n",
       "      <td>2013-04-01</td>\n",
       "      <td>2</td>\n",
       "    </tr>\n",
       "    <tr>\n",
       "      <th>6</th>\n",
       "      <td>8</td>\n",
       "      <td>2</td>\n",
       "      <td>977.0</td>\n",
       "      <td>2013-04-01</td>\n",
       "      <td>1</td>\n",
       "    </tr>\n",
       "    <tr>\n",
       "      <th>7</th>\n",
       "      <td>8</td>\n",
       "      <td>3</td>\n",
       "      <td>-1.0</td>\n",
       "      <td>2013-04-01</td>\n",
       "      <td>0</td>\n",
       "    </tr>\n",
       "    <tr>\n",
       "      <th>8</th>\n",
       "      <td>9</td>\n",
       "      <td>9</td>\n",
       "      <td>6526.0</td>\n",
       "      <td>2015-10-14</td>\n",
       "      <td>24</td>\n",
       "    </tr>\n",
       "    <tr>\n",
       "      <th>9</th>\n",
       "      <td>9</td>\n",
       "      <td>21</td>\n",
       "      <td>6155.0</td>\n",
       "      <td>2015-10-14</td>\n",
       "      <td>12</td>\n",
       "    </tr>\n",
       "  </tbody>\n",
       "</table>\n",
       "</div>"
      ],
      "text/plain": [
       "   shop_id  date_block_num  total_qty_sold  last_date  month_before_closure\n",
       "0        0               0          5578.0 2013-02-28                     1\n",
       "1        0               1          6127.0 2013-02-28                     0\n",
       "2        1               0          2947.0 2013-02-28                     1\n",
       "3        1               1          3364.0 2013-02-28                     0\n",
       "4        8               0          1463.0 2013-04-01                     3\n",
       "5        8               1          1156.0 2013-04-01                     2\n",
       "6        8               2           977.0 2013-04-01                     1\n",
       "7        8               3            -1.0 2013-04-01                     0\n",
       "8        9               9          6526.0 2015-10-14                    24\n",
       "9        9              21          6155.0 2015-10-14                    12"
      ]
     },
     "execution_count": 503,
     "metadata": {},
     "output_type": "execute_result"
    }
   ],
   "source": [
    "monthly_sales_of_closed_shops = monthly_sales_of_closed_shops.merge(shop_level_stats[['shop_id','last_date']], \\\n",
    "                                                                    on=\"shop_id\", how=\"left\")\n",
    "monthly_sales_of_closed_shops['month_before_closure'] = monthly_sales_of_closed_shops.last_date.apply(month_counter) \\\n",
    "    - monthly_sales_of_closed_shops.date_block_num\n",
    "\n",
    "monthly_sales_of_closed_shops.head(10)"
   ]
  },
  {
   "cell_type": "code",
   "execution_count": 528,
   "metadata": {},
   "outputs": [
    {
     "data": {
      "image/png": "[encoded data removed]",
      "text/plain": [
       "<Figure size 720x432 with 1 Axes>"
      ]
     },
     "metadata": {
      "needs_background": "light"
     },
     "output_type": "display_data"
    }
   ],
   "source": [
    "fig, ax = plt.subplots(figsize=(10,6))\n",
    "\n",
    "ax = sns.lineplot(data=monthly_sales_of_closed_shops, x='month_before_closure', \n",
    "             y='total_qty_sold', marker = \"o\", hue='shop_id', palette=\"icefire\", legend=\"full\")\n",
    "\n",
    "ax.legend(bbox_to_anchor=(1.05, 1), loc=2, borderaxespad=0.)\n",
    "ax.grid(True)\n",
    "ax.set_xlim(32, 0)\n",
    "ax.set_xticks(range(33))\n",
    "ax.set_xlabel(\"Month Before Closure\", fontsize=12)\n",
    "ax.set_ylabel(\"Total Quantity Sold\", fontsize=12)\n",
    "ax.set_title(\"Total Quantity Sold Leading Up to Shop Closure, by Shop\")\n",
    "plt.show()"
   ]
  },
  {
   "cell_type": "markdown",
   "metadata": {},
   "source": [
    "**FINDING:** It is evident that there are some closed shops that had declining sales for several months leading up to closure.  It can also be seen that many shops had a spike in sales in the month just prior to the month of closure."
   ]
  },
  {
   "cell_type": "markdown",
   "metadata": {},
   "source": [
    "### TEST DATASET "
   ]
  },
  {
   "cell_type": "code",
   "execution_count": 91,
   "metadata": {},
   "outputs": [],
   "source": [
    "test_df = pd.read_csv('./Data/competitive-data-science-predict-future-sales/test.csv')"
   ]
  },
  {
   "cell_type": "code",
   "execution_count": 92,
   "metadata": {},
   "outputs": [
    {
     "data": {
      "text/plain": [
       "(214200, 3)"
      ]
     },
     "execution_count": 92,
     "metadata": {},
     "output_type": "execute_result"
    }
   ],
   "source": [
    "test_df.shape"
   ]
  },
  {
   "cell_type": "code",
   "execution_count": 93,
   "metadata": {},
   "outputs": [
    {
     "data": {
      "text/html": [
       "<div>\n",
       "<style scoped>\n",
       "    .dataframe tbody tr th:only-of-type {\n",
       "        vertical-align: middle;\n",
       "    }\n",
       "\n",
       "    .dataframe tbody tr th {\n",
       "        vertical-align: top;\n",
       "    }\n",
       "\n",
       "    .dataframe thead th {\n",
       "        text-align: right;\n",
       "    }\n",
       "</style>\n",
       "<table border=\"1\" class=\"dataframe\">\n",
       "  <thead>\n",
       "    <tr style=\"text-align: right;\">\n",
       "      <th></th>\n",
       "      <th>ID</th>\n",
       "      <th>shop_id</th>\n",
       "      <th>item_id</th>\n",
       "    </tr>\n",
       "  </thead>\n",
       "  <tbody>\n",
       "    <tr>\n",
       "      <th>0</th>\n",
       "      <td>0</td>\n",
       "      <td>5</td>\n",
       "      <td>5037</td>\n",
       "    </tr>\n",
       "    <tr>\n",
       "      <th>1</th>\n",
       "      <td>1</td>\n",
       "      <td>5</td>\n",
       "      <td>5320</td>\n",
       "    </tr>\n",
       "    <tr>\n",
       "      <th>2</th>\n",
       "      <td>2</td>\n",
       "      <td>5</td>\n",
       "      <td>5233</td>\n",
       "    </tr>\n",
       "    <tr>\n",
       "      <th>3</th>\n",
       "      <td>3</td>\n",
       "      <td>5</td>\n",
       "      <td>5232</td>\n",
       "    </tr>\n",
       "    <tr>\n",
       "      <th>4</th>\n",
       "      <td>4</td>\n",
       "      <td>5</td>\n",
       "      <td>5268</td>\n",
       "    </tr>\n",
       "    <tr>\n",
       "      <th>5</th>\n",
       "      <td>5</td>\n",
       "      <td>5</td>\n",
       "      <td>5039</td>\n",
       "    </tr>\n",
       "    <tr>\n",
       "      <th>6</th>\n",
       "      <td>6</td>\n",
       "      <td>5</td>\n",
       "      <td>5041</td>\n",
       "    </tr>\n",
       "    <tr>\n",
       "      <th>7</th>\n",
       "      <td>7</td>\n",
       "      <td>5</td>\n",
       "      <td>5046</td>\n",
       "    </tr>\n",
       "    <tr>\n",
       "      <th>8</th>\n",
       "      <td>8</td>\n",
       "      <td>5</td>\n",
       "      <td>5319</td>\n",
       "    </tr>\n",
       "    <tr>\n",
       "      <th>9</th>\n",
       "      <td>9</td>\n",
       "      <td>5</td>\n",
       "      <td>5003</td>\n",
       "    </tr>\n",
       "  </tbody>\n",
       "</table>\n",
       "</div>"
      ],
      "text/plain": [
       "   ID  shop_id  item_id\n",
       "0   0        5     5037\n",
       "1   1        5     5320\n",
       "2   2        5     5233\n",
       "3   3        5     5232\n",
       "4   4        5     5268\n",
       "5   5        5     5039\n",
       "6   6        5     5041\n",
       "7   7        5     5046\n",
       "8   8        5     5319\n",
       "9   9        5     5003"
      ]
     },
     "execution_count": 93,
     "metadata": {},
     "output_type": "execute_result"
    }
   ],
   "source": [
    "test_df.head(10)"
   ]
  },
  {
   "cell_type": "code",
   "execution_count": 114,
   "metadata": {},
   "outputs": [
    {
     "data": {
      "text/plain": [
       "False"
      ]
     },
     "execution_count": 114,
     "metadata": {},
     "output_type": "execute_result"
    }
   ],
   "source": [
    "test_df.duplicated().any()"
   ]
  },
  {
   "cell_type": "markdown",
   "metadata": {},
   "source": [
    "**FINDING:** No duplicates in the test dataset"
   ]
  },
  {
   "cell_type": "code",
   "execution_count": 115,
   "metadata": {},
   "outputs": [
    {
     "data": {
      "text/plain": [
       "ID         0\n",
       "shop_id    0\n",
       "item_id    0\n",
       "dtype: int64"
      ]
     },
     "execution_count": 115,
     "metadata": {},
     "output_type": "execute_result"
    }
   ],
   "source": [
    "test_df.isnull().sum()"
   ]
  },
  {
   "cell_type": "markdown",
   "metadata": {},
   "source": [
    "**FINDING:** No missing values in the test dataset"
   ]
  },
  {
   "cell_type": "code",
   "execution_count": 94,
   "metadata": {},
   "outputs": [
    {
     "data": {
      "text/plain": [
       "42"
      ]
     },
     "execution_count": 94,
     "metadata": {},
     "output_type": "execute_result"
    }
   ],
   "source": [
    "len(test_df.shop_id.unique())"
   ]
  },
  {
   "cell_type": "code",
   "execution_count": 97,
   "metadata": {},
   "outputs": [
    {
     "data": {
      "text/plain": [
       "5100"
      ]
     },
     "execution_count": 97,
     "metadata": {},
     "output_type": "execute_result"
    }
   ],
   "source": [
    "len(test_df.item_id.unique())"
   ]
  },
  {
   "cell_type": "markdown",
   "metadata": {},
   "source": [
    "**FINDING:** The test dataset is created by including all possible combinations of the shop_id and item_ids in the dataset (i.e., 42 * 5,100 = 214,200). Why those 42 shops and 5,100 items are part of this test dataset is not clear though."
   ]
  },
  {
   "cell_type": "code",
   "execution_count": 98,
   "metadata": {},
   "outputs": [
    {
     "data": {
      "text/plain": [
       "array([], dtype=int64)"
      ]
     },
     "execution_count": 98,
     "metadata": {},
     "output_type": "execute_result"
    }
   ],
   "source": [
    "np.setdiff1d(test_df.shop_id.unique(), sales.shop_id.unique())"
   ]
  },
  {
   "cell_type": "markdown",
   "metadata": {},
   "source": [
    "**FINDING:** All shop_id values in the test dataset also exist in the train dataset."
   ]
  },
  {
   "cell_type": "code",
   "execution_count": 99,
   "metadata": {},
   "outputs": [
    {
     "data": {
      "text/plain": [
       "array([ 0,  1,  8,  9, 11, 13, 17, 20, 23, 27, 29, 30, 32, 33, 40, 43, 51,\n",
       "       54])"
      ]
     },
     "execution_count": 99,
     "metadata": {},
     "output_type": "execute_result"
    }
   ],
   "source": [
    "np.setdiff1d(sales.shop_id.unique(), test_df.shop_id.unique())"
   ]
  },
  {
   "cell_type": "markdown",
   "metadata": {},
   "source": [
    "**FINDING:** 18 shop_id values above exist in the train dataset but do not exist in the test dataset."
   ]
  },
  {
   "cell_type": "code",
   "execution_count": 101,
   "metadata": {},
   "outputs": [
    {
     "data": {
      "text/plain": [
       "363"
      ]
     },
     "execution_count": 101,
     "metadata": {},
     "output_type": "execute_result"
    }
   ],
   "source": [
    "np.setdiff1d(test_df.item_id.unique(), sales.item_id.unique()).size"
   ]
  },
  {
   "cell_type": "markdown",
   "metadata": {},
   "source": [
    "**FINDING:** 363 item_id values exist in the test dataset, but do not exist in the train dataset."
   ]
  },
  {
   "cell_type": "code",
   "execution_count": 104,
   "metadata": {},
   "outputs": [
    {
     "data": {
      "text/plain": [
       "17070"
      ]
     },
     "execution_count": 104,
     "metadata": {},
     "output_type": "execute_result"
    }
   ],
   "source": [
    "np.setdiff1d(sales.item_id.unique(), test_df.item_id.unique()).size"
   ]
  },
  {
   "cell_type": "markdown",
   "metadata": {},
   "source": [
    "**FINDING:** 17,070 item_id values exist in the train dataset, but do not exist in the test dataset."
   ]
  },
  {
   "cell_type": "code",
   "execution_count": 133,
   "metadata": {},
   "outputs": [
    {
     "data": {
      "text/plain": [
       "4737"
      ]
     },
     "execution_count": 133,
     "metadata": {},
     "output_type": "execute_result"
    }
   ],
   "source": [
    "np.intersect1d(sales.item_id.unique(), test_df.item_id.unique()).size"
   ]
  },
  {
   "cell_type": "markdown",
   "metadata": {},
   "source": [
    "**FINDING:** 4,737 item_id values exist in both the train and test datasets."
   ]
  },
  {
   "cell_type": "markdown",
   "metadata": {},
   "source": [
    "### ITEMS SUPPLEMENTAL INFORMATION DATASET "
   ]
  },
  {
   "cell_type": "code",
   "execution_count": 105,
   "metadata": {},
   "outputs": [],
   "source": [
    "items_df = pd.read_csv('./Data/competitive-data-science-predict-future-sales/items.csv')"
   ]
  },
  {
   "cell_type": "code",
   "execution_count": 106,
   "metadata": {},
   "outputs": [
    {
     "data": {
      "text/plain": [
       "(22170, 3)"
      ]
     },
     "execution_count": 106,
     "metadata": {},
     "output_type": "execute_result"
    }
   ],
   "source": [
    "items_df.shape"
   ]
  },
  {
   "cell_type": "code",
   "execution_count": 126,
   "metadata": {},
   "outputs": [
    {
     "data": {
      "text/html": [
       "<div>\n",
       "<style scoped>\n",
       "    .dataframe tbody tr th:only-of-type {\n",
       "        vertical-align: middle;\n",
       "    }\n",
       "\n",
       "    .dataframe tbody tr th {\n",
       "        vertical-align: top;\n",
       "    }\n",
       "\n",
       "    .dataframe thead th {\n",
       "        text-align: right;\n",
       "    }\n",
       "</style>\n",
       "<table border=\"1\" class=\"dataframe\">\n",
       "  <thead>\n",
       "    <tr style=\"text-align: right;\">\n",
       "      <th></th>\n",
       "      <th>item_name</th>\n",
       "      <th>item_id</th>\n",
       "      <th>item_category_id</th>\n",
       "    </tr>\n",
       "  </thead>\n",
       "  <tbody>\n",
       "    <tr>\n",
       "      <th>0</th>\n",
       "      <td>! ВО ВЛАСТИ НАВАЖДЕНИЯ (ПЛАСТ.)         D</td>\n",
       "      <td>0</td>\n",
       "      <td>40</td>\n",
       "    </tr>\n",
       "    <tr>\n",
       "      <th>1</th>\n",
       "      <td>!ABBYY FineReader 12 Professional Edition Full...</td>\n",
       "      <td>1</td>\n",
       "      <td>76</td>\n",
       "    </tr>\n",
       "    <tr>\n",
       "      <th>2</th>\n",
       "      <td>***В ЛУЧАХ СЛАВЫ   (UNV)                    D</td>\n",
       "      <td>2</td>\n",
       "      <td>40</td>\n",
       "    </tr>\n",
       "    <tr>\n",
       "      <th>3</th>\n",
       "      <td>***ГОЛУБАЯ ВОЛНА  (Univ)                      D</td>\n",
       "      <td>3</td>\n",
       "      <td>40</td>\n",
       "    </tr>\n",
       "    <tr>\n",
       "      <th>4</th>\n",
       "      <td>***КОРОБКА (СТЕКЛО)                       D</td>\n",
       "      <td>4</td>\n",
       "      <td>40</td>\n",
       "    </tr>\n",
       "    <tr>\n",
       "      <th>5</th>\n",
       "      <td>***НОВЫЕ АМЕРИКАНСКИЕ ГРАФФИТИ  (UNI)         ...</td>\n",
       "      <td>5</td>\n",
       "      <td>40</td>\n",
       "    </tr>\n",
       "    <tr>\n",
       "      <th>6</th>\n",
       "      <td>***УДАР ПО ВОРОТАМ (UNI)               D</td>\n",
       "      <td>6</td>\n",
       "      <td>40</td>\n",
       "    </tr>\n",
       "    <tr>\n",
       "      <th>7</th>\n",
       "      <td>***УДАР ПО ВОРОТАМ-2 (UNI)               D</td>\n",
       "      <td>7</td>\n",
       "      <td>40</td>\n",
       "    </tr>\n",
       "    <tr>\n",
       "      <th>8</th>\n",
       "      <td>***ЧАЙ С МУССОЛИНИ                     D</td>\n",
       "      <td>8</td>\n",
       "      <td>40</td>\n",
       "    </tr>\n",
       "    <tr>\n",
       "      <th>9</th>\n",
       "      <td>***ШУГАРЛЭНДСКИЙ ЭКСПРЕСС (UNI)             D</td>\n",
       "      <td>9</td>\n",
       "      <td>40</td>\n",
       "    </tr>\n",
       "  </tbody>\n",
       "</table>\n",
       "</div>"
      ],
      "text/plain": [
       "                                           item_name  item_id  \\\n",
       "0          ! ВО ВЛАСТИ НАВАЖДЕНИЯ (ПЛАСТ.)         D        0   \n",
       "1  !ABBYY FineReader 12 Professional Edition Full...        1   \n",
       "2      ***В ЛУЧАХ СЛАВЫ   (UNV)                    D        2   \n",
       "3    ***ГОЛУБАЯ ВОЛНА  (Univ)                      D        3   \n",
       "4        ***КОРОБКА (СТЕКЛО)                       D        4   \n",
       "5  ***НОВЫЕ АМЕРИКАНСКИЕ ГРАФФИТИ  (UNI)         ...        5   \n",
       "6           ***УДАР ПО ВОРОТАМ (UNI)               D        6   \n",
       "7         ***УДАР ПО ВОРОТАМ-2 (UNI)               D        7   \n",
       "8           ***ЧАЙ С МУССОЛИНИ                     D        8   \n",
       "9      ***ШУГАРЛЭНДСКИЙ ЭКСПРЕСС (UNI)             D        9   \n",
       "\n",
       "   item_category_id  \n",
       "0                40  \n",
       "1                76  \n",
       "2                40  \n",
       "3                40  \n",
       "4                40  \n",
       "5                40  \n",
       "6                40  \n",
       "7                40  \n",
       "8                40  \n",
       "9                40  "
      ]
     },
     "execution_count": 126,
     "metadata": {},
     "output_type": "execute_result"
    }
   ],
   "source": [
    "items_df.head(10)"
   ]
  },
  {
   "cell_type": "code",
   "execution_count": 148,
   "metadata": {},
   "outputs": [
    {
     "data": {
      "text/plain": [
       "0"
      ]
     },
     "execution_count": 148,
     "metadata": {},
     "output_type": "execute_result"
    }
   ],
   "source": [
    "# Need to check if all item_ids (in train and test datasets) exist in the items_df dataset\n",
    "np.setdiff1d(sales.item_id.unique(), items_df.item_id.unique()).size"
   ]
  },
  {
   "cell_type": "code",
   "execution_count": 149,
   "metadata": {},
   "outputs": [
    {
     "data": {
      "text/plain": [
       "0"
      ]
     },
     "execution_count": 149,
     "metadata": {},
     "output_type": "execute_result"
    }
   ],
   "source": [
    "np.setdiff1d(test_df.item_id.unique(), items_df.item_id.unique()).size"
   ]
  },
  {
   "cell_type": "markdown",
   "metadata": {},
   "source": [
    "**FINDING:** All item_id values in the train and test datasets exist in the items_df dataset."
   ]
  },
  {
   "cell_type": "code",
   "execution_count": 423,
   "metadata": {},
   "outputs": [
    {
     "data": {
      "text/html": [
       "<div>\n",
       "<style scoped>\n",
       "    .dataframe tbody tr th:only-of-type {\n",
       "        vertical-align: middle;\n",
       "    }\n",
       "\n",
       "    .dataframe tbody tr th {\n",
       "        vertical-align: top;\n",
       "    }\n",
       "\n",
       "    .dataframe thead th {\n",
       "        text-align: right;\n",
       "    }\n",
       "</style>\n",
       "<table border=\"1\" class=\"dataframe\">\n",
       "  <thead>\n",
       "    <tr style=\"text-align: right;\">\n",
       "      <th></th>\n",
       "      <th>item_name</th>\n",
       "      <th>item_id</th>\n",
       "      <th>item_category_id</th>\n",
       "    </tr>\n",
       "  </thead>\n",
       "  <tbody>\n",
       "    <tr>\n",
       "      <th>11373</th>\n",
       "      <td>Доставка до пункта выдачи (Boxberry)</td>\n",
       "      <td>11373</td>\n",
       "      <td>9</td>\n",
       "    </tr>\n",
       "  </tbody>\n",
       "</table>\n",
       "</div>"
      ],
      "text/plain": [
       "                                  item_name  item_id  item_category_id\n",
       "11373  Доставка до пункта выдачи (Boxberry)    11373                 9"
      ]
     },
     "execution_count": 423,
     "metadata": {},
     "output_type": "execute_result"
    }
   ],
   "source": [
    "#We can check on some of the item edge cases (weird quantities, prices, etc.)\n",
    "items_df[items_df.item_id == 11373]"
   ]
  },
  {
   "cell_type": "markdown",
   "metadata": {},
   "source": [
    "**FINDING:** This item that had the largest value of quantity sold (2,169) is a delivery charge (by Boxberry service)."
   ]
  },
  {
   "cell_type": "code",
   "execution_count": 427,
   "metadata": {},
   "outputs": [
    {
     "data": {
      "text/html": [
       "<div>\n",
       "<style scoped>\n",
       "    .dataframe tbody tr th:only-of-type {\n",
       "        vertical-align: middle;\n",
       "    }\n",
       "\n",
       "    .dataframe tbody tr th {\n",
       "        vertical-align: top;\n",
       "    }\n",
       "\n",
       "    .dataframe thead th {\n",
       "        text-align: right;\n",
       "    }\n",
       "</style>\n",
       "<table border=\"1\" class=\"dataframe\">\n",
       "  <thead>\n",
       "    <tr style=\"text-align: right;\">\n",
       "      <th></th>\n",
       "      <th>item_name</th>\n",
       "      <th>item_id</th>\n",
       "      <th>item_category_id</th>\n",
       "    </tr>\n",
       "  </thead>\n",
       "  <tbody>\n",
       "    <tr>\n",
       "      <th>8023</th>\n",
       "      <td>ZL004 Лазерные наклейки Смайлики маленькие</td>\n",
       "      <td>8023</td>\n",
       "      <td>66</td>\n",
       "    </tr>\n",
       "  </tbody>\n",
       "</table>\n",
       "</div>"
      ],
      "text/plain": [
       "                                       item_name  item_id  item_category_id\n",
       "8023  ZL004 Лазерные наклейки Смайлики маленькие     8023                66"
      ]
     },
     "execution_count": 427,
     "metadata": {},
     "output_type": "execute_result"
    }
   ],
   "source": [
    "items_df[items_df.item_id == 8023]"
   ]
  },
  {
   "cell_type": "markdown",
   "metadata": {},
   "source": [
    "**FINDING:** This item that has the lowest (largest negative) quantity sold (-22) is laser stickers."
   ]
  },
  {
   "cell_type": "markdown",
   "metadata": {},
   "source": [
    "### ITEM CATEGORIES DATASET"
   ]
  },
  {
   "cell_type": "code",
   "execution_count": 108,
   "metadata": {},
   "outputs": [],
   "source": [
    "categories_df = pd.read_csv('./Data/competitive-data-science-predict-future-sales/item_categories.csv')"
   ]
  },
  {
   "cell_type": "code",
   "execution_count": 109,
   "metadata": {},
   "outputs": [
    {
     "data": {
      "text/plain": [
       "(84, 2)"
      ]
     },
     "execution_count": 109,
     "metadata": {},
     "output_type": "execute_result"
    }
   ],
   "source": [
    "categories_df.shape"
   ]
  },
  {
   "cell_type": "code",
   "execution_count": 110,
   "metadata": {},
   "outputs": [
    {
     "data": {
      "text/html": [
       "<div>\n",
       "<style scoped>\n",
       "    .dataframe tbody tr th:only-of-type {\n",
       "        vertical-align: middle;\n",
       "    }\n",
       "\n",
       "    .dataframe tbody tr th {\n",
       "        vertical-align: top;\n",
       "    }\n",
       "\n",
       "    .dataframe thead th {\n",
       "        text-align: right;\n",
       "    }\n",
       "</style>\n",
       "<table border=\"1\" class=\"dataframe\">\n",
       "  <thead>\n",
       "    <tr style=\"text-align: right;\">\n",
       "      <th></th>\n",
       "      <th>item_category_name</th>\n",
       "      <th>item_category_id</th>\n",
       "    </tr>\n",
       "  </thead>\n",
       "  <tbody>\n",
       "    <tr>\n",
       "      <th>0</th>\n",
       "      <td>PC - Гарнитуры/Наушники</td>\n",
       "      <td>0</td>\n",
       "    </tr>\n",
       "    <tr>\n",
       "      <th>1</th>\n",
       "      <td>Аксессуары - PS2</td>\n",
       "      <td>1</td>\n",
       "    </tr>\n",
       "    <tr>\n",
       "      <th>2</th>\n",
       "      <td>Аксессуары - PS3</td>\n",
       "      <td>2</td>\n",
       "    </tr>\n",
       "    <tr>\n",
       "      <th>3</th>\n",
       "      <td>Аксессуары - PS4</td>\n",
       "      <td>3</td>\n",
       "    </tr>\n",
       "    <tr>\n",
       "      <th>4</th>\n",
       "      <td>Аксессуары - PSP</td>\n",
       "      <td>4</td>\n",
       "    </tr>\n",
       "    <tr>\n",
       "      <th>5</th>\n",
       "      <td>Аксессуары - PSVita</td>\n",
       "      <td>5</td>\n",
       "    </tr>\n",
       "    <tr>\n",
       "      <th>6</th>\n",
       "      <td>Аксессуары - XBOX 360</td>\n",
       "      <td>6</td>\n",
       "    </tr>\n",
       "    <tr>\n",
       "      <th>7</th>\n",
       "      <td>Аксессуары - XBOX ONE</td>\n",
       "      <td>7</td>\n",
       "    </tr>\n",
       "    <tr>\n",
       "      <th>8</th>\n",
       "      <td>Билеты (Цифра)</td>\n",
       "      <td>8</td>\n",
       "    </tr>\n",
       "    <tr>\n",
       "      <th>9</th>\n",
       "      <td>Доставка товара</td>\n",
       "      <td>9</td>\n",
       "    </tr>\n",
       "  </tbody>\n",
       "</table>\n",
       "</div>"
      ],
      "text/plain": [
       "        item_category_name  item_category_id\n",
       "0  PC - Гарнитуры/Наушники                 0\n",
       "1         Аксессуары - PS2                 1\n",
       "2         Аксессуары - PS3                 2\n",
       "3         Аксессуары - PS4                 3\n",
       "4         Аксессуары - PSP                 4\n",
       "5      Аксессуары - PSVita                 5\n",
       "6    Аксессуары - XBOX 360                 6\n",
       "7    Аксессуары - XBOX ONE                 7\n",
       "8           Билеты (Цифра)                 8\n",
       "9          Доставка товара                 9"
      ]
     },
     "execution_count": 110,
     "metadata": {},
     "output_type": "execute_result"
    }
   ],
   "source": [
    "categories_df.head(10)"
   ]
  },
  {
   "cell_type": "code",
   "execution_count": 112,
   "metadata": {},
   "outputs": [
    {
     "data": {
      "text/plain": [
       "False"
      ]
     },
     "execution_count": 112,
     "metadata": {},
     "output_type": "execute_result"
    }
   ],
   "source": [
    "categories_df.duplicated().any()"
   ]
  },
  {
   "cell_type": "code",
   "execution_count": 113,
   "metadata": {},
   "outputs": [
    {
     "data": {
      "text/plain": [
       "item_category_name    0\n",
       "item_category_id      0\n",
       "dtype: int64"
      ]
     },
     "execution_count": 113,
     "metadata": {},
     "output_type": "execute_result"
    }
   ],
   "source": [
    "categories_df.isnull().sum()"
   ]
  },
  {
   "cell_type": "code",
   "execution_count": 116,
   "metadata": {},
   "outputs": [
    {
     "data": {
      "text/plain": [
       "84"
      ]
     },
     "execution_count": 116,
     "metadata": {},
     "output_type": "execute_result"
    }
   ],
   "source": [
    "categories_df.item_category_id.unique().size"
   ]
  },
  {
   "cell_type": "code",
   "execution_count": 127,
   "metadata": {},
   "outputs": [
    {
     "data": {
      "text/plain": [
       "84"
      ]
     },
     "execution_count": 127,
     "metadata": {},
     "output_type": "execute_result"
    }
   ],
   "source": [
    "categories_df.item_category_name.unique().size"
   ]
  },
  {
   "cell_type": "markdown",
   "metadata": {},
   "source": [
    "**FINDING:** No duplicates or missing values in the categories_df dataset. Also, category names and category ids are all unique."
   ]
  },
  {
   "cell_type": "code",
   "execution_count": 150,
   "metadata": {},
   "outputs": [
    {
     "data": {
      "text/plain": [
       "0"
      ]
     },
     "execution_count": 150,
     "metadata": {},
     "output_type": "execute_result"
    }
   ],
   "source": [
    "# Check if all categories of item_ids in train and test datasets also all exist in the categories_df dataset\n",
    "np.setdiff1d(items_df.item_category_id.unique(), categories_df.item_category_id.unique()).size"
   ]
  },
  {
   "cell_type": "markdown",
   "metadata": {},
   "source": [
    "**FINDING:** All categories of item_ids in the items_df dataset exist in the categories_df dataset."
   ]
  },
  {
   "cell_type": "code",
   "execution_count": 165,
   "metadata": {},
   "outputs": [
    {
     "data": {
      "text/html": [
       "<div>\n",
       "<style scoped>\n",
       "    .dataframe tbody tr th:only-of-type {\n",
       "        vertical-align: middle;\n",
       "    }\n",
       "\n",
       "    .dataframe tbody tr th {\n",
       "        vertical-align: top;\n",
       "    }\n",
       "\n",
       "    .dataframe thead th {\n",
       "        text-align: right;\n",
       "    }\n",
       "</style>\n",
       "<table border=\"1\" class=\"dataframe\">\n",
       "  <thead>\n",
       "    <tr style=\"text-align: right;\">\n",
       "      <th></th>\n",
       "      <th>item_name</th>\n",
       "      <th>item_id</th>\n",
       "      <th>item_category_id</th>\n",
       "    </tr>\n",
       "  </thead>\n",
       "  <tbody>\n",
       "    <tr>\n",
       "      <th>0</th>\n",
       "      <td>! ВО ВЛАСТИ НАВАЖДЕНИЯ (ПЛАСТ.)         D</td>\n",
       "      <td>0</td>\n",
       "      <td>40</td>\n",
       "    </tr>\n",
       "    <tr>\n",
       "      <th>1</th>\n",
       "      <td>!ABBYY FineReader 12 Professional Edition Full...</td>\n",
       "      <td>1</td>\n",
       "      <td>76</td>\n",
       "    </tr>\n",
       "    <tr>\n",
       "      <th>2</th>\n",
       "      <td>***В ЛУЧАХ СЛАВЫ   (UNV)                    D</td>\n",
       "      <td>2</td>\n",
       "      <td>40</td>\n",
       "    </tr>\n",
       "    <tr>\n",
       "      <th>3</th>\n",
       "      <td>***ГОЛУБАЯ ВОЛНА  (Univ)                      D</td>\n",
       "      <td>3</td>\n",
       "      <td>40</td>\n",
       "    </tr>\n",
       "    <tr>\n",
       "      <th>4</th>\n",
       "      <td>***КОРОБКА (СТЕКЛО)                       D</td>\n",
       "      <td>4</td>\n",
       "      <td>40</td>\n",
       "    </tr>\n",
       "  </tbody>\n",
       "</table>\n",
       "</div>"
      ],
      "text/plain": [
       "                                           item_name  item_id  \\\n",
       "0          ! ВО ВЛАСТИ НАВАЖДЕНИЯ (ПЛАСТ.)         D        0   \n",
       "1  !ABBYY FineReader 12 Professional Edition Full...        1   \n",
       "2      ***В ЛУЧАХ СЛАВЫ   (UNV)                    D        2   \n",
       "3    ***ГОЛУБАЯ ВОЛНА  (Univ)                      D        3   \n",
       "4        ***КОРОБКА (СТЕКЛО)                       D        4   \n",
       "\n",
       "   item_category_id  \n",
       "0                40  \n",
       "1                76  \n",
       "2                40  \n",
       "3                40  \n",
       "4                40  "
      ]
     },
     "execution_count": 165,
     "metadata": {},
     "output_type": "execute_result"
    }
   ],
   "source": [
    "items_df.head()"
   ]
  },
  {
   "cell_type": "code",
   "execution_count": 170,
   "metadata": {},
   "outputs": [
    {
     "data": {
      "text/plain": [
       "array([], dtype=int64)"
      ]
     },
     "execution_count": 170,
     "metadata": {},
     "output_type": "execute_result"
    }
   ],
   "source": [
    "# Check if there are categories of the 363 items that only appear in the test dataset that also only apply those 363 items.\n",
    "items_only_in_test_df = np.setdiff1d(test_df.item_id.unique(), sales.item_id.unique())\n",
    "\n",
    "cats_of_items_only_in_test_df = items_df[items_df.item_id.isin(items_only_in_test_df)]['item_category_id'].unique()\n",
    "\n",
    "items_in_train_df = sales.item_id.unique()\n",
    "\n",
    "cats_of_items_in_train_df = items_df[items_df.item_id.isin(items_in_train_df)]['item_category_id'].unique()\n",
    "\n",
    "np.setdiff1d(cats_of_items_only_in_test_df, cats_of_items_in_train_df)"
   ]
  },
  {
   "cell_type": "markdown",
   "metadata": {},
   "source": [
    "**FINDING:** All categories of the 363 items that only appear in the test dataset also apply to items in the train dataset."
   ]
  },
  {
   "cell_type": "code",
   "execution_count": 129,
   "metadata": {},
   "outputs": [
    {
     "data": {
      "text/plain": [
       "['PC - Гарнитуры/Наушники',\n",
       " 'Аксессуары - PS2',\n",
       " 'Аксессуары - PS3',\n",
       " 'Аксессуары - PS4',\n",
       " 'Аксессуары - PSP',\n",
       " 'Аксессуары - PSVita',\n",
       " 'Аксессуары - XBOX 360',\n",
       " 'Аксессуары - XBOX ONE',\n",
       " 'Билеты (Цифра)',\n",
       " 'Доставка товара',\n",
       " 'Игровые консоли - PS2',\n",
       " 'Игровые консоли - PS3',\n",
       " 'Игровые консоли - PS4',\n",
       " 'Игровые консоли - PSP',\n",
       " 'Игровые консоли - PSVita',\n",
       " 'Игровые консоли - XBOX 360',\n",
       " 'Игровые консоли - XBOX ONE',\n",
       " 'Игровые консоли - Прочие',\n",
       " 'Игры - PS2',\n",
       " 'Игры - PS3',\n",
       " 'Игры - PS4',\n",
       " 'Игры - PSP',\n",
       " 'Игры - PSVita',\n",
       " 'Игры - XBOX 360',\n",
       " 'Игры - XBOX ONE',\n",
       " 'Игры - Аксессуары для игр',\n",
       " 'Игры Android - Цифра',\n",
       " 'Игры MAC - Цифра',\n",
       " 'Игры PC - Дополнительные издания',\n",
       " 'Игры PC - Коллекционные издания',\n",
       " 'Игры PC - Стандартные издания',\n",
       " 'Игры PC - Цифра',\n",
       " 'Карты оплаты (Кино, Музыка, Игры)',\n",
       " 'Карты оплаты - Live!',\n",
       " 'Карты оплаты - Live! (Цифра)',\n",
       " 'Карты оплаты - PSN',\n",
       " 'Карты оплаты - Windows (Цифра)',\n",
       " 'Кино - Blu-Ray',\n",
       " 'Кино - Blu-Ray 3D',\n",
       " 'Кино - Blu-Ray 4K',\n",
       " 'Кино - DVD',\n",
       " 'Кино - Коллекционное',\n",
       " 'Книги - Артбуки, энциклопедии',\n",
       " 'Книги - Аудиокниги',\n",
       " 'Книги - Аудиокниги (Цифра)',\n",
       " 'Книги - Аудиокниги 1С',\n",
       " 'Книги - Бизнес литература',\n",
       " 'Книги - Комиксы, манга',\n",
       " 'Книги - Компьютерная литература',\n",
       " 'Книги - Методические материалы 1С',\n",
       " 'Книги - Открытки',\n",
       " 'Книги - Познавательная литература',\n",
       " 'Книги - Путеводители',\n",
       " 'Книги - Художественная литература',\n",
       " 'Книги - Цифра',\n",
       " 'Музыка - CD локального производства',\n",
       " 'Музыка - CD фирменного производства',\n",
       " 'Музыка - MP3',\n",
       " 'Музыка - Винил',\n",
       " 'Музыка - Музыкальное видео',\n",
       " 'Музыка - Подарочные издания',\n",
       " 'Подарки - Атрибутика',\n",
       " 'Подарки - Гаджеты, роботы, спорт',\n",
       " 'Подарки - Мягкие игрушки',\n",
       " 'Подарки - Настольные игры',\n",
       " 'Подарки - Настольные игры (компактные)',\n",
       " 'Подарки - Открытки, наклейки',\n",
       " 'Подарки - Развитие',\n",
       " 'Подарки - Сертификаты, услуги',\n",
       " 'Подарки - Сувениры',\n",
       " 'Подарки - Сувениры (в навеску)',\n",
       " 'Подарки - Сумки, Альбомы, Коврики д/мыши',\n",
       " 'Подарки - Фигурки',\n",
       " 'Программы - 1С:Предприятие 8',\n",
       " 'Программы - MAC (Цифра)',\n",
       " 'Программы - Для дома и офиса',\n",
       " 'Программы - Для дома и офиса (Цифра)',\n",
       " 'Программы - Обучающие',\n",
       " 'Программы - Обучающие (Цифра)',\n",
       " 'Служебные',\n",
       " 'Служебные - Билеты',\n",
       " 'Чистые носители (шпиль)',\n",
       " 'Чистые носители (штучные)',\n",
       " 'Элементы питания']"
      ]
     },
     "execution_count": 129,
     "metadata": {},
     "output_type": "execute_result"
    }
   ],
   "source": [
    "list(categories_df.item_category_name)"
   ]
  },
  {
   "cell_type": "markdown",
   "metadata": {},
   "source": [
    "**FINDING:** It appears that there are groups of categories, like game consoles, movies, books, gifts, etc.  It will likely be very important to know when certain movies are released and what their popularity is, for example, as well as when new game consoles are introduced, etc."
   ]
  },
  {
   "cell_type": "code",
   "execution_count": 154,
   "metadata": {},
   "outputs": [
    {
     "data": {
      "text/plain": [
       "1         Аксессуары - PS2\n",
       "2         Аксессуары - PS3\n",
       "3         Аксессуары - PS4\n",
       "4         Аксессуары - PSP\n",
       "5      Аксессуары - PSVita\n",
       "6    Аксессуары - XBOX 360\n",
       "7    Аксессуары - XBOX ONE\n",
       "Name: item_category_name, dtype: object"
      ]
     },
     "execution_count": 154,
     "metadata": {},
     "output_type": "execute_result"
    }
   ],
   "source": [
    "# Testing filtering categories by the the first word in their name\n",
    "mask = categories_df.item_category_name.str.startswith(\"Аксессуары\")\n",
    "categories_df.item_category_name[mask]"
   ]
  },
  {
   "cell_type": "code",
   "execution_count": 428,
   "metadata": {},
   "outputs": [
    {
     "data": {
      "text/html": [
       "<div>\n",
       "<style scoped>\n",
       "    .dataframe tbody tr th:only-of-type {\n",
       "        vertical-align: middle;\n",
       "    }\n",
       "\n",
       "    .dataframe tbody tr th {\n",
       "        vertical-align: top;\n",
       "    }\n",
       "\n",
       "    .dataframe thead th {\n",
       "        text-align: right;\n",
       "    }\n",
       "</style>\n",
       "<table border=\"1\" class=\"dataframe\">\n",
       "  <thead>\n",
       "    <tr style=\"text-align: right;\">\n",
       "      <th></th>\n",
       "      <th>item_category_name</th>\n",
       "      <th>item_category_id</th>\n",
       "    </tr>\n",
       "  </thead>\n",
       "  <tbody>\n",
       "    <tr>\n",
       "      <th>66</th>\n",
       "      <td>Подарки - Открытки, наклейки</td>\n",
       "      <td>66</td>\n",
       "    </tr>\n",
       "  </tbody>\n",
       "</table>\n",
       "</div>"
      ],
      "text/plain": [
       "              item_category_name  item_category_id\n",
       "66  Подарки - Открытки, наклейки                66"
      ]
     },
     "execution_count": 428,
     "metadata": {},
     "output_type": "execute_result"
    }
   ],
   "source": [
    "categories_df[categories_df.item_category_id == 66]"
   ]
  },
  {
   "cell_type": "markdown",
   "metadata": {},
   "source": [
    "### SHOPS SUPPLEMENTAL INFORMATION DATASET"
   ]
  },
  {
   "cell_type": "code",
   "execution_count": 117,
   "metadata": {},
   "outputs": [],
   "source": [
    "shops_df = pd.read_csv('./Data/competitive-data-science-predict-future-sales/shops.csv')"
   ]
  },
  {
   "cell_type": "code",
   "execution_count": 118,
   "metadata": {},
   "outputs": [
    {
     "data": {
      "text/plain": [
       "(60, 2)"
      ]
     },
     "execution_count": 118,
     "metadata": {},
     "output_type": "execute_result"
    }
   ],
   "source": [
    "shops_df.shape"
   ]
  },
  {
   "cell_type": "code",
   "execution_count": 119,
   "metadata": {},
   "outputs": [
    {
     "data": {
      "text/html": [
       "<div>\n",
       "<style scoped>\n",
       "    .dataframe tbody tr th:only-of-type {\n",
       "        vertical-align: middle;\n",
       "    }\n",
       "\n",
       "    .dataframe tbody tr th {\n",
       "        vertical-align: top;\n",
       "    }\n",
       "\n",
       "    .dataframe thead th {\n",
       "        text-align: right;\n",
       "    }\n",
       "</style>\n",
       "<table border=\"1\" class=\"dataframe\">\n",
       "  <thead>\n",
       "    <tr style=\"text-align: right;\">\n",
       "      <th></th>\n",
       "      <th>shop_name</th>\n",
       "      <th>shop_id</th>\n",
       "    </tr>\n",
       "  </thead>\n",
       "  <tbody>\n",
       "    <tr>\n",
       "      <th>0</th>\n",
       "      <td>!Якутск Орджоникидзе, 56 фран</td>\n",
       "      <td>0</td>\n",
       "    </tr>\n",
       "    <tr>\n",
       "      <th>1</th>\n",
       "      <td>!Якутск ТЦ \"Центральный\" фран</td>\n",
       "      <td>1</td>\n",
       "    </tr>\n",
       "    <tr>\n",
       "      <th>2</th>\n",
       "      <td>Адыгея ТЦ \"Мега\"</td>\n",
       "      <td>2</td>\n",
       "    </tr>\n",
       "    <tr>\n",
       "      <th>3</th>\n",
       "      <td>Балашиха ТРК \"Октябрь-Киномир\"</td>\n",
       "      <td>3</td>\n",
       "    </tr>\n",
       "    <tr>\n",
       "      <th>4</th>\n",
       "      <td>Волжский ТЦ \"Волга Молл\"</td>\n",
       "      <td>4</td>\n",
       "    </tr>\n",
       "  </tbody>\n",
       "</table>\n",
       "</div>"
      ],
      "text/plain": [
       "                        shop_name  shop_id\n",
       "0   !Якутск Орджоникидзе, 56 фран        0\n",
       "1   !Якутск ТЦ \"Центральный\" фран        1\n",
       "2                Адыгея ТЦ \"Мега\"        2\n",
       "3  Балашиха ТРК \"Октябрь-Киномир\"        3\n",
       "4        Волжский ТЦ \"Волга Молл\"        4"
      ]
     },
     "execution_count": 119,
     "metadata": {},
     "output_type": "execute_result"
    }
   ],
   "source": [
    "shops_df.head()"
   ]
  },
  {
   "cell_type": "code",
   "execution_count": 121,
   "metadata": {},
   "outputs": [
    {
     "data": {
      "text/plain": [
       "False"
      ]
     },
     "execution_count": 121,
     "metadata": {},
     "output_type": "execute_result"
    }
   ],
   "source": [
    "shops_df.duplicated().any()"
   ]
  },
  {
   "cell_type": "code",
   "execution_count": 122,
   "metadata": {},
   "outputs": [
    {
     "data": {
      "text/plain": [
       "shop_name    0\n",
       "shop_id      0\n",
       "dtype: int64"
      ]
     },
     "execution_count": 122,
     "metadata": {},
     "output_type": "execute_result"
    }
   ],
   "source": [
    "shops_df.isnull().sum()"
   ]
  },
  {
   "cell_type": "code",
   "execution_count": 123,
   "metadata": {},
   "outputs": [
    {
     "data": {
      "text/plain": [
       "60"
      ]
     },
     "execution_count": 123,
     "metadata": {},
     "output_type": "execute_result"
    }
   ],
   "source": [
    "shops_df.shop_id.unique().size"
   ]
  },
  {
   "cell_type": "markdown",
   "metadata": {},
   "source": [
    "**FINDING:** There are no duplicates or missing values in the shops_df dataset."
   ]
  },
  {
   "cell_type": "code",
   "execution_count": 124,
   "metadata": {},
   "outputs": [
    {
     "data": {
      "text/plain": [
       "0                       !Якутск Орджоникидзе, 56 фран\n",
       "1                       !Якутск ТЦ \"Центральный\" фран\n",
       "2                                    Адыгея ТЦ \"Мега\"\n",
       "3                      Балашиха ТРК \"Октябрь-Киномир\"\n",
       "4                            Волжский ТЦ \"Волга Молл\"\n",
       "5                              Вологда ТРЦ \"Мармелад\"\n",
       "6                          Воронеж (Плехановская, 13)\n",
       "7                              Воронеж ТРЦ \"Максимир\"\n",
       "8                        Воронеж ТРЦ Сити-Парк \"Град\"\n",
       "9                                   Выездная Торговля\n",
       "10                         Жуковский ул. Чкалова 39м?\n",
       "11                         Жуковский ул. Чкалова 39м²\n",
       "12                                Интернет-магазин ЧС\n",
       "13                                Казань ТЦ \"Бехетле\"\n",
       "14                            Казань ТЦ \"ПаркХаус\" II\n",
       "15                               Калуга ТРЦ \"XXI век\"\n",
       "16                                   Коломна ТЦ \"Рио\"\n",
       "17                      Красноярск ТЦ \"Взлетка Плаза\"\n",
       "18                               Красноярск ТЦ \"Июнь\"\n",
       "19                              Курск ТЦ \"Пушкинский\"\n",
       "20                                Москва \"Распродажа\"\n",
       "21                             Москва МТРЦ \"Афи Молл\"\n",
       "22                                 Москва Магазин С21\n",
       "23                   Москва ТК \"Буденовский\" (пав.А2)\n",
       "24                   Москва ТК \"Буденовский\" (пав.К7)\n",
       "25                                Москва ТРК \"Атриум\"\n",
       "26                        Москва ТЦ \"Ареал\" (Беляево)\n",
       "27                     Москва ТЦ \"МЕГА Белая Дача II\"\n",
       "28                    Москва ТЦ \"МЕГА Теплый Стан\" II\n",
       "29                 Москва ТЦ \"Новый век\" (Новокосино)\n",
       "30                             Москва ТЦ \"Перловский\"\n",
       "31                            Москва ТЦ \"Семеновский\"\n",
       "32                         Москва ТЦ \"Серебряный Дом\"\n",
       "33                                  Мытищи ТРК \"XL-3\"\n",
       "34                               Н.Новгород ТРЦ \"РИО\"\n",
       "35                        Н.Новгород ТРЦ \"Фантастика\"\n",
       "36              Новосибирск ТРЦ \"Галерея Новосибирск\"\n",
       "37                              Новосибирск ТЦ \"Мега\"\n",
       "38                                     Омск ТЦ \"Мега\"\n",
       "39              РостовНаДону ТРК \"Мегацентр Горизонт\"\n",
       "40    РостовНаДону ТРК \"Мегацентр Горизонт\" Островной\n",
       "41                             РостовНаДону ТЦ \"Мега\"\n",
       "42                             СПб ТК \"Невский Центр\"\n",
       "43                                    СПб ТК \"Сенная\"\n",
       "44                                Самара ТЦ \"Мелодия\"\n",
       "45                               Самара ТЦ \"ПаркХаус\"\n",
       "46                              Сергиев Посад ТЦ \"7Я\"\n",
       "47                             Сургут ТРЦ \"Сити Молл\"\n",
       "48                       Томск ТРЦ \"Изумрудный Город\"\n",
       "49                              Тюмень ТРЦ \"Кристалл\"\n",
       "50                                 Тюмень ТЦ \"Гудвин\"\n",
       "51                          Тюмень ТЦ \"Зеленый Берег\"\n",
       "52                               Уфа ТК \"Центральный\"\n",
       "53                                   Уфа ТЦ \"Семья\" 2\n",
       "54                                    Химки ТЦ \"Мега\"\n",
       "55                           Цифровой склад 1С-Онлайн\n",
       "56                               Чехов ТРЦ \"Карнавал\"\n",
       "57                            Якутск Орджоникидзе, 56\n",
       "58                            Якутск ТЦ \"Центральный\"\n",
       "59                             Ярославль ТЦ \"Альтаир\"\n",
       "Name: shop_name, dtype: object"
      ]
     },
     "execution_count": 124,
     "metadata": {},
     "output_type": "execute_result"
    }
   ],
   "source": [
    "shops_df.shop_name"
   ]
  },
  {
   "cell_type": "markdown",
   "metadata": {},
   "source": [
    "**FINDING:** It appears that these shops are located in different parts of Russia and that it may be possible to identify specific locations, at least at city level. There may be online stores too."
   ]
  },
  {
   "cell_type": "markdown",
   "metadata": {},
   "source": [
    "### MACROECONOMIC DATA FROM SBERBANK COMPETITION "
   ]
  },
  {
   "cell_type": "code",
   "execution_count": 195,
   "metadata": {},
   "outputs": [],
   "source": [
    "macro_df = pd.read_csv('./Data/competitive-data-science-predict-future-sales/macro.csv')"
   ]
  },
  {
   "cell_type": "code",
   "execution_count": 196,
   "metadata": {},
   "outputs": [
    {
     "data": {
      "text/plain": [
       "(2484, 100)"
      ]
     },
     "execution_count": 196,
     "metadata": {},
     "output_type": "execute_result"
    }
   ],
   "source": [
    "macro_df.shape"
   ]
  },
  {
   "cell_type": "code",
   "execution_count": 197,
   "metadata": {},
   "outputs": [
    {
     "data": {
      "text/plain": [
       "Index(['timestamp', 'oil_urals', 'gdp_quart', 'gdp_quart_growth', 'cpi', 'ppi',\n",
       "       'gdp_deflator', 'balance_trade', 'balance_trade_growth', 'usdrub',\n",
       "       'eurrub', 'brent', 'net_capital_export', 'gdp_annual',\n",
       "       'gdp_annual_growth', 'average_provision_of_build_contract',\n",
       "       'average_provision_of_build_contract_moscow', 'rts', 'micex',\n",
       "       'micex_rgbi_tr', 'micex_cbi_tr', 'deposits_value', 'deposits_growth',\n",
       "       'deposits_rate', 'mortgage_value', 'mortgage_growth', 'mortgage_rate',\n",
       "       'grp', 'grp_growth', 'income_per_cap',\n",
       "       'real_dispos_income_per_cap_growth', 'salary', 'salary_growth',\n",
       "       'fixed_basket', 'retail_trade_turnover',\n",
       "       'retail_trade_turnover_per_cap', 'retail_trade_turnover_growth',\n",
       "       'labor_force', 'unemployment', 'employment',\n",
       "       'invest_fixed_capital_per_cap', 'invest_fixed_assets',\n",
       "       'profitable_enterpr_share', 'unprofitable_enterpr_share',\n",
       "       'share_own_revenues', 'overdue_wages_per_cap', 'fin_res_per_cap',\n",
       "       'marriages_per_1000_cap', 'divorce_rate', 'construction_value',\n",
       "       'invest_fixed_assets_phys', 'pop_natural_increase', 'pop_migration',\n",
       "       'pop_total_inc', 'childbirth', 'mortality', 'housing_fund_sqm',\n",
       "       'lodging_sqm_per_cap', 'water_pipes_share', 'baths_share',\n",
       "       'sewerage_share', 'gas_share', 'hot_water_share',\n",
       "       'electric_stove_share', 'heating_share', 'old_house_share',\n",
       "       'average_life_exp', 'infant_mortarity_per_1000_cap',\n",
       "       'perinatal_mort_per_1000_cap', 'incidence_population',\n",
       "       'rent_price_4+room_bus', 'rent_price_3room_bus', 'rent_price_2room_bus',\n",
       "       'rent_price_1room_bus', 'rent_price_3room_eco', 'rent_price_2room_eco',\n",
       "       'rent_price_1room_eco', 'load_of_teachers_preschool_per_teacher',\n",
       "       'child_on_acc_pre_school', 'load_of_teachers_school_per_teacher',\n",
       "       'students_state_oneshift', 'modern_education_share',\n",
       "       'old_education_build_share', 'provision_doctors', 'provision_nurse',\n",
       "       'load_on_doctors', 'power_clinics', 'hospital_beds_available_per_cap',\n",
       "       'hospital_bed_occupancy_per_year', 'provision_retail_space_sqm',\n",
       "       'provision_retail_space_modern_sqm', 'turnover_catering_per_cap',\n",
       "       'theaters_viewers_per_1000_cap', 'seats_theather_rfmin_per_100000_cap',\n",
       "       'museum_visitis_per_100_cap', 'bandwidth_sports',\n",
       "       'population_reg_sports_share', 'students_reg_sports_share',\n",
       "       'apartment_build', 'apartment_fund_sqm'],\n",
       "      dtype='object')"
      ]
     },
     "execution_count": 197,
     "metadata": {},
     "output_type": "execute_result"
    }
   ],
   "source": [
    "macro_df.columns"
   ]
  },
  {
   "cell_type": "code",
   "execution_count": 198,
   "metadata": {},
   "outputs": [
    {
     "data": {
      "text/plain": [
       "0    2010-01-01\n",
       "1    2010-01-02\n",
       "2    2010-01-03\n",
       "3    2010-01-04\n",
       "4    2010-01-05\n",
       "Name: timestamp, dtype: object"
      ]
     },
     "execution_count": 198,
     "metadata": {},
     "output_type": "execute_result"
    }
   ],
   "source": [
    "macro_df.timestamp.head()"
   ]
  },
  {
   "cell_type": "code",
   "execution_count": 199,
   "metadata": {},
   "outputs": [],
   "source": [
    "#convert timestamp values to datetime\n",
    "macro_df['datetime'] = pd.to_datetime(macro_df.timestamp)"
   ]
  },
  {
   "cell_type": "code",
   "execution_count": 200,
   "metadata": {},
   "outputs": [
    {
     "data": {
      "text/plain": [
       "count                    2484\n",
       "unique                   2484\n",
       "top       2015-10-18 00:00:00\n",
       "freq                        1\n",
       "first     2010-01-01 00:00:00\n",
       "last      2016-10-19 00:00:00\n",
       "Name: datetime, dtype: object"
      ]
     },
     "execution_count": 200,
     "metadata": {},
     "output_type": "execute_result"
    }
   ],
   "source": [
    "macro_df.datetime.describe()"
   ]
  },
  {
   "cell_type": "code",
   "execution_count": 202,
   "metadata": {},
   "outputs": [
    {
     "name": "stdout",
     "output_type": "stream",
     "text": [
      "2484\n"
     ]
    }
   ],
   "source": [
    "#check that there is datetime value for each day between the first and last day in the macro dataset\n",
    "lastday = datetime.date(2016,10,19)\n",
    "firstday = datetime.date(2010,1,1)\n",
    "delta = lastday - firstday\n",
    "print(delta.days + 1)"
   ]
  },
  {
   "cell_type": "markdown",
   "metadata": {},
   "source": [
    "**FINDING:** There is a row for every date between Jan 1, 2010 an Oct 19, 2016 in the macro_df dataset."
   ]
  },
  {
   "cell_type": "code",
   "execution_count": 203,
   "metadata": {},
   "outputs": [
    {
     "data": {
      "text/html": [
       "<div>\n",
       "<style scoped>\n",
       "    .dataframe tbody tr th:only-of-type {\n",
       "        vertical-align: middle;\n",
       "    }\n",
       "\n",
       "    .dataframe tbody tr th {\n",
       "        vertical-align: top;\n",
       "    }\n",
       "\n",
       "    .dataframe thead th {\n",
       "        text-align: right;\n",
       "    }\n",
       "</style>\n",
       "<table border=\"1\" class=\"dataframe\">\n",
       "  <thead>\n",
       "    <tr style=\"text-align: right;\">\n",
       "      <th></th>\n",
       "      <th>Count</th>\n",
       "      <th>Percent</th>\n",
       "    </tr>\n",
       "  </thead>\n",
       "  <tbody>\n",
       "    <tr>\n",
       "      <th>provision_retail_space_modern_sqm</th>\n",
       "      <td>1754</td>\n",
       "      <td>70.61%</td>\n",
       "    </tr>\n",
       "    <tr>\n",
       "      <th>provision_retail_space_sqm</th>\n",
       "      <td>1753</td>\n",
       "      <td>70.57%</td>\n",
       "    </tr>\n",
       "    <tr>\n",
       "      <th>old_education_build_share</th>\n",
       "      <td>1389</td>\n",
       "      <td>55.92%</td>\n",
       "    </tr>\n",
       "    <tr>\n",
       "      <th>modern_education_share</th>\n",
       "      <td>1389</td>\n",
       "      <td>55.92%</td>\n",
       "    </tr>\n",
       "    <tr>\n",
       "      <th>population_reg_sports_share</th>\n",
       "      <td>1023</td>\n",
       "      <td>41.18%</td>\n",
       "    </tr>\n",
       "    <tr>\n",
       "      <th>museum_visitis_per_100_cap</th>\n",
       "      <td>1023</td>\n",
       "      <td>41.18%</td>\n",
       "    </tr>\n",
       "    <tr>\n",
       "      <th>theaters_viewers_per_1000_cap</th>\n",
       "      <td>1023</td>\n",
       "      <td>41.18%</td>\n",
       "    </tr>\n",
       "    <tr>\n",
       "      <th>students_reg_sports_share</th>\n",
       "      <td>1023</td>\n",
       "      <td>41.18%</td>\n",
       "    </tr>\n",
       "    <tr>\n",
       "      <th>hospital_bed_occupancy_per_year</th>\n",
       "      <td>1023</td>\n",
       "      <td>41.18%</td>\n",
       "    </tr>\n",
       "    <tr>\n",
       "      <th>hospital_beds_available_per_cap</th>\n",
       "      <td>1023</td>\n",
       "      <td>41.18%</td>\n",
       "    </tr>\n",
       "    <tr>\n",
       "      <th>load_of_teachers_preschool_per_teacher</th>\n",
       "      <td>1023</td>\n",
       "      <td>41.18%</td>\n",
       "    </tr>\n",
       "    <tr>\n",
       "      <th>grp_growth</th>\n",
       "      <td>1023</td>\n",
       "      <td>41.18%</td>\n",
       "    </tr>\n",
       "    <tr>\n",
       "      <th>overdue_wages_per_cap</th>\n",
       "      <td>658</td>\n",
       "      <td>26.49%</td>\n",
       "    </tr>\n",
       "    <tr>\n",
       "      <th>old_house_share</th>\n",
       "      <td>658</td>\n",
       "      <td>26.49%</td>\n",
       "    </tr>\n",
       "    <tr>\n",
       "      <th>heating_share</th>\n",
       "      <td>658</td>\n",
       "      <td>26.49%</td>\n",
       "    </tr>\n",
       "    <tr>\n",
       "      <th>sewerage_share</th>\n",
       "      <td>658</td>\n",
       "      <td>26.49%</td>\n",
       "    </tr>\n",
       "    <tr>\n",
       "      <th>electric_stove_share</th>\n",
       "      <td>658</td>\n",
       "      <td>26.49%</td>\n",
       "    </tr>\n",
       "    <tr>\n",
       "      <th>hot_water_share</th>\n",
       "      <td>658</td>\n",
       "      <td>26.49%</td>\n",
       "    </tr>\n",
       "    <tr>\n",
       "      <th>gas_share</th>\n",
       "      <td>658</td>\n",
       "      <td>26.49%</td>\n",
       "    </tr>\n",
       "    <tr>\n",
       "      <th>infant_mortarity_per_1000_cap</th>\n",
       "      <td>658</td>\n",
       "      <td>26.49%</td>\n",
       "    </tr>\n",
       "    <tr>\n",
       "      <th>housing_fund_sqm</th>\n",
       "      <td>658</td>\n",
       "      <td>26.49%</td>\n",
       "    </tr>\n",
       "    <tr>\n",
       "      <th>baths_share</th>\n",
       "      <td>658</td>\n",
       "      <td>26.49%</td>\n",
       "    </tr>\n",
       "    <tr>\n",
       "      <th>water_pipes_share</th>\n",
       "      <td>658</td>\n",
       "      <td>26.49%</td>\n",
       "    </tr>\n",
       "    <tr>\n",
       "      <th>lodging_sqm_per_cap</th>\n",
       "      <td>658</td>\n",
       "      <td>26.49%</td>\n",
       "    </tr>\n",
       "    <tr>\n",
       "      <th>incidence_population</th>\n",
       "      <td>658</td>\n",
       "      <td>26.49%</td>\n",
       "    </tr>\n",
       "    <tr>\n",
       "      <th>fin_res_per_cap</th>\n",
       "      <td>658</td>\n",
       "      <td>26.49%</td>\n",
       "    </tr>\n",
       "    <tr>\n",
       "      <th>marriages_per_1000_cap</th>\n",
       "      <td>658</td>\n",
       "      <td>26.49%</td>\n",
       "    </tr>\n",
       "    <tr>\n",
       "      <th>pop_total_inc</th>\n",
       "      <td>658</td>\n",
       "      <td>26.49%</td>\n",
       "    </tr>\n",
       "    <tr>\n",
       "      <th>pop_migration</th>\n",
       "      <td>658</td>\n",
       "      <td>26.49%</td>\n",
       "    </tr>\n",
       "    <tr>\n",
       "      <th>divorce_rate</th>\n",
       "      <td>658</td>\n",
       "      <td>26.49%</td>\n",
       "    </tr>\n",
       "    <tr>\n",
       "      <th>...</th>\n",
       "      <td>...</td>\n",
       "      <td>...</td>\n",
       "    </tr>\n",
       "    <tr>\n",
       "      <th>invest_fixed_assets</th>\n",
       "      <td>293</td>\n",
       "      <td>11.80%</td>\n",
       "    </tr>\n",
       "    <tr>\n",
       "      <th>provision_nurse</th>\n",
       "      <td>293</td>\n",
       "      <td>11.80%</td>\n",
       "    </tr>\n",
       "    <tr>\n",
       "      <th>seats_theather_rfmin_per_100000_cap</th>\n",
       "      <td>293</td>\n",
       "      <td>11.80%</td>\n",
       "    </tr>\n",
       "    <tr>\n",
       "      <th>mortality</th>\n",
       "      <td>293</td>\n",
       "      <td>11.80%</td>\n",
       "    </tr>\n",
       "    <tr>\n",
       "      <th>average_life_exp</th>\n",
       "      <td>293</td>\n",
       "      <td>11.80%</td>\n",
       "    </tr>\n",
       "    <tr>\n",
       "      <th>turnover_catering_per_cap</th>\n",
       "      <td>293</td>\n",
       "      <td>11.80%</td>\n",
       "    </tr>\n",
       "    <tr>\n",
       "      <th>load_on_doctors</th>\n",
       "      <td>293</td>\n",
       "      <td>11.80%</td>\n",
       "    </tr>\n",
       "    <tr>\n",
       "      <th>load_of_teachers_school_per_teacher</th>\n",
       "      <td>293</td>\n",
       "      <td>11.80%</td>\n",
       "    </tr>\n",
       "    <tr>\n",
       "      <th>pop_natural_increase</th>\n",
       "      <td>293</td>\n",
       "      <td>11.80%</td>\n",
       "    </tr>\n",
       "    <tr>\n",
       "      <th>rent_price_4+room_bus</th>\n",
       "      <td>273</td>\n",
       "      <td>10.99%</td>\n",
       "    </tr>\n",
       "    <tr>\n",
       "      <th>rent_price_3room_bus</th>\n",
       "      <td>273</td>\n",
       "      <td>10.99%</td>\n",
       "    </tr>\n",
       "    <tr>\n",
       "      <th>rent_price_2room_bus</th>\n",
       "      <td>273</td>\n",
       "      <td>10.99%</td>\n",
       "    </tr>\n",
       "    <tr>\n",
       "      <th>rent_price_1room_bus</th>\n",
       "      <td>273</td>\n",
       "      <td>10.99%</td>\n",
       "    </tr>\n",
       "    <tr>\n",
       "      <th>rent_price_3room_eco</th>\n",
       "      <td>273</td>\n",
       "      <td>10.99%</td>\n",
       "    </tr>\n",
       "    <tr>\n",
       "      <th>rent_price_2room_eco</th>\n",
       "      <td>273</td>\n",
       "      <td>10.99%</td>\n",
       "    </tr>\n",
       "    <tr>\n",
       "      <th>rent_price_1room_eco</th>\n",
       "      <td>273</td>\n",
       "      <td>10.99%</td>\n",
       "    </tr>\n",
       "    <tr>\n",
       "      <th>gdp_quart_growth</th>\n",
       "      <td>90</td>\n",
       "      <td>3.62%</td>\n",
       "    </tr>\n",
       "    <tr>\n",
       "      <th>gdp_quart</th>\n",
       "      <td>90</td>\n",
       "      <td>3.62%</td>\n",
       "    </tr>\n",
       "    <tr>\n",
       "      <th>balance_trade_growth</th>\n",
       "      <td>90</td>\n",
       "      <td>3.62%</td>\n",
       "    </tr>\n",
       "    <tr>\n",
       "      <th>deposits_growth</th>\n",
       "      <td>31</td>\n",
       "      <td>1.25%</td>\n",
       "    </tr>\n",
       "    <tr>\n",
       "      <th>cpi</th>\n",
       "      <td>31</td>\n",
       "      <td>1.25%</td>\n",
       "    </tr>\n",
       "    <tr>\n",
       "      <th>ppi</th>\n",
       "      <td>31</td>\n",
       "      <td>1.25%</td>\n",
       "    </tr>\n",
       "    <tr>\n",
       "      <th>balance_trade</th>\n",
       "      <td>31</td>\n",
       "      <td>1.25%</td>\n",
       "    </tr>\n",
       "    <tr>\n",
       "      <th>micex_rgbi_tr</th>\n",
       "      <td>10</td>\n",
       "      <td>0.40%</td>\n",
       "    </tr>\n",
       "    <tr>\n",
       "      <th>micex</th>\n",
       "      <td>10</td>\n",
       "      <td>0.40%</td>\n",
       "    </tr>\n",
       "    <tr>\n",
       "      <th>rts</th>\n",
       "      <td>10</td>\n",
       "      <td>0.40%</td>\n",
       "    </tr>\n",
       "    <tr>\n",
       "      <th>brent</th>\n",
       "      <td>3</td>\n",
       "      <td>0.12%</td>\n",
       "    </tr>\n",
       "    <tr>\n",
       "      <th>eurrub</th>\n",
       "      <td>3</td>\n",
       "      <td>0.12%</td>\n",
       "    </tr>\n",
       "    <tr>\n",
       "      <th>usdrub</th>\n",
       "      <td>3</td>\n",
       "      <td>0.12%</td>\n",
       "    </tr>\n",
       "    <tr>\n",
       "      <th>micex_cbi_tr</th>\n",
       "      <td>1</td>\n",
       "      <td>0.04%</td>\n",
       "    </tr>\n",
       "  </tbody>\n",
       "</table>\n",
       "<p>91 rows × 2 columns</p>\n",
       "</div>"
      ],
      "text/plain": [
       "                                        Count Percent\n",
       "provision_retail_space_modern_sqm        1754  70.61%\n",
       "provision_retail_space_sqm               1753  70.57%\n",
       "old_education_build_share                1389  55.92%\n",
       "modern_education_share                   1389  55.92%\n",
       "population_reg_sports_share              1023  41.18%\n",
       "museum_visitis_per_100_cap               1023  41.18%\n",
       "theaters_viewers_per_1000_cap            1023  41.18%\n",
       "students_reg_sports_share                1023  41.18%\n",
       "hospital_bed_occupancy_per_year          1023  41.18%\n",
       "hospital_beds_available_per_cap          1023  41.18%\n",
       "load_of_teachers_preschool_per_teacher   1023  41.18%\n",
       "grp_growth                               1023  41.18%\n",
       "overdue_wages_per_cap                     658  26.49%\n",
       "old_house_share                           658  26.49%\n",
       "heating_share                             658  26.49%\n",
       "sewerage_share                            658  26.49%\n",
       "electric_stove_share                      658  26.49%\n",
       "hot_water_share                           658  26.49%\n",
       "gas_share                                 658  26.49%\n",
       "infant_mortarity_per_1000_cap             658  26.49%\n",
       "housing_fund_sqm                          658  26.49%\n",
       "baths_share                               658  26.49%\n",
       "water_pipes_share                         658  26.49%\n",
       "lodging_sqm_per_cap                       658  26.49%\n",
       "incidence_population                      658  26.49%\n",
       "fin_res_per_cap                           658  26.49%\n",
       "marriages_per_1000_cap                    658  26.49%\n",
       "pop_total_inc                             658  26.49%\n",
       "pop_migration                             658  26.49%\n",
       "divorce_rate                              658  26.49%\n",
       "...                                       ...     ...\n",
       "invest_fixed_assets                       293  11.80%\n",
       "provision_nurse                           293  11.80%\n",
       "seats_theather_rfmin_per_100000_cap       293  11.80%\n",
       "mortality                                 293  11.80%\n",
       "average_life_exp                          293  11.80%\n",
       "turnover_catering_per_cap                 293  11.80%\n",
       "load_on_doctors                           293  11.80%\n",
       "load_of_teachers_school_per_teacher       293  11.80%\n",
       "pop_natural_increase                      293  11.80%\n",
       "rent_price_4+room_bus                     273  10.99%\n",
       "rent_price_3room_bus                      273  10.99%\n",
       "rent_price_2room_bus                      273  10.99%\n",
       "rent_price_1room_bus                      273  10.99%\n",
       "rent_price_3room_eco                      273  10.99%\n",
       "rent_price_2room_eco                      273  10.99%\n",
       "rent_price_1room_eco                      273  10.99%\n",
       "gdp_quart_growth                           90   3.62%\n",
       "gdp_quart                                  90   3.62%\n",
       "balance_trade_growth                       90   3.62%\n",
       "deposits_growth                            31   1.25%\n",
       "cpi                                        31   1.25%\n",
       "ppi                                        31   1.25%\n",
       "balance_trade                              31   1.25%\n",
       "micex_rgbi_tr                              10   0.40%\n",
       "micex                                      10   0.40%\n",
       "rts                                        10   0.40%\n",
       "brent                                       3   0.12%\n",
       "eurrub                                      3   0.12%\n",
       "usdrub                                      3   0.12%\n",
       "micex_cbi_tr                                1   0.04%\n",
       "\n",
       "[91 rows x 2 columns]"
      ]
     },
     "execution_count": 203,
     "metadata": {},
     "output_type": "execute_result"
    }
   ],
   "source": [
    "# Let's check which columns have missing values and how often.\n",
    "miss_vls_macro = pd.DataFrame(macro_df.isnull().sum(axis=0).sort_values(ascending=False), columns=['Count'])\n",
    "miss_vls_macro['Percent'] = miss_vls_macro['Count'].apply(lambda x: '{:.2f}%'.format((float(x) / macro_df.shape[0]) * 100))\n",
    "miss_vls_macro[miss_vls_macro.Count > 0]"
   ]
  },
  {
   "cell_type": "code",
   "execution_count": 204,
   "metadata": {},
   "outputs": [
    {
     "data": {
      "text/html": [
       "<div>\n",
       "<style scoped>\n",
       "    .dataframe tbody tr th:only-of-type {\n",
       "        vertical-align: middle;\n",
       "    }\n",
       "\n",
       "    .dataframe tbody tr th {\n",
       "        vertical-align: top;\n",
       "    }\n",
       "\n",
       "    .dataframe thead th {\n",
       "        text-align: right;\n",
       "    }\n",
       "</style>\n",
       "<table border=\"1\" class=\"dataframe\">\n",
       "  <thead>\n",
       "    <tr style=\"text-align: right;\">\n",
       "      <th></th>\n",
       "      <th>Count</th>\n",
       "      <th>Percent</th>\n",
       "    </tr>\n",
       "  </thead>\n",
       "  <tbody>\n",
       "    <tr>\n",
       "      <th>oil_urals</th>\n",
       "      <td>0</td>\n",
       "      <td>0.00%</td>\n",
       "    </tr>\n",
       "    <tr>\n",
       "      <th>datetime</th>\n",
       "      <td>0</td>\n",
       "      <td>0.00%</td>\n",
       "    </tr>\n",
       "    <tr>\n",
       "      <th>gdp_annual</th>\n",
       "      <td>0</td>\n",
       "      <td>0.00%</td>\n",
       "    </tr>\n",
       "    <tr>\n",
       "      <th>gdp_annual_growth</th>\n",
       "      <td>0</td>\n",
       "      <td>0.00%</td>\n",
       "    </tr>\n",
       "    <tr>\n",
       "      <th>average_provision_of_build_contract</th>\n",
       "      <td>0</td>\n",
       "      <td>0.00%</td>\n",
       "    </tr>\n",
       "    <tr>\n",
       "      <th>deposits_value</th>\n",
       "      <td>0</td>\n",
       "      <td>0.00%</td>\n",
       "    </tr>\n",
       "    <tr>\n",
       "      <th>mortgage_value</th>\n",
       "      <td>0</td>\n",
       "      <td>0.00%</td>\n",
       "    </tr>\n",
       "    <tr>\n",
       "      <th>mortgage_rate</th>\n",
       "      <td>0</td>\n",
       "      <td>0.00%</td>\n",
       "    </tr>\n",
       "    <tr>\n",
       "      <th>fixed_basket</th>\n",
       "      <td>0</td>\n",
       "      <td>0.00%</td>\n",
       "    </tr>\n",
       "    <tr>\n",
       "      <th>timestamp</th>\n",
       "      <td>0</td>\n",
       "      <td>0.00%</td>\n",
       "    </tr>\n",
       "  </tbody>\n",
       "</table>\n",
       "</div>"
      ],
      "text/plain": [
       "                                     Count Percent\n",
       "oil_urals                                0   0.00%\n",
       "datetime                                 0   0.00%\n",
       "gdp_annual                               0   0.00%\n",
       "gdp_annual_growth                        0   0.00%\n",
       "average_provision_of_build_contract      0   0.00%\n",
       "deposits_value                           0   0.00%\n",
       "mortgage_value                           0   0.00%\n",
       "mortgage_rate                            0   0.00%\n",
       "fixed_basket                             0   0.00%\n",
       "timestamp                                0   0.00%"
      ]
     },
     "execution_count": 204,
     "metadata": {},
     "output_type": "execute_result"
    }
   ],
   "source": [
    "# Identify features without any missing values\n",
    "miss_vls_macro[miss_vls_macro.Count == 0]"
   ]
  },
  {
   "cell_type": "code",
   "execution_count": null,
   "metadata": {},
   "outputs": [],
   "source": []
  },
  {
   "cell_type": "code",
   "execution_count": null,
   "metadata": {},
   "outputs": [],
   "source": []
  },
  {
   "cell_type": "code",
   "execution_count": null,
   "metadata": {},
   "outputs": [],
   "source": []
  },
  {
   "cell_type": "code",
   "execution_count": null,
   "metadata": {},
   "outputs": [],
   "source": []
  },
  {
   "cell_type": "code",
   "execution_count": null,
   "metadata": {},
   "outputs": [],
   "source": []
  },
  {
   "cell_type": "code",
   "execution_count": null,
   "metadata": {},
   "outputs": [],
   "source": []
  },
  {
   "cell_type": "code",
   "execution_count": 12,
   "metadata": {},
   "outputs": [
    {
     "data": {
      "text/html": [
       "<div>\n",
       "<style scoped>\n",
       "    .dataframe tbody tr th:only-of-type {\n",
       "        vertical-align: middle;\n",
       "    }\n",
       "\n",
       "    .dataframe tbody tr th {\n",
       "        vertical-align: top;\n",
       "    }\n",
       "\n",
       "    .dataframe thead tr th {\n",
       "        text-align: left;\n",
       "    }\n",
       "\n",
       "    .dataframe thead tr:last-of-type th {\n",
       "        text-align: right;\n",
       "    }\n",
       "</style>\n",
       "<table border=\"1\" class=\"dataframe\">\n",
       "  <thead>\n",
       "    <tr>\n",
       "      <th></th>\n",
       "      <th></th>\n",
       "      <th></th>\n",
       "      <th colspan=\"2\" halign=\"left\">date</th>\n",
       "      <th>item_price</th>\n",
       "      <th>item_cnt_day</th>\n",
       "    </tr>\n",
       "    <tr>\n",
       "      <th></th>\n",
       "      <th></th>\n",
       "      <th></th>\n",
       "      <th>min</th>\n",
       "      <th>max</th>\n",
       "      <th>mean</th>\n",
       "      <th>sum</th>\n",
       "    </tr>\n",
       "    <tr>\n",
       "      <th>date_block_num</th>\n",
       "      <th>shop_id</th>\n",
       "      <th>item_id</th>\n",
       "      <th></th>\n",
       "      <th></th>\n",
       "      <th></th>\n",
       "      <th></th>\n",
       "    </tr>\n",
       "  </thead>\n",
       "  <tbody>\n",
       "    <tr>\n",
       "      <th rowspan=\"20\" valign=\"top\">0</th>\n",
       "      <th rowspan=\"20\" valign=\"top\">0</th>\n",
       "      <th>32</th>\n",
       "      <td>2013-01-03</td>\n",
       "      <td>2013-01-31</td>\n",
       "      <td>221.0</td>\n",
       "      <td>6.0</td>\n",
       "    </tr>\n",
       "    <tr>\n",
       "      <th>33</th>\n",
       "      <td>2013-01-03</td>\n",
       "      <td>2013-01-28</td>\n",
       "      <td>347.0</td>\n",
       "      <td>3.0</td>\n",
       "    </tr>\n",
       "    <tr>\n",
       "      <th>35</th>\n",
       "      <td>2013-01-31</td>\n",
       "      <td>2013-01-31</td>\n",
       "      <td>247.0</td>\n",
       "      <td>1.0</td>\n",
       "    </tr>\n",
       "    <tr>\n",
       "      <th>43</th>\n",
       "      <td>2013-01-31</td>\n",
       "      <td>2013-01-31</td>\n",
       "      <td>221.0</td>\n",
       "      <td>1.0</td>\n",
       "    </tr>\n",
       "    <tr>\n",
       "      <th>51</th>\n",
       "      <td>2013-01-13</td>\n",
       "      <td>2013-01-31</td>\n",
       "      <td>128.5</td>\n",
       "      <td>2.0</td>\n",
       "    </tr>\n",
       "    <tr>\n",
       "      <th>61</th>\n",
       "      <td>2013-01-10</td>\n",
       "      <td>2013-01-10</td>\n",
       "      <td>195.0</td>\n",
       "      <td>1.0</td>\n",
       "    </tr>\n",
       "    <tr>\n",
       "      <th>75</th>\n",
       "      <td>2013-01-17</td>\n",
       "      <td>2013-01-17</td>\n",
       "      <td>76.0</td>\n",
       "      <td>1.0</td>\n",
       "    </tr>\n",
       "    <tr>\n",
       "      <th>88</th>\n",
       "      <td>2013-01-16</td>\n",
       "      <td>2013-01-16</td>\n",
       "      <td>76.0</td>\n",
       "      <td>1.0</td>\n",
       "    </tr>\n",
       "    <tr>\n",
       "      <th>95</th>\n",
       "      <td>2013-01-06</td>\n",
       "      <td>2013-01-06</td>\n",
       "      <td>193.0</td>\n",
       "      <td>1.0</td>\n",
       "    </tr>\n",
       "    <tr>\n",
       "      <th>96</th>\n",
       "      <td>2013-01-10</td>\n",
       "      <td>2013-01-10</td>\n",
       "      <td>70.0</td>\n",
       "      <td>1.0</td>\n",
       "    </tr>\n",
       "    <tr>\n",
       "      <th>98</th>\n",
       "      <td>2013-01-04</td>\n",
       "      <td>2013-01-31</td>\n",
       "      <td>268.0</td>\n",
       "      <td>25.0</td>\n",
       "    </tr>\n",
       "    <tr>\n",
       "      <th>111</th>\n",
       "      <td>2013-01-17</td>\n",
       "      <td>2013-01-17</td>\n",
       "      <td>89.0</td>\n",
       "      <td>1.0</td>\n",
       "    </tr>\n",
       "    <tr>\n",
       "      <th>149</th>\n",
       "      <td>2013-01-11</td>\n",
       "      <td>2013-01-28</td>\n",
       "      <td>99.0</td>\n",
       "      <td>3.0</td>\n",
       "    </tr>\n",
       "    <tr>\n",
       "      <th>151</th>\n",
       "      <td>2013-01-16</td>\n",
       "      <td>2013-01-16</td>\n",
       "      <td>75.0</td>\n",
       "      <td>1.0</td>\n",
       "    </tr>\n",
       "    <tr>\n",
       "      <th>153</th>\n",
       "      <td>2013-01-09</td>\n",
       "      <td>2013-01-09</td>\n",
       "      <td>258.0</td>\n",
       "      <td>1.0</td>\n",
       "    </tr>\n",
       "    <tr>\n",
       "      <th>198</th>\n",
       "      <td>2013-01-10</td>\n",
       "      <td>2013-01-10</td>\n",
       "      <td>112.0</td>\n",
       "      <td>1.0</td>\n",
       "    </tr>\n",
       "    <tr>\n",
       "      <th>210</th>\n",
       "      <td>2013-01-05</td>\n",
       "      <td>2013-01-25</td>\n",
       "      <td>118.0</td>\n",
       "      <td>2.0</td>\n",
       "    </tr>\n",
       "    <tr>\n",
       "      <th>282</th>\n",
       "      <td>2013-01-04</td>\n",
       "      <td>2013-01-04</td>\n",
       "      <td>109.0</td>\n",
       "      <td>1.0</td>\n",
       "    </tr>\n",
       "    <tr>\n",
       "      <th>306</th>\n",
       "      <td>2013-01-22</td>\n",
       "      <td>2013-01-22</td>\n",
       "      <td>59.0</td>\n",
       "      <td>1.0</td>\n",
       "    </tr>\n",
       "    <tr>\n",
       "      <th>351</th>\n",
       "      <td>2013-01-21</td>\n",
       "      <td>2013-01-21</td>\n",
       "      <td>89.0</td>\n",
       "      <td>1.0</td>\n",
       "    </tr>\n",
       "  </tbody>\n",
       "</table>\n",
       "</div>"
      ],
      "text/plain": [
       "                                     date            item_price item_cnt_day\n",
       "                                      min        max       mean          sum\n",
       "date_block_num shop_id item_id                                              \n",
       "0              0       32      2013-01-03 2013-01-31      221.0          6.0\n",
       "                       33      2013-01-03 2013-01-28      347.0          3.0\n",
       "                       35      2013-01-31 2013-01-31      247.0          1.0\n",
       "                       43      2013-01-31 2013-01-31      221.0          1.0\n",
       "                       51      2013-01-13 2013-01-31      128.5          2.0\n",
       "                       61      2013-01-10 2013-01-10      195.0          1.0\n",
       "                       75      2013-01-17 2013-01-17       76.0          1.0\n",
       "                       88      2013-01-16 2013-01-16       76.0          1.0\n",
       "                       95      2013-01-06 2013-01-06      193.0          1.0\n",
       "                       96      2013-01-10 2013-01-10       70.0          1.0\n",
       "                       98      2013-01-04 2013-01-31      268.0         25.0\n",
       "                       111     2013-01-17 2013-01-17       89.0          1.0\n",
       "                       149     2013-01-11 2013-01-28       99.0          3.0\n",
       "                       151     2013-01-16 2013-01-16       75.0          1.0\n",
       "                       153     2013-01-09 2013-01-09      258.0          1.0\n",
       "                       198     2013-01-10 2013-01-10      112.0          1.0\n",
       "                       210     2013-01-05 2013-01-25      118.0          2.0\n",
       "                       282     2013-01-04 2013-01-04      109.0          1.0\n",
       "                       306     2013-01-22 2013-01-22       59.0          1.0\n",
       "                       351     2013-01-21 2013-01-21       89.0          1.0"
      ]
     },
     "execution_count": 12,
     "metadata": {},
     "output_type": "execute_result"
    }
   ],
   "source": [
    "# Aggregate to monthly level the required metrics\n",
    "monthly_sales=sales.groupby([\"date_block_num\",\"shop_id\",\"item_id\"])[\n",
    "    \"date\",\"item_price\",\"item_cnt_day\"].agg({\"date\":[\"min\",'max'],\"item_price\":\"mean\",\"item_cnt_day\":\"sum\"})\n",
    "\n",
    "monthly_sales.head(20)"
   ]
  },
  {
   "cell_type": "code",
   "execution_count": null,
   "metadata": {},
   "outputs": [],
   "source": []
  },
  {
   "cell_type": "code",
   "execution_count": null,
   "metadata": {},
   "outputs": [],
   "source": []
  }
 ],
 "metadata": {
  "kernelspec": {
   "display_name": "Python 3",
   "language": "python",
   "name": "python3"
  },
  "language_info": {
   "codemirror_mode": {
    "name": "ipython",
    "version": 3
   },
   "file_extension": ".py",
   "mimetype": "text/x-python",
   "name": "python",
   "nbconvert_exporter": "python",
   "pygments_lexer": "ipython3",
   "version": "3.6.6"
  }
 },
 "nbformat": 4,
 "nbformat_minor": 2
}
