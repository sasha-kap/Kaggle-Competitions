{
 "cells": [
  {
   "cell_type": "markdown",
   "metadata": {
    "toc": true
   },
   "source": [
    "<h1>Table of Contents<span class=\"tocSkip\"></span></h1>\n",
    "<div class=\"toc\"><ul class=\"toc-item\"><li><span><a href=\"#IMPORT-ALL-DATASETS\" data-toc-modified-id=\"IMPORT-ALL-DATASETS-1\"><span class=\"toc-item-num\">1&nbsp;&nbsp;</span>IMPORT ALL DATASETS</a></span></li><li><span><a href=\"#PERFORM-INITIAL-DATA-CLEANING\" data-toc-modified-id=\"PERFORM-INITIAL-DATA-CLEANING-2\"><span class=\"toc-item-num\">2&nbsp;&nbsp;</span>PERFORM INITIAL DATA CLEANING</a></span></li><li><span><a href=\"#SHOP-LEVEL-FEATURES\" data-toc-modified-id=\"SHOP-LEVEL-FEATURES-3\"><span class=\"toc-item-num\">3&nbsp;&nbsp;</span>SHOP-LEVEL FEATURES</a></span></li><li><span><a href=\"#ITEM-LEVEL-FEATURES\" data-toc-modified-id=\"ITEM-LEVEL-FEATURES-4\"><span class=\"toc-item-num\">4&nbsp;&nbsp;</span>ITEM-LEVEL FEATURES</a></span></li><li><span><a href=\"#DATE-LEVEL-FEATURES\" data-toc-modified-id=\"DATE-LEVEL-FEATURES-5\"><span class=\"toc-item-num\">5&nbsp;&nbsp;</span>DATE-LEVEL FEATURES</a></span></li><li><span><a href=\"#ITEM-DATE-LEVEL-FEATURES\" data-toc-modified-id=\"ITEM-DATE-LEVEL-FEATURES-6\"><span class=\"toc-item-num\">6&nbsp;&nbsp;</span>ITEM-DATE-LEVEL FEATURES</a></span></li><li><span><a href=\"#SHOP-DATE-LEVEL-FEATURES\" data-toc-modified-id=\"SHOP-DATE-LEVEL-FEATURES-7\"><span class=\"toc-item-num\">7&nbsp;&nbsp;</span>SHOP-DATE-LEVEL FEATURES</a></span></li><li><span><a href=\"#SHOP-ITEM-LEVEL-FEATURES\" data-toc-modified-id=\"SHOP-ITEM-LEVEL-FEATURES-8\"><span class=\"toc-item-num\">8&nbsp;&nbsp;</span>SHOP-ITEM-LEVEL FEATURES</a></span></li><li><span><a href=\"#SHOP-ITEM-DATE-LEVEL-FEATURES\" data-toc-modified-id=\"SHOP-ITEM-DATE-LEVEL-FEATURES-9\"><span class=\"toc-item-num\">9&nbsp;&nbsp;</span>SHOP-ITEM-DATE-LEVEL FEATURES</a></span></li></ul></div>"
   ]
  },
  {
   "cell_type": "code",
   "execution_count": 1,
   "metadata": {},
   "outputs": [
    {
     "name": "stdout",
     "output_type": "stream",
     "text": [
      "3.6.10 |Anaconda, Inc.| (default, Mar 25 2020, 18:53:43) \n",
      "[GCC 4.2.1 Compatible Clang 4.0.1 (tags/RELEASE_401/final)]\n"
     ]
    }
   ],
   "source": [
    "import sys\n",
    "print(sys.version)"
   ]
  },
  {
   "cell_type": "code",
   "execution_count": 169,
   "metadata": {},
   "outputs": [],
   "source": [
    "import datetime\n",
    "import sqlite3\n",
    "import time\n",
    "\n",
    "import holidays\n",
    "\n",
    "import pandas as pd\n",
    "import numpy as np\n",
    "import matplotlib as mpl\n",
    "import matplotlib.pyplot as plt\n",
    "import matplotlib.dates as mdates\n",
    "import matplotlib.ticker as ticker\n",
    "import seaborn as sns\n",
    "\n",
    "from scipy.stats import variation\n",
    "\n",
    "#set max columns displayed to 100\n",
    "pd.set_option('display.max_columns',100)\n",
    "\n",
    "import warnings\n",
    "warnings.filterwarnings('ignore')"
   ]
  },
  {
   "cell_type": "code",
   "execution_count": 56,
   "metadata": {},
   "outputs": [
    {
     "data": {
      "text/plain": [
       "('1.1.3', '3.3.2', '1.15.4')"
      ]
     },
     "execution_count": 56,
     "metadata": {},
     "output_type": "execute_result"
    }
   ],
   "source": [
    "pd.__version__, mpl.__version__, np.__version__"
   ]
  },
  {
   "cell_type": "markdown",
   "metadata": {},
   "source": [
    "### IMPORT ALL DATASETS "
   ]
  },
  {
   "cell_type": "code",
   "execution_count": 3,
   "metadata": {},
   "outputs": [],
   "source": [
    "sales = pd.read_csv('./Data/competitive-data-science-predict-future-sales/sales_train.csv')"
   ]
  },
  {
   "cell_type": "code",
   "execution_count": 57,
   "metadata": {},
   "outputs": [],
   "source": [
    "test_df = pd.read_csv('./Data/competitive-data-science-predict-future-sales/test.csv')"
   ]
  },
  {
   "cell_type": "code",
   "execution_count": 58,
   "metadata": {},
   "outputs": [],
   "source": [
    "items_df = pd.read_csv('./Data/competitive-data-science-predict-future-sales/items.csv')"
   ]
  },
  {
   "cell_type": "code",
   "execution_count": 59,
   "metadata": {},
   "outputs": [],
   "source": [
    "categories_df = pd.read_csv('./Data/competitive-data-science-predict-future-sales/item_categories.csv')"
   ]
  },
  {
   "cell_type": "code",
   "execution_count": 60,
   "metadata": {},
   "outputs": [],
   "source": [
    "shops_df = pd.read_csv('./Data/competitive-data-science-predict-future-sales/shops.csv')"
   ]
  },
  {
   "cell_type": "code",
   "execution_count": 61,
   "metadata": {},
   "outputs": [],
   "source": [
    "macro_df = pd.read_csv('./Data/competitive-data-science-predict-future-sales/macro.csv')"
   ]
  },
  {
   "cell_type": "code",
   "execution_count": 62,
   "metadata": {},
   "outputs": [],
   "source": [
    "usecols = ['Title','Genre','Developer','Publisher','Release date JP','Release date EU','Release date NA','Addons']\n",
    "ps4games = pd.read_csv('./Data/competitive-data-science-predict-future-sales/ps4_games.csv', usecols=usecols)"
   ]
  },
  {
   "cell_type": "markdown",
   "metadata": {},
   "source": [
    "### PERFORM INITIAL DATA CLEANING "
   ]
  },
  {
   "cell_type": "code",
   "execution_count": 4,
   "metadata": {},
   "outputs": [],
   "source": [
    "# convert the date column from string to datetime type\n",
    "sales.date = sales.date.apply(lambda x: datetime.datetime.strptime(x, '%d.%m.%Y'))"
   ]
  },
  {
   "cell_type": "code",
   "execution_count": 5,
   "metadata": {},
   "outputs": [],
   "source": [
    "# Drop duplicate rows\n",
    "sales.drop_duplicates(inplace=True)"
   ]
  },
  {
   "cell_type": "code",
   "execution_count": 6,
   "metadata": {},
   "outputs": [
    {
     "data": {
      "text/html": [
       "<div>\n",
       "<style scoped>\n",
       "    .dataframe tbody tr th:only-of-type {\n",
       "        vertical-align: middle;\n",
       "    }\n",
       "\n",
       "    .dataframe tbody tr th {\n",
       "        vertical-align: top;\n",
       "    }\n",
       "\n",
       "    .dataframe thead th {\n",
       "        text-align: right;\n",
       "    }\n",
       "</style>\n",
       "<table border=\"1\" class=\"dataframe\">\n",
       "  <thead>\n",
       "    <tr style=\"text-align: right;\">\n",
       "      <th></th>\n",
       "      <th>date</th>\n",
       "      <th>date_block_num</th>\n",
       "      <th>shop_id</th>\n",
       "      <th>item_id</th>\n",
       "      <th>item_price</th>\n",
       "      <th>item_cnt_day</th>\n",
       "    </tr>\n",
       "  </thead>\n",
       "  <tbody>\n",
       "    <tr>\n",
       "      <th>6959</th>\n",
       "      <td>2013-01-29</td>\n",
       "      <td>0</td>\n",
       "      <td>25</td>\n",
       "      <td>12133</td>\n",
       "      <td>889.0</td>\n",
       "      <td>1.0</td>\n",
       "    </tr>\n",
       "    <tr>\n",
       "      <th>6960</th>\n",
       "      <td>2013-01-29</td>\n",
       "      <td>0</td>\n",
       "      <td>25</td>\n",
       "      <td>12133</td>\n",
       "      <td>1389.0</td>\n",
       "      <td>1.0</td>\n",
       "    </tr>\n",
       "    <tr>\n",
       "      <th>70686</th>\n",
       "      <td>2013-01-25</td>\n",
       "      <td>0</td>\n",
       "      <td>31</td>\n",
       "      <td>14050</td>\n",
       "      <td>349.0</td>\n",
       "      <td>1.0</td>\n",
       "    </tr>\n",
       "    <tr>\n",
       "      <th>70718</th>\n",
       "      <td>2013-01-25</td>\n",
       "      <td>0</td>\n",
       "      <td>31</td>\n",
       "      <td>14050</td>\n",
       "      <td>248.0</td>\n",
       "      <td>1.0</td>\n",
       "    </tr>\n",
       "    <tr>\n",
       "      <th>103461</th>\n",
       "      <td>2013-01-27</td>\n",
       "      <td>0</td>\n",
       "      <td>38</td>\n",
       "      <td>15702</td>\n",
       "      <td>549.0</td>\n",
       "      <td>1.0</td>\n",
       "    </tr>\n",
       "  </tbody>\n",
       "</table>\n",
       "</div>"
      ],
      "text/plain": [
       "             date  date_block_num  shop_id  item_id  item_price  item_cnt_day\n",
       "6959   2013-01-29               0       25    12133       889.0           1.0\n",
       "6960   2013-01-29               0       25    12133      1389.0           1.0\n",
       "70686  2013-01-25               0       31    14050       349.0           1.0\n",
       "70718  2013-01-25               0       31    14050       248.0           1.0\n",
       "103461 2013-01-27               0       38    15702       549.0           1.0"
      ]
     },
     "execution_count": 6,
     "metadata": {},
     "output_type": "execute_result"
    }
   ],
   "source": [
    "# Identify duplicate rows by shop-item-date\n",
    "dupes = sales.loc[sales.duplicated(subset=['shop_id','item_id','date'], keep=False), :]\n",
    "dupes.head()"
   ]
  },
  {
   "cell_type": "code",
   "execution_count": 7,
   "metadata": {},
   "outputs": [
    {
     "data": {
      "text/html": [
       "<div>\n",
       "<style scoped>\n",
       "    .dataframe tbody tr th:only-of-type {\n",
       "        vertical-align: middle;\n",
       "    }\n",
       "\n",
       "    .dataframe tbody tr th {\n",
       "        vertical-align: top;\n",
       "    }\n",
       "\n",
       "    .dataframe thead th {\n",
       "        text-align: right;\n",
       "    }\n",
       "</style>\n",
       "<table border=\"1\" class=\"dataframe\">\n",
       "  <thead>\n",
       "    <tr style=\"text-align: right;\">\n",
       "      <th></th>\n",
       "      <th>date</th>\n",
       "      <th>date_block_num</th>\n",
       "      <th>shop_id</th>\n",
       "      <th>item_id</th>\n",
       "      <th>item_price</th>\n",
       "      <th>item_cnt_day</th>\n",
       "    </tr>\n",
       "  </thead>\n",
       "  <tbody>\n",
       "    <tr>\n",
       "      <th>103463</th>\n",
       "      <td>2013-01-27</td>\n",
       "      <td>0</td>\n",
       "      <td>38</td>\n",
       "      <td>15702</td>\n",
       "      <td>149.00</td>\n",
       "      <td>-1.0</td>\n",
       "    </tr>\n",
       "    <tr>\n",
       "      <th>1154620</th>\n",
       "      <td>2013-12-29</td>\n",
       "      <td>11</td>\n",
       "      <td>27</td>\n",
       "      <td>12133</td>\n",
       "      <td>669.00</td>\n",
       "      <td>2.0</td>\n",
       "    </tr>\n",
       "    <tr>\n",
       "      <th>2272100</th>\n",
       "      <td>2014-12-26</td>\n",
       "      <td>23</td>\n",
       "      <td>17</td>\n",
       "      <td>3424</td>\n",
       "      <td>999.00</td>\n",
       "      <td>2.0</td>\n",
       "    </tr>\n",
       "    <tr>\n",
       "      <th>2456815</th>\n",
       "      <td>2015-02-17</td>\n",
       "      <td>25</td>\n",
       "      <td>5</td>\n",
       "      <td>21619</td>\n",
       "      <td>332.66</td>\n",
       "      <td>-1.0</td>\n",
       "    </tr>\n",
       "  </tbody>\n",
       "</table>\n",
       "</div>"
      ],
      "text/plain": [
       "              date  date_block_num  shop_id  item_id  item_price  item_cnt_day\n",
       "103463  2013-01-27               0       38    15702      149.00          -1.0\n",
       "1154620 2013-12-29              11       27    12133      669.00           2.0\n",
       "2272100 2014-12-26              23       17     3424      999.00           2.0\n",
       "2456815 2015-02-17              25        5    21619      332.66          -1.0"
      ]
     },
     "execution_count": 7,
     "metadata": {},
     "output_type": "execute_result"
    }
   ],
   "source": [
    "# Check how often quantity sold was not 1\n",
    "dupes[dupes.item_cnt_day != 1.0]"
   ]
  },
  {
   "cell_type": "code",
   "execution_count": 8,
   "metadata": {},
   "outputs": [
    {
     "data": {
      "text/html": [
       "<div>\n",
       "<style scoped>\n",
       "    .dataframe tbody tr th:only-of-type {\n",
       "        vertical-align: middle;\n",
       "    }\n",
       "\n",
       "    .dataframe tbody tr th {\n",
       "        vertical-align: top;\n",
       "    }\n",
       "\n",
       "    .dataframe thead th {\n",
       "        text-align: right;\n",
       "    }\n",
       "</style>\n",
       "<table border=\"1\" class=\"dataframe\">\n",
       "  <thead>\n",
       "    <tr style=\"text-align: right;\">\n",
       "      <th></th>\n",
       "      <th>date</th>\n",
       "      <th>date_block_num</th>\n",
       "      <th>shop_id</th>\n",
       "      <th>item_id</th>\n",
       "      <th>item_price</th>\n",
       "      <th>item_cnt_day</th>\n",
       "    </tr>\n",
       "  </thead>\n",
       "  <tbody>\n",
       "    <tr>\n",
       "      <th>103461</th>\n",
       "      <td>2013-01-27</td>\n",
       "      <td>0</td>\n",
       "      <td>38</td>\n",
       "      <td>15702</td>\n",
       "      <td>549.0</td>\n",
       "      <td>1.0</td>\n",
       "    </tr>\n",
       "    <tr>\n",
       "      <th>103463</th>\n",
       "      <td>2013-01-27</td>\n",
       "      <td>0</td>\n",
       "      <td>38</td>\n",
       "      <td>15702</td>\n",
       "      <td>149.0</td>\n",
       "      <td>-1.0</td>\n",
       "    </tr>\n",
       "  </tbody>\n",
       "</table>\n",
       "</div>"
      ],
      "text/plain": [
       "             date  date_block_num  shop_id  item_id  item_price  item_cnt_day\n",
       "103461 2013-01-27               0       38    15702       549.0           1.0\n",
       "103463 2013-01-27               0       38    15702       149.0          -1.0"
      ]
     },
     "execution_count": 8,
     "metadata": {},
     "output_type": "execute_result"
    }
   ],
   "source": [
    "# Look into shop-item-date combos with multiple quantities when one quantity was negative\n",
    "dupes[(dupes.shop_id == 38) & (dupes.item_id == 15702)]"
   ]
  },
  {
   "cell_type": "code",
   "execution_count": 9,
   "metadata": {},
   "outputs": [
    {
     "data": {
      "text/html": [
       "<div>\n",
       "<style scoped>\n",
       "    .dataframe tbody tr th:only-of-type {\n",
       "        vertical-align: middle;\n",
       "    }\n",
       "\n",
       "    .dataframe tbody tr th {\n",
       "        vertical-align: top;\n",
       "    }\n",
       "\n",
       "    .dataframe thead th {\n",
       "        text-align: right;\n",
       "    }\n",
       "</style>\n",
       "<table border=\"1\" class=\"dataframe\">\n",
       "  <thead>\n",
       "    <tr style=\"text-align: right;\">\n",
       "      <th></th>\n",
       "      <th>date</th>\n",
       "      <th>date_block_num</th>\n",
       "      <th>shop_id</th>\n",
       "      <th>item_id</th>\n",
       "      <th>item_price</th>\n",
       "      <th>item_cnt_day</th>\n",
       "    </tr>\n",
       "  </thead>\n",
       "  <tbody>\n",
       "    <tr>\n",
       "      <th>2456813</th>\n",
       "      <td>2015-02-17</td>\n",
       "      <td>25</td>\n",
       "      <td>5</td>\n",
       "      <td>21619</td>\n",
       "      <td>499.00</td>\n",
       "      <td>1.0</td>\n",
       "    </tr>\n",
       "    <tr>\n",
       "      <th>2456815</th>\n",
       "      <td>2015-02-17</td>\n",
       "      <td>25</td>\n",
       "      <td>5</td>\n",
       "      <td>21619</td>\n",
       "      <td>332.66</td>\n",
       "      <td>-1.0</td>\n",
       "    </tr>\n",
       "  </tbody>\n",
       "</table>\n",
       "</div>"
      ],
      "text/plain": [
       "              date  date_block_num  shop_id  item_id  item_price  item_cnt_day\n",
       "2456813 2015-02-17              25        5    21619      499.00           1.0\n",
       "2456815 2015-02-17              25        5    21619      332.66          -1.0"
      ]
     },
     "execution_count": 9,
     "metadata": {},
     "output_type": "execute_result"
    }
   ],
   "source": [
    "dupes[(dupes.shop_id == 5) & (dupes.item_id == 21619)]"
   ]
  },
  {
   "cell_type": "code",
   "execution_count": 10,
   "metadata": {},
   "outputs": [],
   "source": [
    "# Just remove these two pairs of shop-item-dates\n",
    "dupes = dupes[~((dupes.shop_id == 38) & (dupes.item_id == 15702)) & ~((dupes.shop_id == 5) & (dupes.item_id == 21619))]"
   ]
  },
  {
   "cell_type": "code",
   "execution_count": 11,
   "metadata": {},
   "outputs": [],
   "source": [
    "# combine remaining shop-item-date-price level values into shop-item-date level values\n",
    "# by summing the quantity sold and taking the weighted average of price (weighted by quantity)\n",
    "\n",
    "# Define a lambda function to compute the weighted mean:\n",
    "wm = lambda x: np.average(x, weights=dupes.loc[x.index, \"item_cnt_day\"])\n",
    "\n",
    "dupes = dupes.groupby(['shop_id','item_id','date','date_block_num']).agg({'item_cnt_day':'sum', 'item_price': wm}).reset_index()"
   ]
  },
  {
   "cell_type": "code",
   "execution_count": 12,
   "metadata": {},
   "outputs": [
    {
     "data": {
      "text/html": [
       "<div>\n",
       "<style scoped>\n",
       "    .dataframe tbody tr th:only-of-type {\n",
       "        vertical-align: middle;\n",
       "    }\n",
       "\n",
       "    .dataframe tbody tr th {\n",
       "        vertical-align: top;\n",
       "    }\n",
       "\n",
       "    .dataframe thead th {\n",
       "        text-align: right;\n",
       "    }\n",
       "</style>\n",
       "<table border=\"1\" class=\"dataframe\">\n",
       "  <thead>\n",
       "    <tr style=\"text-align: right;\">\n",
       "      <th></th>\n",
       "      <th>shop_id</th>\n",
       "      <th>item_id</th>\n",
       "      <th>date</th>\n",
       "      <th>date_block_num</th>\n",
       "      <th>item_cnt_day</th>\n",
       "      <th>item_price</th>\n",
       "    </tr>\n",
       "  </thead>\n",
       "  <tbody>\n",
       "    <tr>\n",
       "      <th>0</th>\n",
       "      <td>12</td>\n",
       "      <td>21619</td>\n",
       "      <td>2015-10-07</td>\n",
       "      <td>33</td>\n",
       "      <td>2.0</td>\n",
       "      <td>449.000000</td>\n",
       "    </tr>\n",
       "    <tr>\n",
       "      <th>1</th>\n",
       "      <td>16</td>\n",
       "      <td>12133</td>\n",
       "      <td>2013-03-02</td>\n",
       "      <td>2</td>\n",
       "      <td>2.0</td>\n",
       "      <td>1139.000000</td>\n",
       "    </tr>\n",
       "    <tr>\n",
       "      <th>2</th>\n",
       "      <td>16</td>\n",
       "      <td>15702</td>\n",
       "      <td>2013-02-18</td>\n",
       "      <td>1</td>\n",
       "      <td>2.0</td>\n",
       "      <td>349.000000</td>\n",
       "    </tr>\n",
       "    <tr>\n",
       "      <th>3</th>\n",
       "      <td>17</td>\n",
       "      <td>3424</td>\n",
       "      <td>2014-12-26</td>\n",
       "      <td>23</td>\n",
       "      <td>3.0</td>\n",
       "      <td>1065.666667</td>\n",
       "    </tr>\n",
       "    <tr>\n",
       "      <th>4</th>\n",
       "      <td>25</td>\n",
       "      <td>12133</td>\n",
       "      <td>2013-01-29</td>\n",
       "      <td>0</td>\n",
       "      <td>2.0</td>\n",
       "      <td>1139.000000</td>\n",
       "    </tr>\n",
       "  </tbody>\n",
       "</table>\n",
       "</div>"
      ],
      "text/plain": [
       "   shop_id  item_id       date  date_block_num  item_cnt_day   item_price\n",
       "0       12    21619 2015-10-07              33           2.0   449.000000\n",
       "1       16    12133 2013-03-02               2           2.0  1139.000000\n",
       "2       16    15702 2013-02-18               1           2.0   349.000000\n",
       "3       17     3424 2014-12-26              23           3.0  1065.666667\n",
       "4       25    12133 2013-01-29               0           2.0  1139.000000"
      ]
     },
     "execution_count": 12,
     "metadata": {},
     "output_type": "execute_result"
    }
   ],
   "source": [
    "dupes.head()"
   ]
  },
  {
   "cell_type": "code",
   "execution_count": 13,
   "metadata": {},
   "outputs": [],
   "source": [
    "# remove the manipulated rows from the original dataframe\n",
    "sales.drop_duplicates(subset=['shop_id','item_id','date'], keep=False, inplace=True)\n",
    "\n",
    "# insert the new version of those rows back into the original dataframe\n",
    "sales = pd.concat([sales, dupes], axis=0, sort=True).reset_index(drop=True)"
   ]
  },
  {
   "cell_type": "code",
   "execution_count": 14,
   "metadata": {},
   "outputs": [],
   "source": [
    "# remove row with negative price\n",
    "sales = sales[sales.item_price > 0.]"
   ]
  },
  {
   "cell_type": "code",
   "execution_count": 15,
   "metadata": {},
   "outputs": [
    {
     "data": {
      "text/plain": [
       "(2935818, 6)"
      ]
     },
     "execution_count": 15,
     "metadata": {},
     "output_type": "execute_result"
    }
   ],
   "source": [
    "sales.shape"
   ]
  },
  {
   "cell_type": "markdown",
   "metadata": {},
   "source": [
    "### SHOP-LEVEL FEATURES "
   ]
  },
  {
   "cell_type": "code",
   "execution_count": 152,
   "metadata": {},
   "outputs": [
    {
     "data": {
      "text/html": [
       "<div>\n",
       "<style scoped>\n",
       "    .dataframe tbody tr th:only-of-type {\n",
       "        vertical-align: middle;\n",
       "    }\n",
       "\n",
       "    .dataframe tbody tr th {\n",
       "        vertical-align: top;\n",
       "    }\n",
       "\n",
       "    .dataframe thead th {\n",
       "        text-align: right;\n",
       "    }\n",
       "</style>\n",
       "<table border=\"1\" class=\"dataframe\">\n",
       "  <thead>\n",
       "    <tr style=\"text-align: right;\">\n",
       "      <th></th>\n",
       "      <th>shop_name</th>\n",
       "      <th>shop_id</th>\n",
       "    </tr>\n",
       "  </thead>\n",
       "  <tbody>\n",
       "    <tr>\n",
       "      <th>0</th>\n",
       "      <td>!Якутск Орджоникидзе, 56 фран</td>\n",
       "      <td>0</td>\n",
       "    </tr>\n",
       "    <tr>\n",
       "      <th>1</th>\n",
       "      <td>!Якутск ТЦ \"Центральный\" фран</td>\n",
       "      <td>1</td>\n",
       "    </tr>\n",
       "    <tr>\n",
       "      <th>2</th>\n",
       "      <td>Адыгея ТЦ \"Мега\"</td>\n",
       "      <td>2</td>\n",
       "    </tr>\n",
       "    <tr>\n",
       "      <th>3</th>\n",
       "      <td>Балашиха ТРК \"Октябрь-Киномир\"</td>\n",
       "      <td>3</td>\n",
       "    </tr>\n",
       "    <tr>\n",
       "      <th>4</th>\n",
       "      <td>Волжский ТЦ \"Волга Молл\"</td>\n",
       "      <td>4</td>\n",
       "    </tr>\n",
       "  </tbody>\n",
       "</table>\n",
       "</div>"
      ],
      "text/plain": [
       "                        shop_name  shop_id\n",
       "0   !Якутск Орджоникидзе, 56 фран        0\n",
       "1   !Якутск ТЦ \"Центральный\" фран        1\n",
       "2                Адыгея ТЦ \"Мега\"        2\n",
       "3  Балашиха ТРК \"Октябрь-Киномир\"        3\n",
       "4        Волжский ТЦ \"Волга Молл\"        4"
      ]
     },
     "execution_count": 152,
     "metadata": {},
     "output_type": "execute_result"
    }
   ],
   "source": [
    "shops_df.head()"
   ]
  },
  {
   "cell_type": "code",
   "execution_count": 154,
   "metadata": {},
   "outputs": [],
   "source": [
    "# remove shop_ids 9 and 20 (as they were found to have strange sales trends)\n",
    "shops_df = shops_df[~(shops_df.shop_id.isin([9,20]))]"
   ]
  },
  {
   "cell_type": "code",
   "execution_count": 165,
   "metadata": {},
   "outputs": [],
   "source": [
    "# create city of shop column\n",
    "shops_df.loc[0,'shop_name'] = 'Якутск Орджоникидзе, 56 фран'\n",
    "shops_df.loc[1,'shop_name'] = 'Якутск ТЦ \"Центральный\" фран'"
   ]
  },
  {
   "cell_type": "code",
   "execution_count": 170,
   "metadata": {},
   "outputs": [],
   "source": [
    "shops_df['city'] = shops_df.shop_name.apply(lambda x: x.split()[0])"
   ]
  },
  {
   "cell_type": "code",
   "execution_count": 171,
   "metadata": {},
   "outputs": [
    {
     "data": {
      "text/html": [
       "<div>\n",
       "<style scoped>\n",
       "    .dataframe tbody tr th:only-of-type {\n",
       "        vertical-align: middle;\n",
       "    }\n",
       "\n",
       "    .dataframe tbody tr th {\n",
       "        vertical-align: top;\n",
       "    }\n",
       "\n",
       "    .dataframe thead th {\n",
       "        text-align: right;\n",
       "    }\n",
       "</style>\n",
       "<table border=\"1\" class=\"dataframe\">\n",
       "  <thead>\n",
       "    <tr style=\"text-align: right;\">\n",
       "      <th></th>\n",
       "      <th>shop_name</th>\n",
       "      <th>shop_id</th>\n",
       "      <th>city</th>\n",
       "    </tr>\n",
       "  </thead>\n",
       "  <tbody>\n",
       "    <tr>\n",
       "      <th>0</th>\n",
       "      <td>Якутск Орджоникидзе, 56 фран</td>\n",
       "      <td>0</td>\n",
       "      <td>Якутск</td>\n",
       "    </tr>\n",
       "    <tr>\n",
       "      <th>1</th>\n",
       "      <td>Якутск ТЦ \"Центральный\" фран</td>\n",
       "      <td>1</td>\n",
       "      <td>Якутск</td>\n",
       "    </tr>\n",
       "    <tr>\n",
       "      <th>2</th>\n",
       "      <td>Адыгея ТЦ \"Мега\"</td>\n",
       "      <td>2</td>\n",
       "      <td>Адыгея</td>\n",
       "    </tr>\n",
       "    <tr>\n",
       "      <th>3</th>\n",
       "      <td>Балашиха ТРК \"Октябрь-Киномир\"</td>\n",
       "      <td>3</td>\n",
       "      <td>Балашиха</td>\n",
       "    </tr>\n",
       "    <tr>\n",
       "      <th>4</th>\n",
       "      <td>Волжский ТЦ \"Волга Молл\"</td>\n",
       "      <td>4</td>\n",
       "      <td>Волжский</td>\n",
       "    </tr>\n",
       "  </tbody>\n",
       "</table>\n",
       "</div>"
      ],
      "text/plain": [
       "                        shop_name  shop_id      city\n",
       "0    Якутск Орджоникидзе, 56 фран        0    Якутск\n",
       "1    Якутск ТЦ \"Центральный\" фран        1    Якутск\n",
       "2                Адыгея ТЦ \"Мега\"        2    Адыгея\n",
       "3  Балашиха ТРК \"Октябрь-Киномир\"        3  Балашиха\n",
       "4        Волжский ТЦ \"Волга Молл\"        4  Волжский"
      ]
     },
     "execution_count": 171,
     "metadata": {},
     "output_type": "execute_result"
    }
   ],
   "source": [
    "shops_df.head()"
   ]
  },
  {
   "cell_type": "code",
   "execution_count": 173,
   "metadata": {},
   "outputs": [
    {
     "data": {
      "text/plain": [
       "array(['Якутск', 'Адыгея', 'Балашиха', 'Волжский', 'Вологда', 'Воронеж',\n",
       "       'Жуковский', 'Интернет-магазин', 'Казань', 'Калуга', 'Коломна',\n",
       "       'Красноярск', 'Курск', 'Москва', 'Мытищи', 'Н.Новгород',\n",
       "       'Новосибирск', 'Омск', 'РостовНаДону', 'СПб', 'Самара', 'Сергиев',\n",
       "       'Сургут', 'Томск', 'Тюмень', 'Уфа', 'Химки', 'Цифровой', 'Чехов',\n",
       "       'Ярославль'], dtype=object)"
      ]
     },
     "execution_count": 173,
     "metadata": {},
     "output_type": "execute_result"
    }
   ],
   "source": [
    "shops_df.city.unique()"
   ]
  },
  {
   "cell_type": "code",
   "execution_count": 174,
   "metadata": {},
   "outputs": [
    {
     "data": {
      "text/html": [
       "<div>\n",
       "<style scoped>\n",
       "    .dataframe tbody tr th:only-of-type {\n",
       "        vertical-align: middle;\n",
       "    }\n",
       "\n",
       "    .dataframe tbody tr th {\n",
       "        vertical-align: top;\n",
       "    }\n",
       "\n",
       "    .dataframe thead th {\n",
       "        text-align: right;\n",
       "    }\n",
       "</style>\n",
       "<table border=\"1\" class=\"dataframe\">\n",
       "  <thead>\n",
       "    <tr style=\"text-align: right;\">\n",
       "      <th></th>\n",
       "      <th>shop_name</th>\n",
       "      <th>shop_id</th>\n",
       "      <th>city</th>\n",
       "    </tr>\n",
       "  </thead>\n",
       "  <tbody>\n",
       "    <tr>\n",
       "      <th>55</th>\n",
       "      <td>Цифровой склад 1С-Онлайн</td>\n",
       "      <td>55</td>\n",
       "      <td>Цифровой</td>\n",
       "    </tr>\n",
       "  </tbody>\n",
       "</table>\n",
       "</div>"
      ],
      "text/plain": [
       "                   shop_name  shop_id      city\n",
       "55  Цифровой склад 1С-Онлайн       55  Цифровой"
      ]
     },
     "execution_count": 174,
     "metadata": {},
     "output_type": "execute_result"
    }
   ],
   "source": [
    "shops_df[shops_df.city == 'Цифровой']"
   ]
  },
  {
   "cell_type": "code",
   "execution_count": 175,
   "metadata": {},
   "outputs": [],
   "source": [
    "shops_df.loc[55,'city'] = 'Интернет-магазин'"
   ]
  },
  {
   "cell_type": "code",
   "execution_count": 177,
   "metadata": {},
   "outputs": [
    {
     "data": {
      "text/plain": [
       "array(['Якутск', 'Адыгея', 'Балашиха', 'Волжский', 'Вологда', 'Воронеж',\n",
       "       'Жуковский', 'Интернет-магазин', 'Казань', 'Калуга', 'Коломна',\n",
       "       'Красноярск', 'Курск', 'Москва', 'Мытищи', 'Н.Новгород',\n",
       "       'Новосибирск', 'Омск', 'РостовНаДону', 'СПб', 'Самара', 'Сергиев',\n",
       "       'Сургут', 'Томск', 'Тюмень', 'Уфа', 'Химки', 'Чехов', 'Ярославль'],\n",
       "      dtype=object)"
      ]
     },
     "execution_count": 177,
     "metadata": {},
     "output_type": "execute_result"
    }
   ],
   "source": [
    "shops_df.city.unique()"
   ]
  },
  {
   "cell_type": "code",
   "execution_count": 178,
   "metadata": {},
   "outputs": [],
   "source": [
    "# city populations as of 1/1/2020\n",
    "# (source: https://rosstat.gov.ru/storage/mediabank/CcG8qBhP/mun_obr2020.rar, accessed 11/17/2020):\n",
    "city_pop = [('РостовНаДону', 1137904.0, 47°14′26″ с. ш. 39°42′38″ в. д., UTC+3),\n",
    "            ('Н.Новгород', 1252236.0, 56°19′37″ с. ш. 44°00′27″ в. д., UTC+3),\n",
    "            ('Казань', 1257391.0),\n",
    "            ('Новосибирск', 1625631.0),\n",
    "            ('Воронеж', 1058261.0),\n",
    "            ('Красноярск', 1093771.0),\n",
    "            ('Ярославль', 608353.0),\n",
    "            ('Тюмень', 807271.0),\n",
    "            ('Сургут', 380632.0),\n",
    "            ('Омск', 1154507.0),\n",
    "            ('Волжский', 323906.0),\n",
    "            ('Уфа', 1128787.0),\n",
    "            ('Якутск', 322987.0),\n",
    "            ('Балашиха', 507366.0),\n",
    "            ('Вологда', 310302.0),\n",
    "            ('Жуковский', 107560.0),\n",
    "            ('Калуга', 332039.0),\n",
    "            ('Коломна', 140129.0),\n",
    "            ('Курск', 452976.0),\n",
    "            ('Москва', 12480481.0),\n",
    "            ('Мытищи', 235504.0),\n",
    "            ('СПб', 5398064.0),\n",
    "            ('Самара', 1156659.0),\n",
    "            ('Сергиев', 100335.0),\n",
    "            ('Томск', 576624.0),\n",
    "            ('Химки', 259550.0),\n",
    "            ('Чехов', 73321.0),\n",
    "            ('Адыгея', 932629.0)]"
   ]
  },
  {
   "cell_type": "markdown",
   "metadata": {},
   "source": [
    "### ITEM-LEVEL FEATURES"
   ]
  },
  {
   "cell_type": "code",
   "execution_count": 16,
   "metadata": {},
   "outputs": [],
   "source": [
    "# Calculate the coefficient of variation of price for each item separately\n",
    "item_level_features = (sales.groupby('item_id')['item_price'].agg(variation)\n",
    "                       .reset_index().rename(columns={'item_price':'coef_var_price'}))"
   ]
  },
  {
   "cell_type": "code",
   "execution_count": 17,
   "metadata": {},
   "outputs": [],
   "source": [
    "# Calculate the mean absolute deviation of quantity sold for each item\n",
    "item_level_features['quant_mean_abs_dev'] = sales.groupby('item_id')['item_cnt_day'].mad().values"
   ]
  },
  {
   "cell_type": "code",
   "execution_count": 149,
   "metadata": {},
   "outputs": [
    {
     "data": {
      "text/html": [
       "<div>\n",
       "<style scoped>\n",
       "    .dataframe tbody tr th:only-of-type {\n",
       "        vertical-align: middle;\n",
       "    }\n",
       "\n",
       "    .dataframe tbody tr th {\n",
       "        vertical-align: top;\n",
       "    }\n",
       "\n",
       "    .dataframe thead th {\n",
       "        text-align: right;\n",
       "    }\n",
       "</style>\n",
       "<table border=\"1\" class=\"dataframe\">\n",
       "  <thead>\n",
       "    <tr style=\"text-align: right;\">\n",
       "      <th></th>\n",
       "      <th>item_id</th>\n",
       "      <th>coef_var_price</th>\n",
       "      <th>quant_mean_abs_dev</th>\n",
       "      <th>item_name</th>\n",
       "      <th>item_category_id</th>\n",
       "      <th>item_category_name</th>\n",
       "    </tr>\n",
       "  </thead>\n",
       "  <tbody>\n",
       "    <tr>\n",
       "      <th>0</th>\n",
       "      <td>0</td>\n",
       "      <td>0.000000</td>\n",
       "      <td>0.0</td>\n",
       "      <td>! ВО ВЛАСТИ НАВАЖДЕНИЯ (ПЛАСТ.)         D</td>\n",
       "      <td>40</td>\n",
       "      <td>Кино - DVD</td>\n",
       "    </tr>\n",
       "    <tr>\n",
       "      <th>1</th>\n",
       "      <td>1</td>\n",
       "      <td>0.000000</td>\n",
       "      <td>0.0</td>\n",
       "      <td>!ABBYY FineReader 12 Professional Edition Full...</td>\n",
       "      <td>76</td>\n",
       "      <td>Программы - Для дома и офиса (Цифра)</td>\n",
       "    </tr>\n",
       "    <tr>\n",
       "      <th>2</th>\n",
       "      <td>2</td>\n",
       "      <td>0.000000</td>\n",
       "      <td>0.0</td>\n",
       "      <td>***В ЛУЧАХ СЛАВЫ   (UNV)                    D</td>\n",
       "      <td>40</td>\n",
       "      <td>Кино - DVD</td>\n",
       "    </tr>\n",
       "    <tr>\n",
       "      <th>3</th>\n",
       "      <td>3</td>\n",
       "      <td>0.265823</td>\n",
       "      <td>0.0</td>\n",
       "      <td>***ГОЛУБАЯ ВОЛНА  (Univ)                      D</td>\n",
       "      <td>40</td>\n",
       "      <td>Кино - DVD</td>\n",
       "    </tr>\n",
       "    <tr>\n",
       "      <th>4</th>\n",
       "      <td>4</td>\n",
       "      <td>0.000000</td>\n",
       "      <td>0.0</td>\n",
       "      <td>***КОРОБКА (СТЕКЛО)                       D</td>\n",
       "      <td>40</td>\n",
       "      <td>Кино - DVD</td>\n",
       "    </tr>\n",
       "  </tbody>\n",
       "</table>\n",
       "</div>"
      ],
      "text/plain": [
       "   item_id  coef_var_price  quant_mean_abs_dev  \\\n",
       "0        0        0.000000                 0.0   \n",
       "1        1        0.000000                 0.0   \n",
       "2        2        0.000000                 0.0   \n",
       "3        3        0.265823                 0.0   \n",
       "4        4        0.000000                 0.0   \n",
       "\n",
       "                                           item_name  item_category_id  \\\n",
       "0          ! ВО ВЛАСТИ НАВАЖДЕНИЯ (ПЛАСТ.)         D                40   \n",
       "1  !ABBYY FineReader 12 Professional Edition Full...                76   \n",
       "2      ***В ЛУЧАХ СЛАВЫ   (UNV)                    D                40   \n",
       "3    ***ГОЛУБАЯ ВОЛНА  (Univ)                      D                40   \n",
       "4        ***КОРОБКА (СТЕКЛО)                       D                40   \n",
       "\n",
       "                     item_category_name  \n",
       "0                            Кино - DVD  \n",
       "1  Программы - Для дома и офиса (Цифра)  \n",
       "2                            Кино - DVD  \n",
       "3                            Кино - DVD  \n",
       "4                            Кино - DVD  "
      ]
     },
     "execution_count": 149,
     "metadata": {},
     "output_type": "execute_result"
    }
   ],
   "source": [
    "# Add item_name, item_category_id, item_category_name columns\n",
    "item_level_features = item_level_features.merge(items_df, on='item_id', how='left')\n",
    "item_level_features = item_level_features.merge(categories_df, on='item_category_id', how='left')\n",
    "item_level_features.head()"
   ]
  },
  {
   "cell_type": "code",
   "execution_count": 151,
   "metadata": {},
   "outputs": [],
   "source": [
    "# Create broad category name column\n",
    "item_level_features['item_category_broad'] = item_level_features.item_category_name.apply(lambda x: x.split()[0])"
   ]
  },
  {
   "cell_type": "markdown",
   "metadata": {},
   "source": [
    "### DATE-LEVEL FEATURES"
   ]
  },
  {
   "cell_type": "code",
   "execution_count": 18,
   "metadata": {},
   "outputs": [],
   "source": [
    "# create column with dates from start to end of training period\n",
    "date_level_features = (sales[['date','date_block_num']].drop_duplicates(subset=['date','date_block_num']) \\\n",
    "                       .sort_values(by='date').reset_index(drop=True))"
   ]
  },
  {
   "cell_type": "code",
   "execution_count": 19,
   "metadata": {},
   "outputs": [],
   "source": [
    "# create year column\n",
    "date_level_features['year'] = date_level_features.date.dt.year.astype('category')"
   ]
  },
  {
   "cell_type": "code",
   "execution_count": 20,
   "metadata": {},
   "outputs": [],
   "source": [
    "# create month column\n",
    "date_level_features['month'] = date_level_features.date_block_num % 12"
   ]
  },
  {
   "cell_type": "code",
   "execution_count": 21,
   "metadata": {},
   "outputs": [],
   "source": [
    "# create days in month column\n",
    "days = pd.Series([31,28,31,30,31,30,31,31,30,31,30,31])\n",
    "date_level_features['days_in_mon'] = date_level_features['month'].map(days).astype(np.int8)"
   ]
  },
  {
   "cell_type": "code",
   "execution_count": 22,
   "metadata": {},
   "outputs": [],
   "source": [
    "# create sine and cosine of month columns\n",
    "date_level_features['month_sin'] = np.sin((date_level_features.month)*(2.*np.pi/12))\n",
    "date_level_features['month_cos'] = np.cos((date_level_features.month)*(2.*np.pi/12))"
   ]
  },
  {
   "cell_type": "code",
   "execution_count": 23,
   "metadata": {},
   "outputs": [],
   "source": [
    "# create day of week column\n",
    "date_level_features['day_of_week'] = date_level_features.date.dt.weekday"
   ]
  },
  {
   "cell_type": "code",
   "execution_count": 24,
   "metadata": {},
   "outputs": [],
   "source": [
    "# create sine and cosine of day of week columns\n",
    "date_level_features['dow_sin'] = np.sin((date_level_features.day_of_week)*(2.*np.pi/7))\n",
    "date_level_features['dow_cos'] = np.cos((date_level_features.day_of_week)*(2.*np.pi/7))"
   ]
  },
  {
   "cell_type": "code",
   "execution_count": 25,
   "metadata": {},
   "outputs": [],
   "source": [
    "# create indicator column for weekend days\n",
    "date_level_features['is_weekend'] = np.where(date_level_features.day_of_week < 5., 0, 1)"
   ]
  },
  {
   "cell_type": "code",
   "execution_count": 26,
   "metadata": {},
   "outputs": [],
   "source": [
    "# create quarter of year column\n",
    "date_level_features['quarter_of_year'] = date_level_features.date.dt.quarter"
   ]
  },
  {
   "cell_type": "code",
   "execution_count": 27,
   "metadata": {},
   "outputs": [],
   "source": [
    "# create sine and cosine of quarter of year columns\n",
    "date_level_features['qoy_sin'] = np.sin((date_level_features.quarter_of_year)*(2.*np.pi/4))\n",
    "date_level_features['qoy_cos'] = np.cos((date_level_features.quarter_of_year)*(2.*np.pi/4))"
   ]
  },
  {
   "cell_type": "code",
   "execution_count": 143,
   "metadata": {},
   "outputs": [],
   "source": [
    "# create continuous quarter of year column\n",
    "date_level_features['quarter_counter'] = (date_level_features.date_block_num // 3) + 1"
   ]
  },
  {
   "cell_type": "code",
   "execution_count": 31,
   "metadata": {},
   "outputs": [],
   "source": [
    "# create week of year column\n",
    "date_level_features['week_of_year'] = date_level_features.date.dt.isocalendar().week"
   ]
  },
  {
   "cell_type": "code",
   "execution_count": 32,
   "metadata": {},
   "outputs": [],
   "source": [
    "# create sine and cosine of week of year columns\n",
    "date_level_features['woy_sin'] = np.sin((date_level_features.week_of_year)*(2.*np.pi/52))\n",
    "date_level_features['woy_cos'] = np.cos((date_level_features.week_of_year)*(2.*np.pi/52))"
   ]
  },
  {
   "cell_type": "code",
   "execution_count": 35,
   "metadata": {},
   "outputs": [
    {
     "name": "stdout",
     "output_type": "stream",
     "text": [
      "2013-01-01 Новый год\n",
      "2013-01-02 Новый год\n",
      "2013-01-03 Новый год\n",
      "2013-01-04 Новый год\n",
      "2013-01-05 Новый год\n",
      "2013-01-06 Новый год\n",
      "2013-01-07 Православное Рождество\n",
      "2013-01-08 Новый год\n",
      "2013-02-23 День защитника отечества\n",
      "2013-03-08 День женщин\n",
      "2013-05-01 Праздник Весны и Труда\n",
      "2013-05-09 День Победы\n",
      "2013-06-12 День России\n",
      "2013-11-04 День народного единства\n",
      "2014-01-01 Новый год\n",
      "2014-01-02 Новый год\n",
      "2014-01-03 Новый год\n",
      "2014-01-04 Новый год\n",
      "2014-01-05 Новый год\n",
      "2014-01-06 Новый год\n",
      "2014-01-07 Православное Рождество\n",
      "2014-01-08 Новый год\n",
      "2014-02-23 День защитника отечества\n",
      "2014-03-08 День женщин\n",
      "2014-05-01 Праздник Весны и Труда\n",
      "2014-05-09 День Победы\n",
      "2014-06-12 День России\n",
      "2014-11-04 День народного единства\n",
      "2015-01-01 Новый год\n",
      "2015-01-02 Новый год\n",
      "2015-01-03 Новый год\n",
      "2015-01-04 Новый год\n",
      "2015-01-05 Новый год\n",
      "2015-01-06 Новый год\n",
      "2015-01-07 Православное Рождество\n",
      "2015-01-08 Новый год\n",
      "2015-02-23 День защитника отечества\n",
      "2015-03-08 День женщин\n",
      "2015-05-01 Праздник Весны и Труда\n",
      "2015-05-09 День Победы\n",
      "2015-06-12 День России\n",
      "2015-11-04 День народного единства\n"
     ]
    }
   ],
   "source": [
    "# Russian public holidays in 2013, 2014 and 2015\n",
    "for date, name in sorted(holidays.Russia(years=[2013,2014,2015]).items()):\n",
    "    print(date, name)"
   ]
  },
  {
   "cell_type": "code",
   "execution_count": 39,
   "metadata": {},
   "outputs": [],
   "source": [
    "public_holidays = holidays.Russia(years=[2013,2014,2015])"
   ]
  },
  {
   "cell_type": "code",
   "execution_count": 42,
   "metadata": {},
   "outputs": [],
   "source": [
    "# create indicator column for whether date is a public holiday\n",
    "date_level_features['holiday'] = date_level_features.date.isin(public_holidays).astype(np.int8)"
   ]
  },
  {
   "cell_type": "code",
   "execution_count": 43,
   "metadata": {},
   "outputs": [
    {
     "data": {
      "text/plain": [
       "0    993\n",
       "1     41\n",
       "Name: holiday, dtype: int64"
      ]
     },
     "execution_count": 43,
     "metadata": {},
     "output_type": "execute_result"
    }
   ],
   "source": [
    "date_level_features.holiday.value_counts()"
   ]
  },
  {
   "cell_type": "code",
   "execution_count": 48,
   "metadata": {},
   "outputs": [],
   "source": [
    "# create indicator column for major events\n",
    "olympics = pd.date_range(start='2/7/2014', end='2/23/2014').to_series().values\n",
    "world_cup = pd.date_range(start='6/12/2014', end='7/13/2014').to_series().values\n",
    "major_events = np.concatenate([olympics, world_cup])"
   ]
  },
  {
   "cell_type": "code",
   "execution_count": 52,
   "metadata": {},
   "outputs": [
    {
     "data": {
      "text/plain": [
       "0    985\n",
       "1     49\n",
       "Name: major_event, dtype: int64"
      ]
     },
     "execution_count": 52,
     "metadata": {},
     "output_type": "execute_result"
    }
   ],
   "source": [
    "date_level_features['major_event'] = date_level_features.date.isin(major_events).astype(np.int8)\n",
    "date_level_features.major_event.value_counts()"
   ]
  },
  {
   "cell_type": "code",
   "execution_count": 67,
   "metadata": {},
   "outputs": [],
   "source": [
    "# convert the date column in macro_df from string to datetime type\n",
    "macro_df['date'] = pd.to_datetime(macro_df.timestamp)"
   ]
  },
  {
   "cell_type": "code",
   "execution_count": 70,
   "metadata": {},
   "outputs": [],
   "source": [
    "# subset macro_df dataset to relevant period\n",
    "macro_df_2013_2015 = macro_df[(macro_df.date >= datetime.datetime(2013, 1, 1)) \n",
    "                              & (macro_df.date <= datetime.datetime(2015, 11, 30))]"
   ]
  },
  {
   "cell_type": "code",
   "execution_count": 136,
   "metadata": {},
   "outputs": [
    {
     "data": {
      "text/plain": [
       "array(['timestamp', 'oil_urals', 'gdp_quart', 'gdp_quart_growth', 'cpi',\n",
       "       'ppi', 'gdp_deflator', 'balance_trade', 'balance_trade_growth',\n",
       "       'usdrub', 'eurrub', 'brent', 'net_capital_export', 'gdp_annual',\n",
       "       'gdp_annual_growth', 'average_provision_of_build_contract',\n",
       "       'average_provision_of_build_contract_moscow', 'rts', 'micex',\n",
       "       'micex_rgbi_tr', 'micex_cbi_tr', 'deposits_value',\n",
       "       'deposits_growth', 'deposits_rate', 'mortgage_value',\n",
       "       'mortgage_growth', 'mortgage_rate', 'income_per_cap', 'salary',\n",
       "       'salary_growth', 'fixed_basket', 'retail_trade_turnover',\n",
       "       'retail_trade_turnover_per_cap', 'retail_trade_turnover_growth',\n",
       "       'labor_force', 'unemployment', 'employment',\n",
       "       'invest_fixed_capital_per_cap', 'invest_fixed_assets',\n",
       "       'pop_natural_increase', 'childbirth', 'mortality',\n",
       "       'average_life_exp', 'rent_price_4+room_bus',\n",
       "       'rent_price_3room_bus', 'rent_price_2room_bus',\n",
       "       'rent_price_1room_bus', 'rent_price_3room_eco',\n",
       "       'rent_price_2room_eco', 'rent_price_1room_eco',\n",
       "       'load_of_teachers_school_per_teacher', 'students_state_oneshift',\n",
       "       'modern_education_share', 'old_education_build_share',\n",
       "       'provision_nurse', 'load_on_doctors', 'turnover_catering_per_cap',\n",
       "       'seats_theather_rfmin_per_100000_cap', 'bandwidth_sports',\n",
       "       'apartment_fund_sqm', 'date'], dtype=object)"
      ]
     },
     "execution_count": 136,
     "metadata": {},
     "output_type": "execute_result"
    }
   ],
   "source": [
    "# identify columns in macro_df dataset that have no null values\n",
    "macro_nulls = macro_df_2013_2015.isnull().sum(axis=0).reset_index().rename(columns={'index':'column', 0:'count'})\n",
    "cols_wo_nulls = np.array(macro_nulls[macro_nulls['count'] == 0]['column'])\n",
    "cols_wo_nulls"
   ]
  },
  {
   "cell_type": "markdown",
   "metadata": {},
   "source": [
    "Frequency of update of each of these columns:  \n",
    "\n",
    "**daily**: brent, usdrub, eurrub, rts, micex, micex_cbi_tr, micex_rgbi_tr  \n",
    "**monthly**: oil_urals, cpi, ppi, balance_trade, balance_trade_growth (only 12 unique), deposits_value, deposits_growth, deposits_rate, mortgage_value, mortgage_growth, mortgage_rate, income_per_cap, fixed_basket, rent_price_4+room_bus, rent_price_3room_bus, rent_price_2room_bus, rent_price_1room_bus, rent_price_3room_eco, rent_price_2room_eco, rent_price_1room_eco  \n",
    "**quarterly**: average_provision_of_build_contract, average_provision_of_build_contract_moscow, gdp_quart, gdp_quart_growth  \n",
    "**annual**: gdp_deflator, gdp_annual, gdp_annual_growth, salary, salary_growth, retail_trade_turnover, retail_trade_turnover_growth, retail_trade_turnover_per_cap, labor_force, unemployment, employment, invest_fixed_capital_per_cap, invest_fixed_assets, pop_natural_increase, childbirth, mortality, average_life_exp, load_of_teachers_school_per_teacher, students_state_oneshift, modern_education_share, old_education_build_share, provision_nurse, load_on_doctors, turnover_catering_per_cap, seats_theather_rfmin_per_100000_cap, bandwidth_sports, apartment_fund_sqm"
   ]
  },
  {
   "cell_type": "code",
   "execution_count": 138,
   "metadata": {},
   "outputs": [],
   "source": [
    "# add these columns to the date_level_features dataframe\n",
    "cols_wo_nulls = cols_wo_nulls[cols_wo_nulls != 'timestamp']\n",
    "date_level_features = date_level_features.merge(macro_df_2013_2015[cols_wo_nulls], on='date', how='left')"
   ]
  },
  {
   "cell_type": "code",
   "execution_count": null,
   "metadata": {},
   "outputs": [],
   "source": []
  },
  {
   "cell_type": "markdown",
   "metadata": {},
   "source": [
    "### ITEM-DATE-LEVEL FEATURES"
   ]
  },
  {
   "cell_type": "code",
   "execution_count": null,
   "metadata": {},
   "outputs": [],
   "source": []
  },
  {
   "cell_type": "markdown",
   "metadata": {},
   "source": [
    "### SHOP-DATE-LEVEL FEATURES"
   ]
  },
  {
   "cell_type": "code",
   "execution_count": null,
   "metadata": {},
   "outputs": [],
   "source": []
  },
  {
   "cell_type": "markdown",
   "metadata": {},
   "source": [
    "### SHOP-ITEM-LEVEL FEATURES "
   ]
  },
  {
   "cell_type": "code",
   "execution_count": null,
   "metadata": {},
   "outputs": [],
   "source": []
  },
  {
   "cell_type": "markdown",
   "metadata": {},
   "source": [
    "### SHOP-ITEM-DATE-LEVEL FEATURES"
   ]
  },
  {
   "cell_type": "code",
   "execution_count": null,
   "metadata": {},
   "outputs": [],
   "source": []
  }
 ],
 "metadata": {
  "kernelspec": {
   "display_name": "Python 3",
   "language": "python",
   "name": "python3"
  },
  "language_info": {
   "codemirror_mode": {
    "name": "ipython",
    "version": 3
   },
   "file_extension": ".py",
   "mimetype": "text/x-python",
   "name": "python",
   "nbconvert_exporter": "python",
   "pygments_lexer": "ipython3",
   "version": "3.6.10"
  },
  "toc": {
   "base_numbering": 1,
   "nav_menu": {},
   "number_sections": true,
   "sideBar": true,
   "skip_h1_title": false,
   "title_cell": "Table of Contents",
   "title_sidebar": "Contents",
   "toc_cell": true,
   "toc_position": {},
   "toc_section_display": true,
   "toc_window_display": false
  }
 },
 "nbformat": 4,
 "nbformat_minor": 2
}
